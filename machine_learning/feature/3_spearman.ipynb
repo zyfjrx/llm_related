{
 "cells": [
  {
   "cell_type": "code",
   "id": "initial_id",
   "metadata": {
    "collapsed": true,
    "ExecuteTime": {
     "end_time": "2025-05-13T01:12:17.005529Z",
     "start_time": "2025-05-13T01:12:17.004055Z"
    }
   },
   "source": "import pandas as pd",
   "outputs": [],
   "execution_count": 1
  },
  {
   "metadata": {
    "ExecuteTime": {
     "end_time": "2025-05-13T01:12:36.284014Z",
     "start_time": "2025-05-13T01:12:36.281216Z"
    }
   },
   "cell_type": "code",
   "source": [
    "# 每周学习时长\n",
    "X = [[5], [8], [10], [12], [15], [3], [7], [9], [14], [6]]\n",
    "# 数学考试成绩\n",
    "y = [55, 65, 70, 75, 85, 50, 60, 72, 80, 58]"
   ],
   "id": "1ea34e4d819d3bd0",
   "outputs": [],
   "execution_count": 2
  },
  {
   "metadata": {
    "ExecuteTime": {
     "end_time": "2025-05-13T01:13:21.821429Z",
     "start_time": "2025-05-13T01:13:21.817994Z"
    }
   },
   "cell_type": "code",
   "source": [
    "X = pd.DataFrame(X)\n",
    "y = pd.Series(y)\n",
    "print(X.shape)\n",
    "print(y.shape)"
   ],
   "id": "69e86f8c9c03bb5f",
   "outputs": [
    {
     "name": "stdout",
     "output_type": "stream",
     "text": [
      "(10, 1)\n",
      "(10,)\n"
     ]
    }
   ],
   "execution_count": 4
  },
  {
   "metadata": {
    "ExecuteTime": {
     "end_time": "2025-05-13T01:13:49.555927Z",
     "start_time": "2025-05-13T01:13:49.551102Z"
    }
   },
   "cell_type": "code",
   "source": "print(X.corrwith(y,method='spearman'))",
   "id": "6567a206416ec0a7",
   "outputs": [
    {
     "name": "stdout",
     "output_type": "stream",
     "text": [
      "0    0.987879\n",
      "dtype: float64\n"
     ]
    }
   ],
   "execution_count": 5
  }
 ],
 "metadata": {
  "kernelspec": {
   "display_name": "Python 3",
   "language": "python",
   "name": "python3"
  },
  "language_info": {
   "codemirror_mode": {
    "name": "ipython",
    "version": 2
   },
   "file_extension": ".py",
   "mimetype": "text/x-python",
   "name": "python",
   "nbconvert_exporter": "python",
   "pygments_lexer": "ipython2",
   "version": "2.7.6"
  }
 },
 "nbformat": 4,
 "nbformat_minor": 5
}
