{
 "cells": [
  {
   "cell_type": "code",
   "id": "initial_id",
   "metadata": {
    "collapsed": true,
    "ExecuteTime": {
     "end_time": "2025-05-22T02:50:10.491747Z",
     "start_time": "2025-05-22T02:50:09.792524Z"
    }
   },
   "source": "from sklearn.preprocessing import MinMaxScaler",
   "outputs": [],
   "execution_count": 1
  },
  {
   "metadata": {
    "ExecuteTime": {
     "end_time": "2025-05-22T02:50:35.838377Z",
     "start_time": "2025-05-22T02:50:35.834710Z"
    }
   },
   "cell_type": "code",
   "source": "X = [[2, 1], [3, 1], [1, 4], [2, 6]]",
   "id": "a5f3020f0659a729",
   "outputs": [],
   "execution_count": 2
  },
  {
   "metadata": {
    "ExecuteTime": {
     "end_time": "2025-05-22T02:54:13.174297Z",
     "start_time": "2025-05-22T02:54:13.169592Z"
    }
   },
   "cell_type": "code",
   "source": "X = MinMaxScaler(feature_range=(-1, 1)).fit_transform(X)",
   "id": "cf58bdcc3c509817",
   "outputs": [],
   "execution_count": 5
  },
  {
   "metadata": {
    "ExecuteTime": {
     "end_time": "2025-05-22T02:54:14.877437Z",
     "start_time": "2025-05-22T02:54:14.874483Z"
    }
   },
   "cell_type": "code",
   "source": "print(X)",
   "id": "f0f85bac40a9d941",
   "outputs": [
    {
     "name": "stdout",
     "output_type": "stream",
     "text": [
      "[[ 0.  -1. ]\n",
      " [ 1.  -1. ]\n",
      " [-1.   0.2]\n",
      " [ 0.   1. ]]\n"
     ]
    }
   ],
   "execution_count": 6
  }
 ],
 "metadata": {
  "kernelspec": {
   "display_name": "Python 3",
   "language": "python",
   "name": "python3"
  },
  "language_info": {
   "codemirror_mode": {
    "name": "ipython",
    "version": 2
   },
   "file_extension": ".py",
   "mimetype": "text/x-python",
   "name": "python",
   "nbconvert_exporter": "python",
   "pygments_lexer": "ipython2",
   "version": "2.7.6"
  }
 },
 "nbformat": 4,
 "nbformat_minor": 5
}
