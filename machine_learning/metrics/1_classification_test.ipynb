{
 "cells": [
  {
   "cell_type": "code",
   "id": "initial_id",
   "metadata": {
    "collapsed": true,
    "ExecuteTime": {
     "end_time": "2025-05-18T07:46:22.503492Z",
     "start_time": "2025-05-18T07:46:22.334908Z"
    }
   },
   "source": [
    "import pandas as pd\n",
    "import seaborn as sns\n",
    "from sklearn.metrics import confusion_matrix"
   ],
   "outputs": [],
   "execution_count": 1
  },
  {
   "metadata": {
    "ExecuteTime": {
     "end_time": "2025-05-18T07:50:42.031830Z",
     "start_time": "2025-05-18T07:50:42.026343Z"
    }
   },
   "cell_type": "code",
   "source": [
    "labels = [\"猫\",\"狗\"]\n",
    "y_true = [\"猫\", \"猫\", \"猫\", \"猫\", \"猫\", \"猫\", \"狗\", \"狗\", \"狗\", \"狗\"]  # 真实值\n",
    "y_pred = [\"猫\", \"猫\", \"狗\", \"猫\", \"猫\", \"猫\", \"猫\", \"猫\", \"狗\", \"狗\"]  # 预测值\n",
    "\n",
    "matrix = confusion_matrix(y_true, y_pred,labels=labels)\n",
    "print(pd.DataFrame(matrix,columns=labels, index=labels))"
   ],
   "id": "c0c7dadbecbcc2c8",
   "outputs": [
    {
     "name": "stdout",
     "output_type": "stream",
     "text": [
      "   猫  狗\n",
      "猫  5  1\n",
      "狗  2  2\n"
     ]
    }
   ],
   "execution_count": 11
  },
  {
   "metadata": {
    "ExecuteTime": {
     "end_time": "2025-05-18T07:52:34.143244Z",
     "start_time": "2025-05-18T07:52:34.081180Z"
    }
   },
   "cell_type": "code",
   "source": "sns.heatmap(matrix,annot=True,fmt=\"d\",cmap=\"Greens\")",
   "id": "1e67cd6883b73142",
   "outputs": [
    {
     "data": {
      "text/plain": [
       "<Axes: >"
      ]
     },
     "execution_count": 15,
     "metadata": {},
     "output_type": "execute_result"
    },
    {
     "data": {
      "text/plain": [
       "<Figure size 640x480 with 2 Axes>"
      ],
      "image/png": "[encoded data removed]"
     },
     "metadata": {},
     "output_type": "display_data"
    }
   ],
   "execution_count": 15
  },
  {
   "metadata": {
    "ExecuteTime": {
     "end_time": "2025-05-18T07:54:51.075291Z",
     "start_time": "2025-05-18T07:54:51.072133Z"
    }
   },
   "cell_type": "code",
   "source": [
    "from sklearn.metrics import accuracy_score\n",
    "# 准确率\n",
    "accuracy = accuracy_score(y_true, y_pred)\n",
    "print(accuracy)"
   ],
   "id": "5317fbda1309bbac",
   "outputs": [
    {
     "name": "stdout",
     "output_type": "stream",
     "text": [
      "0.7\n"
     ]
    }
   ],
   "execution_count": 16
  },
  {
   "metadata": {
    "ExecuteTime": {
     "end_time": "2025-05-18T07:57:39.979418Z",
     "start_time": "2025-05-18T07:57:39.974185Z"
    }
   },
   "cell_type": "code",
   "source": [
    "from sklearn.metrics import precision_score\n",
    "# 精确率（查准率）\n",
    "precision = precision_score(y_true, y_pred,pos_label=\"猫\")\n",
    "print(precision)"
   ],
   "id": "f707bc94c3f40a9f",
   "outputs": [
    {
     "name": "stdout",
     "output_type": "stream",
     "text": [
      "0.7142857142857143\n"
     ]
    }
   ],
   "execution_count": 21
  },
  {
   "metadata": {
    "ExecuteTime": {
     "end_time": "2025-05-18T08:00:25.204443Z",
     "start_time": "2025-05-18T08:00:25.199351Z"
    }
   },
   "cell_type": "code",
   "source": [
    "from sklearn.metrics import recall_score\n",
    "# 召回率（查全率）\n",
    "recall = recall_score(y_true, y_pred,pos_label=\"猫\")\n",
    "print(recall)"
   ],
   "id": "f25dd706bc62da0a",
   "outputs": [
    {
     "name": "stdout",
     "output_type": "stream",
     "text": [
      "0.8333333333333334\n"
     ]
    }
   ],
   "execution_count": 22
  },
  {
   "metadata": {
    "ExecuteTime": {
     "end_time": "2025-05-18T08:13:21.042747Z",
     "start_time": "2025-05-18T08:13:21.038238Z"
    }
   },
   "cell_type": "code",
   "source": [
    "from sklearn.metrics import f1_score\n",
    "f1 = f1_score(y_true, y_pred,pos_label=\"猫\")\n",
    "print(f1)"
   ],
   "id": "c065431fd56aa082",
   "outputs": [
    {
     "name": "stdout",
     "output_type": "stream",
     "text": [
      "0.7692307692307693\n"
     ]
    }
   ],
   "execution_count": 23
  },
  {
   "metadata": {
    "ExecuteTime": {
     "end_time": "2025-05-18T08:23:41.924757Z",
     "start_time": "2025-05-18T08:23:41.916486Z"
    }
   },
   "cell_type": "code",
   "source": [
    "from sklearn.metrics import classification_report\n",
    "report = classification_report(y_true, y_pred,labels=labels)\n",
    "print(report)"
   ],
   "id": "891835d5401af2ed",
   "outputs": [
    {
     "name": "stdout",
     "output_type": "stream",
     "text": [
      "              precision    recall  f1-score   support\n",
      "\n",
      "           猫       0.71      0.83      0.77         6\n",
      "           狗       0.67      0.50      0.57         4\n",
      "\n",
      "    accuracy                           0.70        10\n",
      "   macro avg       0.69      0.67      0.67        10\n",
      "weighted avg       0.70      0.70      0.69        10\n",
      "\n"
     ]
    }
   ],
   "execution_count": 27
  }
 ],
 "metadata": {
  "kernelspec": {
   "display_name": "Python 3",
   "language": "python",
   "name": "python3"
  },
  "language_info": {
   "codemirror_mode": {
    "name": "ipython",
    "version": 2
   },
   "file_extension": ".py",
   "mimetype": "text/x-python",
   "name": "python",
   "nbconvert_exporter": "python",
   "pygments_lexer": "ipython2",
   "version": "2.7.6"
  }
 },
 "nbformat": 4,
 "nbformat_minor": 5
}
