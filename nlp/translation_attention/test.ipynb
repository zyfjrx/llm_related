{
 "cells": [
  {
   "cell_type": "code",
   "id": "initial_id",
   "metadata": {
    "collapsed": true,
    "ExecuteTime": {
     "end_time": "2025-06-27T01:42:10.572766Z",
     "start_time": "2025-06-27T01:42:09.766071Z"
    }
   },
   "source": "import torch",
   "outputs": [],
   "execution_count": 1
  },
  {
   "metadata": {
    "ExecuteTime": {
     "end_time": "2025-06-27T01:42:34.563364Z",
     "start_time": "2025-06-27T01:42:34.559161Z"
    }
   },
   "cell_type": "code",
   "source": [
    "\n",
    "a = torch.rand(2, 3, 4, 5)\n",
    "b = torch.rand_like(a)\n",
    "print(a.shape)\n"
   ],
   "id": "81edb81a79e2ded5",
   "outputs": [
    {
     "name": "stdout",
     "output_type": "stream",
     "text": [
      "torch.Size([2, 3, 4, 5])\n"
     ]
    }
   ],
   "execution_count": 2
  },
  {
   "metadata": {
    "ExecuteTime": {
     "end_time": "2025-06-27T01:44:08.125379Z",
     "start_time": "2025-06-27T01:44:08.119781Z"
    }
   },
   "cell_type": "code",
   "source": [
    "# a[2,3,20]  b[2,20,3]\n",
    "c = torch.bmm(a.view(2, 3, -1), b.view(2, 3, -1).transpose(1, 2))\n",
    "c.shape\n"
   ],
   "id": "63a7a65c7dc8a92d",
   "outputs": [
    {
     "data": {
      "text/plain": [
       "torch.Size([2, 3, 3])"
      ]
     },
     "execution_count": 3,
     "metadata": {},
     "output_type": "execute_result"
    }
   ],
   "execution_count": 3
  },
  {
   "metadata": {
    "ExecuteTime": {
     "end_time": "2025-06-27T01:55:40.061309Z",
     "start_time": "2025-06-27T01:55:40.056879Z"
    }
   },
   "cell_type": "code",
   "source": [
    "tensor1 = torch.randint(1, 9, (2, 3, 6))\n",
    "print(tensor1.shape)\n"
   ],
   "id": "43b64f7da56fc934",
   "outputs": [
    {
     "name": "stdout",
     "output_type": "stream",
     "text": [
      "torch.Size([2, 3, 6])\n"
     ]
    }
   ],
   "execution_count": 5
  },
  {
   "metadata": {
    "ExecuteTime": {
     "end_time": "2025-06-27T01:44:56.476647Z",
     "start_time": "2025-06-27T01:44:56.470685Z"
    }
   },
   "cell_type": "code",
   "source": [
    "d = torch.einsum(\"bist,bjst->bij\", [a, b])\n",
    "d.shape\n"
   ],
   "id": "273904f47e32f723",
   "outputs": [
    {
     "data": {
      "text/plain": [
       "torch.Size([2, 3, 3])"
      ]
     },
     "execution_count": 4,
     "metadata": {},
     "output_type": "execute_result"
    }
   ],
   "execution_count": 4
  },
  {
   "metadata": {
    "ExecuteTime": {
     "end_time": "2025-06-26T05:37:40.970990Z",
     "start_time": "2025-06-26T05:37:40.967684Z"
    }
   },
   "cell_type": "code",
   "source": [
    "input = torch.tensor([1,2,3,4,5])\n",
    "print( input)"
   ],
   "id": "e906a00be7d014f",
   "outputs": [
    {
     "name": "stdout",
     "output_type": "stream",
     "text": [
      "tensor([1, 2, 3, 4, 5])\n"
     ]
    }
   ],
   "execution_count": 10
  },
  {
   "metadata": {
    "ExecuteTime": {
     "end_time": "2025-06-26T05:40:43.558101Z",
     "start_time": "2025-06-26T05:40:43.553840Z"
    }
   },
   "cell_type": "code",
   "source": [
    "x = input[0:1]\n",
    "for t in range(1,5):\n",
    "    print(f'x: {x}')\n",
    "    x = input[t:t+1]\n",
    "print( x)"
   ],
   "id": "d42c1a493f14d80",
   "outputs": [
    {
     "name": "stdout",
     "output_type": "stream",
     "text": [
      "x: tensor([1])\n",
      "x: tensor([2])\n",
      "x: tensor([3])\n",
      "x: tensor([4])\n",
      "tensor([5])\n"
     ]
    }
   ],
   "execution_count": 18
  },
  {
   "metadata": {
    "ExecuteTime": {
     "end_time": "2025-06-26T07:32:24.119102Z",
     "start_time": "2025-06-26T07:32:24.114280Z"
    }
   },
   "cell_type": "code",
   "source": [
    "g = [[1,2,3],[4,5,6,7]]\n",
    "print(g)"
   ],
   "id": "1ee0b7c607674575",
   "outputs": [
    {
     "name": "stdout",
     "output_type": "stream",
     "text": [
      "[[1, 2, 3], [4, 5, 6, 7]]\n"
     ]
    }
   ],
   "execution_count": 19
  },
  {
   "metadata": {
    "ExecuteTime": {
     "end_time": "2025-06-26T07:45:41.172882Z",
     "start_time": "2025-06-26T07:45:41.169048Z"
    }
   },
   "cell_type": "code",
   "source": [
    "tt = torch.Tensor(128,1,10)\n",
    "print(tt.shape)\n",
    "dd = torch.argmax(tt,dim=-1,keepdim=True)\n",
    "print(dd.shape)"
   ],
   "id": "f2621f562173c253",
   "outputs": [
    {
     "name": "stdout",
     "output_type": "stream",
     "text": [
      "torch.Size([128, 1, 10])\n",
      "torch.Size([128, 1, 1])\n"
     ]
    }
   ],
   "execution_count": 27
  },
  {
   "metadata": {
    "ExecuteTime": {
     "end_time": "2025-06-26T07:49:21.198952Z",
     "start_time": "2025-06-26T07:49:21.196287Z"
    }
   },
   "cell_type": "code",
   "source": [
    "is_finished = [False for _ in range(10)]\n",
    "print(is_finished)"
   ],
   "id": "60d760043b3eca56",
   "outputs": [
    {
     "name": "stdout",
     "output_type": "stream",
     "text": [
      "[False, False, False, False, False, False, False, False, False, False]\n"
     ]
    }
   ],
   "execution_count": 28
  }
 ],
 "metadata": {
  "kernelspec": {
   "display_name": "Python 3",
   "language": "python",
   "name": "python3"
  },
  "language_info": {
   "codemirror_mode": {
    "name": "ipython",
    "version": 2
   },
   "file_extension": ".py",
   "mimetype": "text/x-python",
   "name": "python",
   "nbconvert_exporter": "python",
   "pygments_lexer": "ipython2",
   "version": "2.7.6"
  }
 },
 "nbformat": 4,
 "nbformat_minor": 5
}
