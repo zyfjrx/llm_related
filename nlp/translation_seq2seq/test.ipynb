{
 "cells": [
  {
   "cell_type": "code",
   "id": "initial_id",
   "metadata": {
    "collapsed": true,
    "ExecuteTime": {
     "end_time": "2025-06-26T05:35:03.041508Z",
     "start_time": "2025-06-26T05:35:02.336263Z"
    }
   },
   "source": "import torch",
   "outputs": [],
   "execution_count": 1
  },
  {
   "metadata": {
    "ExecuteTime": {
     "end_time": "2025-06-26T05:37:40.970990Z",
     "start_time": "2025-06-26T05:37:40.967684Z"
    }
   },
   "cell_type": "code",
   "source": [
    "input = torch.tensor([1,2,3,4,5])\n",
    "print( input)"
   ],
   "id": "e906a00be7d014f",
   "outputs": [
    {
     "name": "stdout",
     "output_type": "stream",
     "text": [
      "tensor([1, 2, 3, 4, 5])\n"
     ]
    }
   ],
   "execution_count": 10
  },
  {
   "metadata": {
    "ExecuteTime": {
     "end_time": "2025-06-26T05:40:43.558101Z",
     "start_time": "2025-06-26T05:40:43.553840Z"
    }
   },
   "cell_type": "code",
   "source": [
    "x = input[0:1]\n",
    "for t in range(1,5):\n",
    "    print(f'x: {x}')\n",
    "    x = input[t:t+1]\n",
    "print( x)"
   ],
   "id": "d42c1a493f14d80",
   "outputs": [
    {
     "name": "stdout",
     "output_type": "stream",
     "text": [
      "x: tensor([1])\n",
      "x: tensor([2])\n",
      "x: tensor([3])\n",
      "x: tensor([4])\n",
      "tensor([5])\n"
     ]
    }
   ],
   "execution_count": 18
  },
  {
   "metadata": {
    "ExecuteTime": {
     "end_time": "2025-06-26T07:32:24.119102Z",
     "start_time": "2025-06-26T07:32:24.114280Z"
    }
   },
   "cell_type": "code",
   "source": [
    "g = [[1,2,3],[4,5,6,7]]\n",
    "print(g)"
   ],
   "id": "1ee0b7c607674575",
   "outputs": [
    {
     "name": "stdout",
     "output_type": "stream",
     "text": [
      "[[1, 2, 3], [4, 5, 6, 7]]\n"
     ]
    }
   ],
   "execution_count": 19
  },
  {
   "metadata": {
    "ExecuteTime": {
     "end_time": "2025-06-26T07:45:41.172882Z",
     "start_time": "2025-06-26T07:45:41.169048Z"
    }
   },
   "cell_type": "code",
   "source": [
    "tt = torch.Tensor(128,1,10)\n",
    "print(tt.shape)\n",
    "dd = torch.argmax(tt,dim=-1,keepdim=True)\n",
    "print(dd.shape)"
   ],
   "id": "f2621f562173c253",
   "outputs": [
    {
     "name": "stdout",
     "output_type": "stream",
     "text": [
      "torch.Size([128, 1, 10])\n",
      "torch.Size([128, 1, 1])\n"
     ]
    }
   ],
   "execution_count": 27
  },
  {
   "metadata": {
    "ExecuteTime": {
     "end_time": "2025-06-26T07:49:21.198952Z",
     "start_time": "2025-06-26T07:49:21.196287Z"
    }
   },
   "cell_type": "code",
   "source": [
    "is_finished = [False for _ in range(10)]\n",
    "print(is_finished)"
   ],
   "id": "60d760043b3eca56",
   "outputs": [
    {
     "name": "stdout",
     "output_type": "stream",
     "text": [
      "[False, False, False, False, False, False, False, False, False, False]\n"
     ]
    }
   ],
   "execution_count": 28
  }
 ],
 "metadata": {
  "kernelspec": {
   "display_name": "Python 3",
   "language": "python",
   "name": "python3"
  },
  "language_info": {
   "codemirror_mode": {
    "name": "ipython",
    "version": 2
   },
   "file_extension": ".py",
   "mimetype": "text/x-python",
   "name": "python",
   "nbconvert_exporter": "python",
   "pygments_lexer": "ipython2",
   "version": "2.7.6"
  }
 },
 "nbformat": 4,
 "nbformat_minor": 5
}
