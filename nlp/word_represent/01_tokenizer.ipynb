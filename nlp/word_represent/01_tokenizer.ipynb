{
 "cells": [
  {
   "metadata": {},
   "cell_type": "code",
   "outputs": [],
   "execution_count": null,
   "source": "import jieba",
   "id": "aebf69943c8b5ef0"
  },
  {
   "metadata": {},
   "cell_type": "code",
   "outputs": [],
   "execution_count": null,
   "source": "text = \"小明毕业于北京大学计算机系\"",
   "id": "ecd689fbadf5b87d"
  },
  {
   "metadata": {},
   "cell_type": "code",
   "outputs": [],
   "execution_count": null,
   "source": [
    "# 精确模式 (用在nlp)\n",
    "words_generator = jieba.cut(text)\n",
    "for word in words_generator:\n",
    "    print(word)\n",
    "\n",
    "words_lists = jieba.lcut(text)\n",
    "print(words_lists)"
   ],
   "id": "7766776327cfa535"
  },
  {
   "metadata": {},
   "cell_type": "code",
   "outputs": [],
   "execution_count": null,
   "source": [
    "# 全模式 (敏感词过滤)\n",
    "words_lists = jieba.lcut(text,cut_all=True)\n",
    "print(words_lists)"
   ],
   "id": "a1a87208844f805f"
  },
  {
   "metadata": {},
   "cell_type": "code",
   "outputs": [],
   "execution_count": null,
   "source": [
    "# 搜索引擎模式\n",
    "words_lists = jieba.lcut_for_search(text)\n",
    "print(words_lists)"
   ],
   "id": "e862fa1ce50d52c6"
  },
  {
   "metadata": {},
   "cell_type": "code",
   "outputs": [],
   "execution_count": null,
   "source": [
    "# 自定义词典\n",
    "jieba.load_userdict(\"data/user_dict.txt\")\n",
    "words_lists = jieba.lcut(\"随着云计算技术的普及，越来越多企业开始采用云原生架构来部署服务，并借助大模型能力提升智能化水平，实现业务流程的自动化与智能决策。\")\n",
    "print(words_lists)"
   ],
   "id": "dcbcf043032fe9e6"
  }
 ],
 "metadata": {},
 "nbformat": 5,
 "nbformat_minor": 9
}
