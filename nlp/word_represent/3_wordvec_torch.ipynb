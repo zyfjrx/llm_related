{
 "cells": [
  {
   "cell_type": "code",
   "id": "initial_id",
   "metadata": {
    "collapsed": true,
    "ExecuteTime": {
     "end_time": "2025-06-23T05:06:20.420042Z",
     "start_time": "2025-06-23T05:06:20.415222Z"
    }
   },
   "source": [
    "import torch\n",
    "import torch.nn as nn\n",
    "from gensim.models import KeyedVectors"
   ],
   "outputs": [],
   "execution_count": 13
  },
  {
   "metadata": {},
   "cell_type": "code",
   "outputs": [],
   "execution_count": null,
   "source": "## 应用词向量",
   "id": "af3eebdcae5d5734"
  },
  {
   "metadata": {
    "ExecuteTime": {
     "end_time": "2025-06-23T05:09:26.583044Z",
     "start_time": "2025-06-23T05:09:25.682364Z"
    }
   },
   "cell_type": "code",
   "source": [
    "\n",
    "world_vectors = KeyedVectors.load_word2vec_format(\"./data/word3vec.txt\")\n",
    "word2index = world_vectors.key_to_index\n",
    "embedding_dim = world_vectors.vector_size\n",
    "num_words = len(word2index)\n",
    "embedding_matrix = torch.zeros(num_words, embedding_dim)\n",
    "for word, index in word2index.items():\n",
    "    embedding_matrix[index] = torch.tensor(world_vectors.word_vec(word))\n",
    "embedding_matrix.shape"
   ],
   "id": "7b2b5f4cc6bd66f5",
   "outputs": [
    {
     "name": "stderr",
     "output_type": "stream",
     "text": [
      "/var/folders/88/h2503n817r15dm_yghgn_vcm0000gn/T/ipykernel_39446/4164023578.py:7: DeprecationWarning: Call to deprecated `word_vec` (Use get_vector instead).\n",
      "  embedding_matrix[index] = torch.tensor(world_vectors.word_vec(word))\n"
     ]
    },
    {
     "data": {
      "text/plain": [
       "torch.Size([34576, 100])"
      ]
     },
     "execution_count": 19,
     "metadata": {},
     "output_type": "execute_result"
    }
   ],
   "execution_count": 19
  },
  {
   "metadata": {
    "ExecuteTime": {
     "end_time": "2025-06-23T05:12:36.734789Z",
     "start_time": "2025-06-23T05:12:36.732012Z"
    }
   },
   "cell_type": "code",
   "source": [
    "# 构建pytorch嵌入层\n",
    "embedding_layer = nn.Embedding.from_pretrained(embedding_matrix, freeze=True)"
   ],
   "id": "32b58b93dd21a487",
   "outputs": [],
   "execution_count": 23
  },
  {
   "metadata": {
    "ExecuteTime": {
     "end_time": "2025-06-23T05:17:25.125381Z",
     "start_time": "2025-06-23T05:17:25.122627Z"
    }
   },
   "cell_type": "code",
   "source": [
    "# 4. 示例：将词索引转换为向量\n",
    "input_words = [\"我\", \"喜欢\", \"乘坐\", \"地铁\"]  # 分词后的句子\n",
    "input_indices = [word2index[word] for word in input_words]  # token转为索引\n",
    "input_tensor = torch.tensor([input_indices])  # 构造嵌入层输入张量\n",
    "print(input_tensor.shape)"
   ],
   "id": "7b6b56d29e5ce8fe",
   "outputs": [
    {
     "name": "stdout",
     "output_type": "stream",
     "text": [
      "torch.Size([1, 4])\n"
     ]
    }
   ],
   "execution_count": 30
  },
  {
   "metadata": {
    "ExecuteTime": {
     "end_time": "2025-06-23T05:17:26.689132Z",
     "start_time": "2025-06-23T05:17:26.685978Z"
    }
   },
   "cell_type": "code",
   "source": [
    "# 5. 查询嵌入（即词向量查找）\n",
    "output = embedding_layer(input_tensor)  # 通过嵌入层查找预训练词向量\n",
    "print(output.shape)  # 例如 torch.Size([1, 4, 100])"
   ],
   "id": "d12289ca4c82e53a",
   "outputs": [
    {
     "name": "stdout",
     "output_type": "stream",
     "text": [
      "torch.Size([1, 4, 100])\n"
     ]
    }
   ],
   "execution_count": 31
  }
 ],
 "metadata": {
  "kernelspec": {
   "display_name": "Python 3",
   "language": "python",
   "name": "python3"
  },
  "language_info": {
   "codemirror_mode": {
    "name": "ipython",
    "version": 2
   },
   "file_extension": ".py",
   "mimetype": "text/x-python",
   "name": "python",
   "nbconvert_exporter": "python",
   "pygments_lexer": "ipython2",
   "version": "2.7.6"
  }
 },
 "nbformat": 4,
 "nbformat_minor": 5
}
