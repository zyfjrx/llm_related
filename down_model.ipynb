{
 "cells": [
  {
   "metadata": {},
   "cell_type": "code",
   "outputs": [],
   "execution_count": null,
   "source": [
    "#模型下载\n",
    "#模型下载\n",
    "from modelscope import snapshot_download"
   ],
   "id": "cecd15cc1733997e"
  },
  {
   "metadata": {},
   "cell_type": "code",
   "outputs": [],
   "execution_count": null,
   "source": "model_dir = snapshot_download('Qwen/Qwen3-8B',cache_dir=\"./Qwen3-8B\")",
   "id": "2878b25f2264445d"
  }
 ],
 "metadata": {},
 "nbformat": 4,
 "nbformat_minor": 5
}
