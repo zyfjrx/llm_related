{
 "cells": [
  {
   "metadata": {},
   "cell_type": "raw",
   "source": [
    "{\n",
    " \"cells\": [\n",
    "  {\n",
    "   \"metadata\": {},\n",
    "   \"cell_type\": \"code\",\n",
    "   \"outputs\": [],\n",
    "   \"execution_count\": null,\n",
    "   \"source\": [\n",
    "    \"#模型下载\\n\",\n",
    "    \"#模型下载\\n\",\n",
    "    \"from modelscope import snapshot_download\"\n",
    "   ],\n",
    "   \"id\": \"cecd15cc1733997e\"\n",
    "  },\n",
    "  {\n",
    "   \"metadata\": {},\n",
    "   \"cell_type\": \"code\",\n",
    "   \"outputs\": [],\n",
    "   \"execution_count\": null,\n",
    "   \"source\": \"model_dir = snapshot_download('Qwen/Qwen3-8B',cache_dir=\\\"./Qwen3-8B\\\")\",\n",
    "   \"id\": \"2878b25f2264445d\"\n",
    "  }\n",
    " ],\n",
    " \"metadata\": {},\n",
    " \"nbformat\": 4,\n",
    " \"nbformat_minor\": 5\n",
    "}\n"
   ],
   "id": "d8f021bf3642515"
  }
 ],
 "metadata": {},
 "nbformat": 4,
 "nbformat_minor": 5
}
