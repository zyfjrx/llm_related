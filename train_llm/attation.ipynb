{
 "cells": [
  {
   "cell_type": "code",
   "id": "initial_id",
   "metadata": {
    "collapsed": true,
    "ExecuteTime": {
     "end_time": "2025-04-11T08:33:02.770431Z",
     "start_time": "2025-04-11T08:33:01.945298Z"
    }
   },
   "source": [
    "import torch\n",
    "import torch.nn as nn\n",
    "import torch.nn.functional as F"
   ],
   "outputs": [],
   "execution_count": 1
  },
  {
   "metadata": {
    "ExecuteTime": {
     "end_time": "2025-04-11T08:33:46.888704Z",
     "start_time": "2025-04-11T08:33:46.883266Z"
    }
   },
   "cell_type": "code",
   "source": [
    "x = torch.randn(1, 3, 2, 4)\n",
    "x,x.shape"
   ],
   "id": "b75cc3024d672bb5",
   "execution_count": 2,
   "outputs": [
    {
     "data": {
      "text/plain": [
       "(tensor([[[[ 1.2116,  0.9539,  3.0147, -1.4955],\n",
       "           [ 1.4230, -1.1373, -0.9197, -0.2280]],\n",
       " \n",
       "          [[-0.5065,  0.0453, -0.4598,  0.2603],\n",
       "           [-0.6612,  0.2447,  1.9967,  0.5269]],\n",
       " \n",
       "          [[ 0.2983, -2.3495,  0.8167,  1.1834],\n",
       "           [-0.5090, -0.6303,  0.5588, -0.3302]]]]),\n",
       " torch.Size([1, 3, 2, 4]))"
      ]
     },
     "execution_count": 2,
     "metadata": {},
     "output_type": "execute_result"
    }
   ]
  },
  {
   "metadata": {
    "ExecuteTime": {
     "end_time": "2025-04-11T08:36:00.307904Z",
     "start_time": "2025-04-11T08:36:00.304172Z"
    }
   },
   "cell_type": "code",
   "source": [
    "x = x[:,:,:,None,:].expand(1,3,2,2,4)\n",
    "x,x.shape"
   ],
   "id": "9126b69b34386ed3",
   "execution_count": 6,
   "outputs": [
    {
     "data": {
      "text/plain": [
       "(tensor([[[[[ 1.2116,  0.9539,  3.0147, -1.4955],\n",
       "            [ 1.2116,  0.9539,  3.0147, -1.4955]],\n",
       " \n",
       "           [[ 1.4230, -1.1373, -0.9197, -0.2280],\n",
       "            [ 1.4230, -1.1373, -0.9197, -0.2280]]],\n",
       " \n",
       " \n",
       "          [[[-0.5065,  0.0453, -0.4598,  0.2603],\n",
       "            [-0.5065,  0.0453, -0.4598,  0.2603]],\n",
       " \n",
       "           [[-0.6612,  0.2447,  1.9967,  0.5269],\n",
       "            [-0.6612,  0.2447,  1.9967,  0.5269]]],\n",
       " \n",
       " \n",
       "          [[[ 0.2983, -2.3495,  0.8167,  1.1834],\n",
       "            [ 0.2983, -2.3495,  0.8167,  1.1834]],\n",
       " \n",
       "           [[-0.5090, -0.6303,  0.5588, -0.3302],\n",
       "            [-0.5090, -0.6303,  0.5588, -0.3302]]]]]),\n",
       " torch.Size([1, 3, 2, 2, 4]))"
      ]
     },
     "execution_count": 6,
     "metadata": {},
     "output_type": "execute_result"
    }
   ]
  },
  {
   "metadata": {
    "ExecuteTime": {
     "end_time": "2025-04-11T08:36:26.815301Z",
     "start_time": "2025-04-11T08:36:26.811739Z"
    }
   },
   "cell_type": "code",
   "source": [
    "x= x.reshape(1,3,4,4)\n",
    "x,x.shape"
   ],
   "id": "edf9306a676535b3",
   "outputs": [
    {
     "data": {
      "text/plain": [
       "(tensor([[[[ 1.2116,  0.9539,  3.0147, -1.4955],\n",
       "           [ 1.2116,  0.9539,  3.0147, -1.4955],\n",
       "           [ 1.4230, -1.1373, -0.9197, -0.2280],\n",
       "           [ 1.4230, -1.1373, -0.9197, -0.2280]],\n",
       " \n",
       "          [[-0.5065,  0.0453, -0.4598,  0.2603],\n",
       "           [-0.5065,  0.0453, -0.4598,  0.2603],\n",
       "           [-0.6612,  0.2447,  1.9967,  0.5269],\n",
       "           [-0.6612,  0.2447,  1.9967,  0.5269]],\n",
       " \n",
       "          [[ 0.2983, -2.3495,  0.8167,  1.1834],\n",
       "           [ 0.2983, -2.3495,  0.8167,  1.1834],\n",
       "           [-0.5090, -0.6303,  0.5588, -0.3302],\n",
       "           [-0.5090, -0.6303,  0.5588, -0.3302]]]]),\n",
       " torch.Size([1, 3, 4, 4]))"
      ]
     },
     "execution_count": 7,
     "metadata": {},
     "output_type": "execute_result"
    }
   ],
   "execution_count": 7
  },
  {
   "metadata": {
    "ExecuteTime": {
     "end_time": "2025-04-11T08:41:34.082312Z",
     "start_time": "2025-04-11T08:41:34.079382Z"
    }
   },
   "cell_type": "code",
   "source": [
    "mask = torch.full((1, 1, 4, 4), float(\"-inf\"))\n",
    "mask,mask.shape"
   ],
   "id": "3f26b0b88179b603",
   "outputs": [
    {
     "data": {
      "text/plain": [
       "(tensor([[[[-inf, -inf, -inf, -inf],\n",
       "           [-inf, -inf, -inf, -inf],\n",
       "           [-inf, -inf, -inf, -inf],\n",
       "           [-inf, -inf, -inf, -inf]]]]),\n",
       " torch.Size([1, 1, 4, 4]))"
      ]
     },
     "execution_count": 8,
     "metadata": {},
     "output_type": "execute_result"
    }
   ],
   "execution_count": 8
  },
  {
   "metadata": {
    "ExecuteTime": {
     "end_time": "2025-04-11T08:41:50.162675Z",
     "start_time": "2025-04-11T08:41:50.158407Z"
    }
   },
   "cell_type": "code",
   "source": [
    "mask = torch.triu(mask, diagonal=1)\n",
    "mask.shape,mask"
   ],
   "id": "8a1d7e34e38bfd05",
   "outputs": [
    {
     "data": {
      "text/plain": [
       "(torch.Size([1, 1, 4, 4]),\n",
       " tensor([[[[0., -inf, -inf, -inf],\n",
       "           [0., 0., -inf, -inf],\n",
       "           [0., 0., 0., -inf],\n",
       "           [0., 0., 0., 0.]]]]))"
      ]
     },
     "execution_count": 9,
     "metadata": {},
     "output_type": "execute_result"
    }
   ],
   "execution_count": 9
  }
 ],
 "metadata": {
  "kernelspec": {
   "display_name": "Python 3",
   "language": "python",
   "name": "python3"
  },
  "language_info": {
   "codemirror_mode": {
    "name": "ipython",
    "version": 2
   },
   "file_extension": ".py",
   "mimetype": "text/x-python",
   "name": "python",
   "nbconvert_exporter": "python",
   "pygments_lexer": "ipython2",
   "version": "2.7.6"
  }
 },
 "nbformat": 4,
 "nbformat_minor": 5
}
