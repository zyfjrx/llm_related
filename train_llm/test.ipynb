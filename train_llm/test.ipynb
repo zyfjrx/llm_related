{
 "cells": [
  {
   "cell_type": "code",
   "id": "initial_id",
   "metadata": {
    "collapsed": true,
    "ExecuteTime": {
     "end_time": "2025-04-12T02:28:16.544367Z",
     "start_time": "2025-04-12T02:28:13.581844Z"
    }
   },
   "source": "import torch",
   "outputs": [],
   "execution_count": 1
  },
  {
   "metadata": {
    "ExecuteTime": {
     "end_time": "2025-04-12T02:45:45.231804Z",
     "start_time": "2025-04-12T02:45:45.228212Z"
    }
   },
   "cell_type": "code",
   "source": [
    "x = torch.randn(3, 1)\n",
    "x ,x.shape"
   ],
   "id": "4dac3437a70383ec",
   "outputs": [
    {
     "data": {
      "text/plain": [
       "(tensor([[-0.7070],\n",
       "         [ 1.2503],\n",
       "         [-0.3804]]),\n",
       " torch.Size([3, 1]))"
      ]
     },
     "execution_count": 6,
     "metadata": {},
     "output_type": "execute_result"
    }
   ],
   "execution_count": 6
  },
  {
   "metadata": {
    "ExecuteTime": {
     "end_time": "2025-04-12T02:45:48.855688Z",
     "start_time": "2025-04-12T02:45:48.851321Z"
    }
   },
   "cell_type": "code",
   "source": [
    "y = torch.randn(3, 6)\n",
    "y,y.shape"
   ],
   "id": "962887ba050c45a6",
   "outputs": [
    {
     "data": {
      "text/plain": [
       "(tensor([[-0.4141, -0.4823,  1.9038,  1.1020, -0.9136,  0.1858],\n",
       "         [ 0.5050,  0.3583, -0.7988, -0.2876, -0.6315, -0.6089],\n",
       "         [ 1.4894,  0.4866,  0.6393, -0.6706,  2.7037, -2.2715]]),\n",
       " torch.Size([3, 6]))"
      ]
     },
     "execution_count": 7,
     "metadata": {},
     "output_type": "execute_result"
    }
   ],
   "execution_count": 7
  },
  {
   "metadata": {
    "ExecuteTime": {
     "end_time": "2025-04-12T02:45:52.470699Z",
     "start_time": "2025-04-12T02:45:52.466291Z"
    }
   },
   "cell_type": "code",
   "source": "y * x",
   "id": "e4487968008b33d9",
   "outputs": [
    {
     "data": {
      "text/plain": [
       "tensor([[ 0.2928,  0.3410, -1.3460, -0.7791,  0.6459, -0.1313],\n",
       "        [ 0.6314,  0.4480, -0.9987, -0.3596, -0.7896, -0.7613],\n",
       "        [-0.5666, -0.1851, -0.2432,  0.2551, -1.0285,  0.8640]])"
      ]
     },
     "execution_count": 8,
     "metadata": {},
     "output_type": "execute_result"
    }
   ],
   "execution_count": 8
  }
 ],
 "metadata": {
  "kernelspec": {
   "display_name": "Python 3",
   "language": "python",
   "name": "python3"
  },
  "language_info": {
   "codemirror_mode": {
    "name": "ipython",
    "version": 2
   },
   "file_extension": ".py",
   "mimetype": "text/x-python",
   "name": "python",
   "nbconvert_exporter": "python",
   "pygments_lexer": "ipython2",
   "version": "2.7.6"
  }
 },
 "nbformat": 4,
 "nbformat_minor": 5
}
