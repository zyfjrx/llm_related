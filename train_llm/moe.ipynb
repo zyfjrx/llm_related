{
 "cells": [
  {
   "cell_type": "code",
   "id": "initial_id",
   "metadata": {
    "collapsed": true,
    "ExecuteTime": {
     "end_time": "2025-04-12T04:39:13.007843Z",
     "start_time": "2025-04-12T04:39:12.539781Z"
    }
   },
   "source": [
    "import torch\n",
    "import torch.nn as nn\n",
    "import torch.nn.functional as F"
   ],
   "outputs": [],
   "execution_count": 1
  },
  {
   "metadata": {
    "ExecuteTime": {
     "end_time": "2025-04-12T04:40:23.700646Z",
     "start_time": "2025-04-12T04:40:23.695628Z"
    }
   },
   "cell_type": "code",
   "source": [
    "# 初始化门控权重\n",
    "weight = nn.Parameter(torch.empty((4, 10)))\n",
    "weight,weight.shape"
   ],
   "id": "be3970eddb330da6",
   "outputs": [
    {
     "data": {
      "text/plain": [
       "(Parameter containing:\n",
       " tensor([[0., 0., 0., 0., 0., 0., 0., 0., 0., 0.],\n",
       "         [0., 0., 0., 0., 0., 0., 0., 0., 0., 0.],\n",
       "         [0., 0., 0., 0., 0., 0., 0., 0., 0., 0.],\n",
       "         [0., 0., 0., 0., 0., 0., 0., 0., 0., 0.]], requires_grad=True),\n",
       " torch.Size([4, 10]))"
      ]
     },
     "execution_count": 3,
     "metadata": {},
     "output_type": "execute_result"
    }
   ],
   "execution_count": 3
  },
  {
   "metadata": {
    "ExecuteTime": {
     "end_time": "2025-04-12T04:42:48.129833Z",
     "start_time": "2025-04-12T04:42:48.125886Z"
    }
   },
   "cell_type": "code",
   "source": [
    "# 模拟输入数据\n",
    "hidden_states = torch.randn(2, 8, 10)\n",
    "hidden_states,hidden_states.shape"
   ],
   "id": "f529feb63dac4dc3",
   "outputs": [
    {
     "data": {
      "text/plain": [
       "(tensor([[[-1.3799, -0.5041,  1.9785, -2.4707, -1.7235,  0.1333, -0.4586,\n",
       "           -1.2372, -1.4359,  1.6946],\n",
       "          [ 0.5212,  0.4889,  1.3202,  1.4060, -0.8607, -0.3986,  1.8616,\n",
       "            1.3636,  0.2939,  2.6554],\n",
       "          [ 1.4119,  0.7602,  1.2421,  0.5898,  0.5339, -0.1787,  0.6487,\n",
       "            0.4778,  0.4677,  1.0863],\n",
       "          [ 0.9835, -0.9382,  0.9603,  0.7203, -0.4748,  0.0652,  0.4139,\n",
       "            0.6275,  0.8338,  0.8294],\n",
       "          [ 0.2342, -0.3700, -0.6274, -0.8605, -0.6188, -0.7306, -1.5214,\n",
       "           -0.1764,  0.2794, -0.4826],\n",
       "          [ 1.0625,  1.0452,  2.0764,  0.8812,  0.6266, -0.3005, -0.1073,\n",
       "           -0.0666, -0.7895, -0.1615],\n",
       "          [-0.9120, -1.2686, -1.0053,  0.2372, -0.3670,  0.1405, -0.9632,\n",
       "           -0.1507,  1.5099,  0.8901],\n",
       "          [ 0.7716,  0.7252, -0.7744,  2.7086, -0.0482,  1.0113,  0.7917,\n",
       "           -0.3397, -0.2513,  0.6066]],\n",
       " \n",
       "         [[-0.6276, -1.3498, -1.0835,  0.0287,  1.4093, -1.4825, -0.2339,\n",
       "            0.2222, -0.2676, -0.0690],\n",
       "          [ 0.2514,  0.8427, -0.4189, -1.4413, -0.1131, -0.2336,  0.1048,\n",
       "            1.8035, -0.2990,  0.6608],\n",
       "          [ 0.2419,  1.0141, -0.0140,  0.7681, -0.0894, -0.3028, -0.4423,\n",
       "            0.5021,  1.2495, -0.7186],\n",
       "          [ 0.7873,  0.3447,  0.1715, -0.5394,  1.0189, -1.5091, -0.0381,\n",
       "            0.5624,  0.0831,  0.7712],\n",
       "          [-1.4021,  0.9732, -0.8673, -1.7490,  0.8367, -0.1579, -0.9658,\n",
       "            0.3555, -0.6558, -0.3560],\n",
       "          [-0.7555, -0.2902,  0.0884,  0.1054,  1.9997, -0.5120, -0.3493,\n",
       "            1.4111,  0.3796,  1.6047],\n",
       "          [ 1.6338,  1.3031,  0.3114, -0.3688, -0.6185,  0.3213, -0.3989,\n",
       "            1.0792, -0.2815, -0.0748],\n",
       "          [ 1.0521,  0.8948,  1.3884,  0.1447,  0.2685, -0.7994, -0.9209,\n",
       "            0.1698,  0.1198, -0.1059]]]),\n",
       " torch.Size([2, 8, 10]))"
      ]
     },
     "execution_count": 6,
     "metadata": {},
     "output_type": "execute_result"
    }
   ],
   "execution_count": 6
  },
  {
   "metadata": {
    "ExecuteTime": {
     "end_time": "2025-04-12T04:43:05.826420Z",
     "start_time": "2025-04-12T04:43:05.821037Z"
    }
   },
   "cell_type": "code",
   "source": [
    "import torch.nn.init as init\n",
    "import math\n",
    "init.kaiming_uniform_(weight, a=math.sqrt(5))\n",
    "weight,weight.shape"
   ],
   "id": "90e8ef6d8f21fc84",
   "outputs": [
    {
     "data": {
      "text/plain": [
       "(Parameter containing:\n",
       " tensor([[ 0.1950, -0.3063, -0.1284,  0.2826,  0.0977, -0.2096, -0.0791,  0.0082,\n",
       "          -0.2674, -0.2651],\n",
       "         [-0.0143, -0.1660, -0.1692, -0.0913, -0.1949,  0.2360,  0.2252, -0.2453,\n",
       "          -0.1010, -0.2708],\n",
       "         [ 0.1812, -0.0692, -0.1733, -0.1500,  0.2681,  0.2262,  0.2740, -0.1827,\n",
       "           0.1036,  0.1330],\n",
       "         [-0.2727, -0.2496,  0.2160, -0.0819, -0.2221, -0.0938, -0.1057, -0.2661,\n",
       "          -0.0144, -0.0365]], requires_grad=True),\n",
       " torch.Size([4, 10]))"
      ]
     },
     "execution_count": 7,
     "metadata": {},
     "output_type": "execute_result"
    }
   ],
   "execution_count": 7
  },
  {
   "metadata": {
    "ExecuteTime": {
     "end_time": "2025-04-12T04:43:40.843402Z",
     "start_time": "2025-04-12T04:43:40.838876Z"
    }
   },
   "cell_type": "code",
   "source": [
    "bsz, seq_len, h = hidden_states.shape\n",
    "bsz, seq_len, h"
   ],
   "id": "87fc9c292e236dfe",
   "outputs": [
    {
     "data": {
      "text/plain": [
       "(2, 8, 10)"
      ]
     },
     "execution_count": 9,
     "metadata": {},
     "output_type": "execute_result"
    }
   ],
   "execution_count": 9
  },
  {
   "metadata": {
    "ExecuteTime": {
     "end_time": "2025-04-12T04:44:39.390131Z",
     "start_time": "2025-04-12T04:44:39.385013Z"
    }
   },
   "cell_type": "code",
   "source": [
    "hidden_states = hidden_states.view(-1, h)\n",
    "hidden_states,hidden_states.shape"
   ],
   "id": "ef506460b95b007b",
   "outputs": [
    {
     "data": {
      "text/plain": [
       "(tensor([[-1.3799, -0.5041,  1.9785, -2.4707, -1.7235,  0.1333, -0.4586, -1.2372,\n",
       "          -1.4359,  1.6946],\n",
       "         [ 0.5212,  0.4889,  1.3202,  1.4060, -0.8607, -0.3986,  1.8616,  1.3636,\n",
       "           0.2939,  2.6554],\n",
       "         [ 1.4119,  0.7602,  1.2421,  0.5898,  0.5339, -0.1787,  0.6487,  0.4778,\n",
       "           0.4677,  1.0863],\n",
       "         [ 0.9835, -0.9382,  0.9603,  0.7203, -0.4748,  0.0652,  0.4139,  0.6275,\n",
       "           0.8338,  0.8294],\n",
       "         [ 0.2342, -0.3700, -0.6274, -0.8605, -0.6188, -0.7306, -1.5214, -0.1764,\n",
       "           0.2794, -0.4826],\n",
       "         [ 1.0625,  1.0452,  2.0764,  0.8812,  0.6266, -0.3005, -0.1073, -0.0666,\n",
       "          -0.7895, -0.1615],\n",
       "         [-0.9120, -1.2686, -1.0053,  0.2372, -0.3670,  0.1405, -0.9632, -0.1507,\n",
       "           1.5099,  0.8901],\n",
       "         [ 0.7716,  0.7252, -0.7744,  2.7086, -0.0482,  1.0113,  0.7917, -0.3397,\n",
       "          -0.2513,  0.6066],\n",
       "         [-0.6276, -1.3498, -1.0835,  0.0287,  1.4093, -1.4825, -0.2339,  0.2222,\n",
       "          -0.2676, -0.0690],\n",
       "         [ 0.2514,  0.8427, -0.4189, -1.4413, -0.1131, -0.2336,  0.1048,  1.8035,\n",
       "          -0.2990,  0.6608],\n",
       "         [ 0.2419,  1.0141, -0.0140,  0.7681, -0.0894, -0.3028, -0.4423,  0.5021,\n",
       "           1.2495, -0.7186],\n",
       "         [ 0.7873,  0.3447,  0.1715, -0.5394,  1.0189, -1.5091, -0.0381,  0.5624,\n",
       "           0.0831,  0.7712],\n",
       "         [-1.4021,  0.9732, -0.8673, -1.7490,  0.8367, -0.1579, -0.9658,  0.3555,\n",
       "          -0.6558, -0.3560],\n",
       "         [-0.7555, -0.2902,  0.0884,  0.1054,  1.9997, -0.5120, -0.3493,  1.4111,\n",
       "           0.3796,  1.6047],\n",
       "         [ 1.6338,  1.3031,  0.3114, -0.3688, -0.6185,  0.3213, -0.3989,  1.0792,\n",
       "          -0.2815, -0.0748],\n",
       "         [ 1.0521,  0.8948,  1.3884,  0.1447,  0.2685, -0.7994, -0.9209,  0.1698,\n",
       "           0.1198, -0.1059]]),\n",
       " torch.Size([16, 10]))"
      ]
     },
     "execution_count": 10,
     "metadata": {},
     "output_type": "execute_result"
    }
   ],
   "execution_count": 10
  },
  {
   "metadata": {
    "ExecuteTime": {
     "end_time": "2025-04-12T04:45:24.138154Z",
     "start_time": "2025-04-12T04:45:24.132513Z"
    }
   },
   "cell_type": "code",
   "source": [
    "logits = F.linear(hidden_states, weight, None)\n",
    "logits, logits.shape"
   ],
   "id": "8425fe01e921b3aa",
   "outputs": [
    {
     "data": {
      "text/plain": [
       "(tensor([[-1.3025,  0.2478, -0.4424,  1.8387],\n",
       "         [-0.7395, -1.0306, -0.0555, -0.5263],\n",
       "         [-0.3212, -0.8691,  0.2856, -0.6987],\n",
       "         [ 0.0288, -0.3481,  0.0515, -0.0392],\n",
       "         [ 0.2611, -0.0060, -0.4453,  0.3907],\n",
       "         [ 0.2555, -0.6979, -0.3923, -0.2389],\n",
       "         [-0.2233, -0.0967,  0.0329,  0.4847],\n",
       "         [ 0.4174,  0.1232,  0.3671, -0.8764],\n",
       "         [ 0.9969, -0.2723,  0.0641,  0.0696],\n",
       "         [-0.6134, -0.5417, -0.0509, -0.7152],\n",
       "         [-0.0943, -0.4479, -0.4106, -0.4154],\n",
       "         [ 0.0703, -0.9668,  0.0997, -0.4793],\n",
       "         [-0.4905, -0.1775, -0.1649, -0.0458],\n",
       "         [-0.2251, -1.3737,  0.1717, -0.5099],\n",
       "         [-0.2170, -0.3682, -0.2315, -0.8043],\n",
       "         [ 0.0578, -0.8852, -0.5275, -0.1525]], grad_fn=<MmBackward0>),\n",
       " torch.Size([16, 4]))"
      ]
     },
     "execution_count": 11,
     "metadata": {},
     "output_type": "execute_result"
    }
   ],
   "execution_count": 11
  },
  {
   "metadata": {
    "ExecuteTime": {
     "end_time": "2025-04-12T04:45:50.691119Z",
     "start_time": "2025-04-12T04:45:50.684980Z"
    }
   },
   "cell_type": "code",
   "source": [
    "scores = logits.softmax(dim=-1)\n",
    "scores, scores.shape"
   ],
   "id": "a8e63e3b474e4610",
   "outputs": [
    {
     "data": {
      "text/plain": [
       "(tensor([[0.0320, 0.1510, 0.0757, 0.7412],\n",
       "         [0.2013, 0.1505, 0.3990, 0.2492],\n",
       "         [0.2440, 0.1411, 0.4476, 0.1673],\n",
       "         [0.2745, 0.1883, 0.2808, 0.2564],\n",
       "         [0.2944, 0.2254, 0.1452, 0.3351],\n",
       "         [0.3970, 0.1530, 0.2077, 0.2422],\n",
       "         [0.1833, 0.2080, 0.2368, 0.3720],\n",
       "         [0.3367, 0.2509, 0.3201, 0.0923],\n",
       "         [0.4831, 0.1358, 0.1901, 0.1911],\n",
       "         [0.2113, 0.2270, 0.3708, 0.1909],\n",
       "         [0.3168, 0.2225, 0.2309, 0.2298],\n",
       "         [0.3377, 0.1197, 0.3477, 0.1949],\n",
       "         [0.1882, 0.2574, 0.2607, 0.2937],\n",
       "         [0.2812, 0.0892, 0.4181, 0.2115],\n",
       "         [0.2940, 0.2528, 0.2898, 0.1634],\n",
       "         [0.3627, 0.1413, 0.2020, 0.2939]], grad_fn=<SoftmaxBackward0>),\n",
       " torch.Size([16, 4]))"
      ]
     },
     "execution_count": 12,
     "metadata": {},
     "output_type": "execute_result"
    }
   ],
   "execution_count": 12
  },
  {
   "metadata": {
    "ExecuteTime": {
     "end_time": "2025-04-12T04:46:51.197680Z",
     "start_time": "2025-04-12T04:46:51.192118Z"
    }
   },
   "cell_type": "code",
   "source": [
    "topk_weight, topk_idx = torch.topk(scores, k=2, dim=-1, sorted=False)\n",
    "topk_weight,topk_weight.shape, topk_idx,topk_idx.shape"
   ],
   "id": "569714731f0fae9d",
   "outputs": [
    {
     "data": {
      "text/plain": [
       "(tensor([[0.7412, 0.1510],\n",
       "         [0.3990, 0.2492],\n",
       "         [0.4476, 0.2440],\n",
       "         [0.2808, 0.2745],\n",
       "         [0.3351, 0.2944],\n",
       "         [0.3970, 0.2422],\n",
       "         [0.3720, 0.2368],\n",
       "         [0.3367, 0.3201],\n",
       "         [0.4831, 0.1911],\n",
       "         [0.3708, 0.2270],\n",
       "         [0.3168, 0.2309],\n",
       "         [0.3477, 0.3377],\n",
       "         [0.2937, 0.2607],\n",
       "         [0.4181, 0.2812],\n",
       "         [0.2940, 0.2898],\n",
       "         [0.3627, 0.2939]], grad_fn=<TopkBackward0>),\n",
       " torch.Size([16, 2]),\n",
       " tensor([[3, 1],\n",
       "         [2, 3],\n",
       "         [2, 0],\n",
       "         [2, 0],\n",
       "         [3, 0],\n",
       "         [0, 3],\n",
       "         [3, 2],\n",
       "         [0, 2],\n",
       "         [0, 3],\n",
       "         [2, 1],\n",
       "         [0, 2],\n",
       "         [2, 0],\n",
       "         [3, 2],\n",
       "         [2, 0],\n",
       "         [0, 2],\n",
       "         [0, 3]]),\n",
       " torch.Size([16, 2]))"
      ]
     },
     "execution_count": 14,
     "metadata": {},
     "output_type": "execute_result"
    }
   ],
   "execution_count": 14
  },
  {
   "metadata": {
    "ExecuteTime": {
     "end_time": "2025-04-12T04:47:49.557962Z",
     "start_time": "2025-04-12T04:47:49.552309Z"
    }
   },
   "cell_type": "code",
   "source": [
    "# 归一化\n",
    "denominator = topk_weight.sum(dim=-1, keepdim=True) + 1e-20\n",
    "denominator,denominator.shape"
   ],
   "id": "cab4f3334702553b",
   "outputs": [
    {
     "data": {
      "text/plain": [
       "(tensor([[0.8922],\n",
       "         [0.6482],\n",
       "         [0.6916],\n",
       "         [0.5553],\n",
       "         [0.6294],\n",
       "         [0.6392],\n",
       "         [0.6087],\n",
       "         [0.6568],\n",
       "         [0.6742],\n",
       "         [0.5979],\n",
       "         [0.5477],\n",
       "         [0.6854],\n",
       "         [0.5543],\n",
       "         [0.6993],\n",
       "         [0.5838],\n",
       "         [0.6567]], grad_fn=<AddBackward0>),\n",
       " torch.Size([16, 1]))"
      ]
     },
     "execution_count": 15,
     "metadata": {},
     "output_type": "execute_result"
    }
   ],
   "execution_count": 15
  },
  {
   "metadata": {
    "ExecuteTime": {
     "end_time": "2025-04-12T04:48:53.424292Z",
     "start_time": "2025-04-12T04:48:53.419418Z"
    }
   },
   "cell_type": "code",
   "source": [
    "topk_weight = topk_weight / denominator\n",
    "topk_weight, topk_weight.shape"
   ],
   "id": "1691a32bf0d5570d",
   "outputs": [
    {
     "data": {
      "text/plain": [
       "(tensor([[0.8307, 0.1693],\n",
       "         [0.6156, 0.3844],\n",
       "         [0.6472, 0.3528],\n",
       "         [0.5057, 0.4943],\n",
       "         [0.5323, 0.4677],\n",
       "         [0.6211, 0.3789],\n",
       "         [0.6111, 0.3889],\n",
       "         [0.5126, 0.4874],\n",
       "         [0.7165, 0.2835],\n",
       "         [0.6203, 0.3797],\n",
       "         [0.5784, 0.4216],\n",
       "         [0.5074, 0.4926],\n",
       "         [0.5297, 0.4703],\n",
       "         [0.5979, 0.4021],\n",
       "         [0.5036, 0.4964],\n",
       "         [0.5524, 0.4476]], grad_fn=<DivBackward0>),\n",
       " torch.Size([16, 2]))"
      ]
     },
     "execution_count": 16,
     "metadata": {},
     "output_type": "execute_result"
    }
   ],
   "execution_count": 16
  },
  {
   "metadata": {
    "ExecuteTime": {
     "end_time": "2025-04-12T06:47:26.691787Z",
     "start_time": "2025-04-12T06:47:26.686665Z"
    }
   },
   "cell_type": "code",
   "source": [
    "# 训练阶段\n",
    "scores_for_aux = scores\n",
    "aux_topk = 2\n",
    "topk_idx_for_aux_loss = topk_idx.view(bsz, -1)\n",
    "topk_idx_for_aux_loss,topk_idx_for_aux_loss.shape,topk_idx,topk_idx.shape,scores_for_aux,scores_for_aux"
   ],
   "id": "3954ce6b13a0d795",
   "outputs": [
    {
     "data": {
      "text/plain": [
       "(tensor([[3, 1, 2, 3, 2, 0, 2, 0, 3, 0, 0, 3, 3, 2, 0, 2],\n",
       "         [0, 3, 2, 1, 0, 2, 2, 0, 3, 2, 2, 0, 0, 2, 0, 3]]),\n",
       " torch.Size([2, 16]),\n",
       " tensor([[3, 1],\n",
       "         [2, 3],\n",
       "         [2, 0],\n",
       "         [2, 0],\n",
       "         [3, 0],\n",
       "         [0, 3],\n",
       "         [3, 2],\n",
       "         [0, 2],\n",
       "         [0, 3],\n",
       "         [2, 1],\n",
       "         [0, 2],\n",
       "         [2, 0],\n",
       "         [3, 2],\n",
       "         [2, 0],\n",
       "         [0, 2],\n",
       "         [0, 3]]),\n",
       " torch.Size([16, 2]),\n",
       " tensor([[0.0320, 0.1510, 0.0757, 0.7412],\n",
       "         [0.2013, 0.1505, 0.3990, 0.2492],\n",
       "         [0.2440, 0.1411, 0.4476, 0.1673],\n",
       "         [0.2745, 0.1883, 0.2808, 0.2564],\n",
       "         [0.2944, 0.2254, 0.1452, 0.3351],\n",
       "         [0.3970, 0.1530, 0.2077, 0.2422],\n",
       "         [0.1833, 0.2080, 0.2368, 0.3720],\n",
       "         [0.3367, 0.2509, 0.3201, 0.0923],\n",
       "         [0.4831, 0.1358, 0.1901, 0.1911],\n",
       "         [0.2113, 0.2270, 0.3708, 0.1909],\n",
       "         [0.3168, 0.2225, 0.2309, 0.2298],\n",
       "         [0.3377, 0.1197, 0.3477, 0.1949],\n",
       "         [0.1882, 0.2574, 0.2607, 0.2937],\n",
       "         [0.2812, 0.0892, 0.4181, 0.2115],\n",
       "         [0.2940, 0.2528, 0.2898, 0.1634],\n",
       "         [0.3627, 0.1413, 0.2020, 0.2939]], grad_fn=<SoftmaxBackward0>),\n",
       " torch.Size([16, 4]))"
      ]
     },
     "execution_count": 73,
     "metadata": {},
     "output_type": "execute_result"
    }
   ],
   "execution_count": 73
  },
  {
   "metadata": {
    "ExecuteTime": {
     "end_time": "2025-04-12T04:53:48.589313Z",
     "start_time": "2025-04-12T04:53:48.585088Z"
    }
   },
   "cell_type": "code",
   "source": [
    "scores_for_seq_aux = scores_for_aux.view(bsz, seq_len, -1)\n",
    "scores_for_seq_aux,scores_for_seq_aux.shape"
   ],
   "id": "2f4e1425ba7d5885",
   "outputs": [
    {
     "data": {
      "text/plain": [
       "(tensor([[[0.0320, 0.1510, 0.0757, 0.7412],\n",
       "          [0.2013, 0.1505, 0.3990, 0.2492],\n",
       "          [0.2440, 0.1411, 0.4476, 0.1673],\n",
       "          [0.2745, 0.1883, 0.2808, 0.2564],\n",
       "          [0.2944, 0.2254, 0.1452, 0.3351],\n",
       "          [0.3970, 0.1530, 0.2077, 0.2422],\n",
       "          [0.1833, 0.2080, 0.2368, 0.3720],\n",
       "          [0.3367, 0.2509, 0.3201, 0.0923]],\n",
       " \n",
       "         [[0.4831, 0.1358, 0.1901, 0.1911],\n",
       "          [0.2113, 0.2270, 0.3708, 0.1909],\n",
       "          [0.3168, 0.2225, 0.2309, 0.2298],\n",
       "          [0.3377, 0.1197, 0.3477, 0.1949],\n",
       "          [0.1882, 0.2574, 0.2607, 0.2937],\n",
       "          [0.2812, 0.0892, 0.4181, 0.2115],\n",
       "          [0.2940, 0.2528, 0.2898, 0.1634],\n",
       "          [0.3627, 0.1413, 0.2020, 0.2939]]], grad_fn=<ViewBackward0>),\n",
       " torch.Size([2, 8, 4]))"
      ]
     },
     "execution_count": 19,
     "metadata": {},
     "output_type": "execute_result"
    }
   ],
   "execution_count": 19
  },
  {
   "metadata": {
    "ExecuteTime": {
     "end_time": "2025-04-12T05:27:54.228140Z",
     "start_time": "2025-04-12T05:27:54.223599Z"
    }
   },
   "cell_type": "code",
   "source": [
    "ce = torch.zeros(bsz, 4,device=hidden_states.device)\n",
    "ce,ce.shape"
   ],
   "id": "7fe43e22b577af32",
   "outputs": [
    {
     "data": {
      "text/plain": [
       "(tensor([[0., 0., 0., 0.],\n",
       "         [0., 0., 0., 0.]]),\n",
       " torch.Size([2, 4]))"
      ]
     },
     "execution_count": 35,
     "metadata": {},
     "output_type": "execute_result"
    }
   ],
   "execution_count": 35
  },
  {
   "metadata": {
    "ExecuteTime": {
     "end_time": "2025-04-12T05:27:56.657040Z",
     "start_time": "2025-04-12T05:27:56.652596Z"
    }
   },
   "cell_type": "code",
   "source": [
    "ce.scatter_add_(1, topk_idx_for_aux_loss,\n",
    "                                torch.ones(bsz, seq_len * aux_topk,device=hidden_states.device)).div_(\n",
    "                    seq_len * aux_topk / 4)\n",
    "ce,ce.shape"
   ],
   "id": "42c834064012bd27",
   "outputs": [
    {
     "data": {
      "text/plain": [
       "(tensor([[1.2500, 0.2500, 1.2500, 1.2500],\n",
       "         [1.5000, 0.2500, 1.5000, 0.7500]]),\n",
       " torch.Size([2, 4]))"
      ]
     },
     "execution_count": 36,
     "metadata": {},
     "output_type": "execute_result"
    }
   ],
   "execution_count": 36
  },
  {
   "metadata": {
    "ExecuteTime": {
     "end_time": "2025-04-12T05:30:20.832374Z",
     "start_time": "2025-04-12T05:30:20.827775Z"
    }
   },
   "cell_type": "code",
   "source": [
    "mean_scores = scores_for_seq_aux.mean(dim=1).detach()\n",
    "mean_scores,mean_scores.shape"
   ],
   "id": "3425cf000de6005",
   "outputs": [
    {
     "data": {
      "text/plain": [
       "(tensor([[0.2454, 0.1835, 0.2641, 0.3070],\n",
       "         [0.3094, 0.1807, 0.2888, 0.2211]]),\n",
       " torch.Size([2, 4]))"
      ]
     },
     "execution_count": 45,
     "metadata": {},
     "output_type": "execute_result"
    }
   ],
   "execution_count": 45
  },
  {
   "metadata": {
    "ExecuteTime": {
     "end_time": "2025-04-12T05:32:01.761897Z",
     "start_time": "2025-04-12T05:32:01.757532Z"
    }
   },
   "cell_type": "code",
   "source": [
    "out = ce * mean_scores\n",
    "out,out.shape"
   ],
   "id": "b7b69cbc3a3f1058",
   "outputs": [
    {
     "data": {
      "text/plain": [
       "(tensor([[0.3068, 0.0459, 0.3302, 0.3837],\n",
       "         [0.4641, 0.0452, 0.4332, 0.1659]]),\n",
       " torch.Size([2, 4]))"
      ]
     },
     "execution_count": 58,
     "metadata": {},
     "output_type": "execute_result"
    }
   ],
   "execution_count": 58
  },
  {
   "metadata": {
    "ExecuteTime": {
     "end_time": "2025-04-12T05:32:04.218065Z",
     "start_time": "2025-04-12T05:32:04.214369Z"
    }
   },
   "cell_type": "code",
   "source": [
    "out = out.sum(dim=1)\n",
    "out"
   ],
   "id": "71f1c85ca7669096",
   "outputs": [
    {
     "data": {
      "text/plain": [
       "tensor([1.0665, 1.1083])"
      ]
     },
     "execution_count": 59,
     "metadata": {},
     "output_type": "execute_result"
    }
   ],
   "execution_count": 59
  },
  {
   "metadata": {
    "ExecuteTime": {
     "end_time": "2025-04-12T05:32:26.250908Z",
     "start_time": "2025-04-12T05:32:26.247732Z"
    }
   },
   "cell_type": "code",
   "source": [
    "out = out.mean()\n",
    "out"
   ],
   "id": "9655358e145d55ef",
   "outputs": [
    {
     "data": {
      "text/plain": [
       "tensor(1.0874)"
      ]
     },
     "execution_count": 61,
     "metadata": {},
     "output_type": "execute_result"
    }
   ],
   "execution_count": 61
  },
  {
   "metadata": {
    "ExecuteTime": {
     "end_time": "2025-04-12T06:40:37.143995Z",
     "start_time": "2025-04-12T06:40:37.139348Z"
    }
   },
   "cell_type": "code",
   "source": "topk_idx_for_aux_loss,topk_idx_for_aux_loss.shape",
   "id": "e2221832f6d0f1f",
   "outputs": [
    {
     "data": {
      "text/plain": [
       "(tensor([[3, 1, 2, 3, 2, 0, 2, 0, 3, 0, 0, 3, 3, 2, 0, 2],\n",
       "         [0, 3, 2, 1, 0, 2, 2, 0, 3, 2, 2, 0, 0, 2, 0, 3]]),\n",
       " torch.Size([2, 16]))"
      ]
     },
     "execution_count": 62,
     "metadata": {},
     "output_type": "execute_result"
    }
   ],
   "execution_count": 62
  },
  {
   "metadata": {
    "ExecuteTime": {
     "end_time": "2025-04-12T06:50:16.616840Z",
     "start_time": "2025-04-12T06:50:16.612242Z"
    }
   },
   "cell_type": "code",
   "source": [
    "mask_ce = F.one_hot(topk_idx_for_aux_loss.view(-1), num_classes=4)\n",
    "mask_ce,mask_ce.shape"
   ],
   "id": "4218a461eb63432",
   "outputs": [
    {
     "data": {
      "text/plain": [
       "(tensor([[0, 0, 0, 1],\n",
       "         [0, 1, 0, 0],\n",
       "         [0, 0, 1, 0],\n",
       "         [0, 0, 0, 1],\n",
       "         [0, 0, 1, 0],\n",
       "         [1, 0, 0, 0],\n",
       "         [0, 0, 1, 0],\n",
       "         [1, 0, 0, 0],\n",
       "         [0, 0, 0, 1],\n",
       "         [1, 0, 0, 0],\n",
       "         [1, 0, 0, 0],\n",
       "         [0, 0, 0, 1],\n",
       "         [0, 0, 0, 1],\n",
       "         [0, 0, 1, 0],\n",
       "         [1, 0, 0, 0],\n",
       "         [0, 0, 1, 0],\n",
       "         [1, 0, 0, 0],\n",
       "         [0, 0, 0, 1],\n",
       "         [0, 0, 1, 0],\n",
       "         [0, 1, 0, 0],\n",
       "         [1, 0, 0, 0],\n",
       "         [0, 0, 1, 0],\n",
       "         [0, 0, 1, 0],\n",
       "         [1, 0, 0, 0],\n",
       "         [0, 0, 0, 1],\n",
       "         [0, 0, 1, 0],\n",
       "         [0, 0, 1, 0],\n",
       "         [1, 0, 0, 0],\n",
       "         [1, 0, 0, 0],\n",
       "         [0, 0, 1, 0],\n",
       "         [1, 0, 0, 0],\n",
       "         [0, 0, 0, 1]]),\n",
       " torch.Size([32, 4]))"
      ]
     },
     "execution_count": 75,
     "metadata": {},
     "output_type": "execute_result"
    }
   ],
   "execution_count": 75
  },
  {
   "metadata": {
    "ExecuteTime": {
     "end_time": "2025-04-12T06:50:45.725353Z",
     "start_time": "2025-04-12T06:50:45.720763Z"
    }
   },
   "cell_type": "code",
   "source": [
    "ce = mask_ce.float().mean(0)\n",
    "ce,ce.shape"
   ],
   "id": "53fec2da42561df6",
   "outputs": [
    {
     "data": {
      "text/plain": [
       "(tensor([0.3438, 0.0625, 0.3438, 0.2500]), torch.Size([4]))"
      ]
     },
     "execution_count": 76,
     "metadata": {},
     "output_type": "execute_result"
    }
   ],
   "execution_count": 76
  },
  {
   "metadata": {
    "ExecuteTime": {
     "end_time": "2025-04-12T06:51:17.002443Z",
     "start_time": "2025-04-12T06:51:16.997456Z"
    }
   },
   "cell_type": "code",
   "source": [
    "fi = ce * 4\n",
    "fi,fi.shape"
   ],
   "id": "3bfe5f0823c5c59b",
   "outputs": [
    {
     "data": {
      "text/plain": [
       "(tensor([1.3750, 0.2500, 1.3750, 1.0000]), torch.Size([4]))"
      ]
     },
     "execution_count": 77,
     "metadata": {},
     "output_type": "execute_result"
    }
   ],
   "execution_count": 77
  },
  {
   "metadata": {
    "ExecuteTime": {
     "end_time": "2025-04-12T06:47:36.701936Z",
     "start_time": "2025-04-12T06:47:36.696807Z"
    }
   },
   "cell_type": "code",
   "source": "",
   "id": "da5021852092dc58",
   "outputs": [
    {
     "data": {
      "text/plain": [
       "tensor([[0.0320, 0.1510, 0.0757, 0.7412],\n",
       "        [0.2013, 0.1505, 0.3990, 0.2492],\n",
       "        [0.2440, 0.1411, 0.4476, 0.1673],\n",
       "        [0.2745, 0.1883, 0.2808, 0.2564],\n",
       "        [0.2944, 0.2254, 0.1452, 0.3351],\n",
       "        [0.3970, 0.1530, 0.2077, 0.2422],\n",
       "        [0.1833, 0.2080, 0.2368, 0.3720],\n",
       "        [0.3367, 0.2509, 0.3201, 0.0923],\n",
       "        [0.4831, 0.1358, 0.1901, 0.1911],\n",
       "        [0.2113, 0.2270, 0.3708, 0.1909],\n",
       "        [0.3168, 0.2225, 0.2309, 0.2298],\n",
       "        [0.3377, 0.1197, 0.3477, 0.1949],\n",
       "        [0.1882, 0.2574, 0.2607, 0.2937],\n",
       "        [0.2812, 0.0892, 0.4181, 0.2115],\n",
       "        [0.2940, 0.2528, 0.2898, 0.1634],\n",
       "        [0.3627, 0.1413, 0.2020, 0.2939]], grad_fn=<SoftmaxBackward0>)"
      ]
     },
     "execution_count": 74,
     "metadata": {},
     "output_type": "execute_result"
    }
   ],
   "execution_count": 74
  }
 ],
 "metadata": {
  "kernelspec": {
   "display_name": "Python 3",
   "language": "python",
   "name": "python3"
  },
  "language_info": {
   "codemirror_mode": {
    "name": "ipython",
    "version": 2
   },
   "file_extension": ".py",
   "mimetype": "text/x-python",
   "name": "python",
   "nbconvert_exporter": "python",
   "pygments_lexer": "ipython2",
   "version": "2.7.6"
  }
 },
 "nbformat": 4,
 "nbformat_minor": 5
}
