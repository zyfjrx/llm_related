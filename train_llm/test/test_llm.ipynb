{
 "cells": [
  {
   "cell_type": "code",
   "metadata": {
    "ExecuteTime": {
     "end_time": "2025-04-16T08:05:49.455222Z",
     "start_time": "2025-04-16T08:05:48.726177Z"
    }
   },
   "source": [
    "from transformers import AutoTokenizer, AutoModelForCausalLM, AutoConfig\n",
    "import torch\n",
    "from mode_base import MiniMindLM\n",
    "from config import LMConfig"
   ],
   "outputs": [],
   "execution_count": 2
  },
  {
   "cell_type": "code",
   "metadata": {
    "ExecuteTime": {
     "end_time": "2025-04-16T08:07:10.426547Z",
     "start_time": "2025-04-16T08:07:10.405173Z"
    }
   },
   "source": [
    "t = AutoTokenizer.from_pretrained('/train_llm/model/save/pretrain/base/checkpoint-36800')\n",
    "AutoConfig.register(\"minimind\", LMConfig)\n",
    "AutoModelForCausalLM.register(LMConfig, MiniMindLM)"
   ],
   "outputs": [],
   "execution_count": 4
  },
  {
   "cell_type": "code",
   "metadata": {
    "ExecuteTime": {
     "end_time": "2025-04-16T08:07:26.251227Z",
     "start_time": "2025-04-16T08:07:26.028510Z"
    }
   },
   "source": [
    "\n",
    "model = AutoModelForCausalLM.from_pretrained('/train_llm/model/save/pretrain/base/checkpoint-36800')"
   ],
   "outputs": [],
   "execution_count": 5
  },
  {
   "cell_type": "code",
   "metadata": {
    "ExecuteTime": {
     "end_time": "2025-04-16T08:07:38.277587Z",
     "start_time": "2025-04-16T08:07:38.272787Z"
    }
   },
   "source": [
    "input_data = [t.bos_token_id] + t.encode('1+1等于')\n",
    "print(input_data)\n"
   ],
   "outputs": [
    {
     "name": "stdout",
     "output_type": "stream",
     "text": [
      "[1, 19, 13, 19, 6238]\n"
     ]
    }
   ],
   "execution_count": 6
  },
  {
   "metadata": {
    "ExecuteTime": {
     "end_time": "2025-04-16T08:16:11.310408Z",
     "start_time": "2025-04-16T08:16:11.304898Z"
    }
   },
   "cell_type": "code",
   "source": [
    "input_ids = torch.tensor(input_data)\n",
    "input_ids,input_ids.shape,input_ids.unsqueeze(0),input_ids.unsqueeze(0)shape"
   ],
   "outputs": [
    {
     "data": {
      "text/plain": [
       "(tensor([   1,   19,   13,   19, 6238]),\n",
       " torch.Size([5]),\n",
       " tensor([[   1,   19,   13,   19, 6238]]),\n",
       " torch.Size([1, 5]))"
      ]
     },
     "execution_count": 12,
     "metadata": {},
     "output_type": "execute_result"
    }
   ],
   "execution_count": 12
  },
  {
   "metadata": {
    "ExecuteTime": {
     "end_time": "2025-04-16T08:18:53.406671Z",
     "start_time": "2025-04-16T08:18:53.118257Z"
    }
   },
   "cell_type": "code",
   "source": [
    "for token in model.generate(torch.tensor(input_data).unsqueeze(0)):\n",
    "    print(t.decode(token))"
   ],
   "outputs": [
    {
     "name": "stdout",
     "output_type": "stream",
     "text": [
      "<s>1+1等于几？我怎么做？\n",
      "这个问题的答案是什么？如果是，就把2+2的结果乘以2，即可得到2。</s>\n"
     ]
    }
   ],
   "execution_count": 17
  },
  {
   "cell_type": "code",
   "execution_count": 189,
   "metadata": {},
   "outputs": [],
   "source": [
    "model = AutoModelForCausalLM.from_pretrained('/home/user/wyf/train_model_from_scratch/saves/sft')"
   ]
  },
  {
   "cell_type": "code",
   "execution_count": 190,
   "metadata": {},
   "outputs": [
    {
     "name": "stdout",
     "output_type": "stream",
     "text": [
      "[2, 321, 276, 202, 20, 14, 20, 6239, 3, 202, 2, 1079, 539, 502, 202]\n"
     ]
    }
   ],
   "source": [
    "input_data = t.apply_chat_template([{'role':'user', 'content':'1+1等于'}])\n",
    "print(input_data)"
   ]
  },
  {
   "cell_type": "code",
   "execution_count": 191,
   "metadata": {},
   "outputs": [
    {
     "name": "stdout",
     "output_type": "stream",
     "text": [
      "1+1等于2。\n"
     ]
    }
   ],
   "source": [
    "for token in model.generate({\"input_ids\":torch.tensor(input_data).unsqueeze(0), \"labels\":None}, t.eos_token_id, 200, stream=False,temperature=0.0, top_k=8):\n",
    "    print(t.decode(token[0]))"
   ]
  }
 ],
 "metadata": {
  "kernelspec": {
   "display_name": "wyf",
   "language": "python",
   "name": "python3"
  },
  "language_info": {
   "codemirror_mode": {
    "name": "ipython",
    "version": 3
   },
   "file_extension": ".py",
   "mimetype": "text/x-python",
   "name": "python",
   "nbconvert_exporter": "python",
   "pygments_lexer": "ipython3",
   "version": "3.11.0"
  }
 },
 "nbformat": 4,
 "nbformat_minor": 2
}
