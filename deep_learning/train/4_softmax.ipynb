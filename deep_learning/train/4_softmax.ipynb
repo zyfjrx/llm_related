{
 "cells": [
  {
   "cell_type": "code",
   "id": "initial_id",
   "metadata": {
    "collapsed": true,
    "ExecuteTime": {
     "end_time": "2025-06-09T14:28:28.321534Z",
     "start_time": "2025-06-09T14:28:27.710607Z"
    }
   },
   "source": "import torch",
   "outputs": [],
   "execution_count": 1
  },
  {
   "metadata": {
    "ExecuteTime": {
     "end_time": "2025-06-09T14:30:22.182372Z",
     "start_time": "2025-06-09T14:30:22.176029Z"
    }
   },
   "cell_type": "code",
   "source": [
    "x = torch.randn(3, 5)\n",
    "y = torch.softmax(x,dim=1)\n",
    "y,y.shape"
   ],
   "id": "d7c9dc34dd498e67",
   "outputs": [
    {
     "data": {
      "text/plain": [
       "(tensor([[0.1228, 0.3270, 0.1430, 0.1814, 0.2259],\n",
       "         [0.1273, 0.4887, 0.1730, 0.0387, 0.1723],\n",
       "         [0.0076, 0.3548, 0.3756, 0.2412, 0.0208]]),\n",
       " torch.Size([3, 5]))"
      ]
     },
     "execution_count": 5,
     "metadata": {},
     "output_type": "execute_result"
    }
   ],
   "execution_count": 5
  },
  {
   "metadata": {
    "ExecuteTime": {
     "end_time": "2025-06-09T14:31:04.223296Z",
     "start_time": "2025-06-09T14:31:04.218704Z"
    }
   },
   "cell_type": "code",
   "source": [
    "z = y.argmax(dim=1)\n",
    "z"
   ],
   "id": "d52bba309e07924d",
   "outputs": [
    {
     "data": {
      "text/plain": [
       "tensor([1, 1, 2])"
      ]
     },
     "execution_count": 7,
     "metadata": {},
     "output_type": "execute_result"
    }
   ],
   "execution_count": 7
  }
 ],
 "metadata": {
  "kernelspec": {
   "display_name": "Python 3",
   "language": "python",
   "name": "python3"
  },
  "language_info": {
   "codemirror_mode": {
    "name": "ipython",
    "version": 2
   },
   "file_extension": ".py",
   "mimetype": "text/x-python",
   "name": "python",
   "nbconvert_exporter": "python",
   "pygments_lexer": "ipython2",
   "version": "2.7.6"
  }
 },
 "nbformat": 4,
 "nbformat_minor": 5
}
