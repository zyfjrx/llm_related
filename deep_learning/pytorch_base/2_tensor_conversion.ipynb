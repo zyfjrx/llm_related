{
 "cells": [
  {
   "cell_type": "code",
   "id": "initial_id",
   "metadata": {
    "collapsed": true,
    "ExecuteTime": {
     "end_time": "2025-06-06T05:43:24.568571Z",
     "start_time": "2025-06-06T05:43:23.764215Z"
    }
   },
   "source": [
    "import torch\n",
    "import numpy as np"
   ],
   "outputs": [],
   "execution_count": 1
  },
  {
   "metadata": {
    "ExecuteTime": {
     "end_time": "2025-06-06T05:49:10.419329Z",
     "start_time": "2025-06-06T05:49:10.416432Z"
    }
   },
   "cell_type": "code",
   "source": [
    "tensor = torch.tensor([1, 2, 3])\n",
    "print(tensor,tensor.dtype)\n",
    "tensor = tensor.type(torch.float64)\n",
    "print(tensor,tensor.dtype)"
   ],
   "id": "dfad44ac0b0fbc93",
   "outputs": [
    {
     "name": "stdout",
     "output_type": "stream",
     "text": [
      "tensor([1, 2, 3]) torch.int64\n",
      "tensor([1., 2., 3.], dtype=torch.float64) torch.float64\n"
     ]
    }
   ],
   "execution_count": 9
  },
  {
   "metadata": {
    "ExecuteTime": {
     "end_time": "2025-06-06T05:49:24.254792Z",
     "start_time": "2025-06-06T05:49:24.249610Z"
    }
   },
   "cell_type": "code",
   "source": [
    "tensor = torch.Tensor( 2, 3)\n",
    "print(tensor,tensor.dtype)"
   ],
   "id": "17eb6da9959e1bd7",
   "outputs": [
    {
     "name": "stdout",
     "output_type": "stream",
     "text": [
      "tensor([[6.7999e-14, 0.0000e+00, 0.0000e+00],\n",
      "        [0.0000e+00, 4.4842e-44, 0.0000e+00]]) torch.float32\n"
     ]
    }
   ],
   "execution_count": 10
  },
  {
   "metadata": {
    "ExecuteTime": {
     "end_time": "2025-06-06T06:07:55.124304Z",
     "start_time": "2025-06-06T06:07:55.115962Z"
    }
   },
   "cell_type": "code",
   "source": [
    "# tensor 和 ndarray的转换\n",
    "tensor = torch.rand(3,2)\n",
    "print(tensor,tensor.dtype)\n",
    "np_array = tensor.numpy()  # 共享内存\n",
    "print(np_array,np_array.dtype)\n",
    "print(type(tensor),type(np_array))"
   ],
   "id": "6e79fef37751c73e",
   "outputs": [
    {
     "name": "stdout",
     "output_type": "stream",
     "text": [
      "tensor([[0.3238, 0.8389],\n",
      "        [0.6180, 0.5156],\n",
      "        [0.4881, 0.0580]]) torch.float32\n",
      "[[0.32377404 0.83892065]\n",
      " [0.6180481  0.51556236]\n",
      " [0.48808485 0.05796635]] float32\n",
      "<class 'torch.Tensor'> <class 'numpy.ndarray'>\n"
     ]
    }
   ],
   "execution_count": 13
  },
  {
   "metadata": {
    "ExecuteTime": {
     "end_time": "2025-06-06T06:10:28.105992Z",
     "start_time": "2025-06-06T06:10:28.099215Z"
    }
   },
   "cell_type": "code",
   "source": [
    "tensor[:,0] = 10\n",
    "print(tensor,tensor.dtype)\n",
    "print(np_array,np_array.dtype)\n",
    "print(id(tensor),id(np_array))"
   ],
   "id": "5e63ca18ca895bd3",
   "outputs": [
    {
     "name": "stdout",
     "output_type": "stream",
     "text": [
      "tensor([[10.0000,  0.8389],\n",
      "        [10.0000,  0.5156],\n",
      "        [10.0000,  0.0580]]) torch.float32\n",
      "[[10.          0.83892065]\n",
      " [10.          0.51556236]\n",
      " [10.          0.05796635]] float32\n",
      "138119447331920 138119450111376\n"
     ]
    }
   ],
   "execution_count": 16
  },
  {
   "metadata": {
    "ExecuteTime": {
     "end_time": "2025-06-06T06:13:09.595691Z",
     "start_time": "2025-06-06T06:13:09.589062Z"
    }
   },
   "cell_type": "code",
   "source": [
    "np_array2 = tensor.numpy().copy()\n",
    "tensor[:,0] = 11\n",
    "print(tensor)\n",
    "print(np_array2)"
   ],
   "id": "5650c3d4b116a52c",
   "outputs": [
    {
     "name": "stdout",
     "output_type": "stream",
     "text": [
      "tensor([[11.0000,  0.8389],\n",
      "        [11.0000,  0.5156],\n",
      "        [11.0000,  0.0580]])\n",
      "[[11.          0.83892065]\n",
      " [11.          0.51556236]\n",
      " [11.          0.05796635]]\n"
     ]
    }
   ],
   "execution_count": 18
  },
  {
   "metadata": {
    "ExecuteTime": {
     "end_time": "2025-06-06T06:22:05.350819Z",
     "start_time": "2025-06-06T06:22:05.345373Z"
    }
   },
   "cell_type": "code",
   "source": [
    "# 将ndarray 转化为 tensor\n",
    "np_array = np.random.randn(3,2)\n",
    "tensor = torch.from_numpy(np_array)\n",
    "print(np_array,np_array.dtype)\n",
    "print(tensor,tensor.dtype)"
   ],
   "id": "91d09b56d259bd2b",
   "outputs": [
    {
     "name": "stdout",
     "output_type": "stream",
     "text": [
      "[[-0.01463454 -0.3218049 ]\n",
      " [ 0.35958845  0.88864921]\n",
      " [-0.15374413  1.32742366]] float64\n",
      "tensor([[-0.0146, -0.3218],\n",
      "        [ 0.3596,  0.8886],\n",
      "        [-0.1537,  1.3274]], dtype=torch.float64) torch.float64\n"
     ]
    }
   ],
   "execution_count": 20
  },
  {
   "metadata": {
    "ExecuteTime": {
     "end_time": "2025-06-06T06:25:39.571659Z",
     "start_time": "2025-06-06T06:25:39.565895Z"
    }
   },
   "cell_type": "code",
   "source": [
    "tensor1 = torch.tensor(np_array)\n",
    "print(tensor1,tensor1.dtype)"
   ],
   "id": "bb37d7d9c091502c",
   "outputs": [
    {
     "name": "stdout",
     "output_type": "stream",
     "text": [
      "tensor([[-0.0146, -0.3218],\n",
      "        [ 0.3596,  0.8886],\n",
      "        [-0.1537,  1.3274]]) torch.float32\n"
     ]
    }
   ],
   "execution_count": 22
  },
  {
   "metadata": {
    "ExecuteTime": {
     "end_time": "2025-06-06T06:29:05.524838Z",
     "start_time": "2025-06-06T06:29:05.519575Z"
    }
   },
   "cell_type": "code",
   "source": [
    "tensor2 = torch.tensor([[1]])\n",
    "print(tensor2)\n",
    "print(tensor2.item())"
   ],
   "id": "aabff570af5ea464",
   "outputs": [
    {
     "name": "stdout",
     "output_type": "stream",
     "text": [
      "tensor([[1]])\n",
      "1\n"
     ]
    }
   ],
   "execution_count": 24
  }
 ],
 "metadata": {
  "kernelspec": {
   "display_name": "Python 3",
   "language": "python",
   "name": "python3"
  },
  "language_info": {
   "codemirror_mode": {
    "name": "ipython",
    "version": 2
   },
   "file_extension": ".py",
   "mimetype": "text/x-python",
   "name": "python",
   "nbconvert_exporter": "python",
   "pygments_lexer": "ipython2",
   "version": "2.7.6"
  }
 },
 "nbformat": 4,
 "nbformat_minor": 5
}
