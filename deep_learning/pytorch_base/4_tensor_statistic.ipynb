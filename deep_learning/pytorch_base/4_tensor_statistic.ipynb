{
 "cells": [
  {
   "cell_type": "code",
   "id": "initial_id",
   "metadata": {
    "collapsed": true,
    "ExecuteTime": {
     "end_time": "2025-06-07T07:26:34.220875Z",
     "start_time": "2025-06-07T07:26:33.728933Z"
    }
   },
   "source": "import torch",
   "outputs": [],
   "execution_count": 1
  },
  {
   "metadata": {
    "ExecuteTime": {
     "end_time": "2025-06-07T07:35:18.301799Z",
     "start_time": "2025-06-07T07:35:18.298254Z"
    }
   },
   "cell_type": "code",
   "source": [
    "tensor = torch.randint(1, 10, (3, 2, 4))\n",
    "print(tensor)"
   ],
   "id": "54400feb4cf43ba4",
   "outputs": [
    {
     "name": "stdout",
     "output_type": "stream",
     "text": [
      "tensor([[[3, 8, 3, 3],\n",
      "         [4, 3, 1, 2]],\n",
      "\n",
      "        [[4, 6, 4, 6],\n",
      "         [2, 5, 6, 9]],\n",
      "\n",
      "        [[6, 2, 5, 7],\n",
      "         [6, 3, 6, 6]]])\n"
     ]
    }
   ],
   "execution_count": 14
  },
  {
   "metadata": {
    "ExecuteTime": {
     "end_time": "2025-06-07T07:28:47.457211Z",
     "start_time": "2025-06-07T07:28:47.453412Z"
    }
   },
   "cell_type": "code",
   "source": [
    "s = tensor.sum()\n",
    "print(s)\n",
    "print(s.shape)"
   ],
   "id": "e89bcee79e6cd7e9",
   "outputs": [
    {
     "name": "stdout",
     "output_type": "stream",
     "text": [
      "tensor(146)\n",
      "torch.Size([])\n"
     ]
    }
   ],
   "execution_count": 8
  },
  {
   "metadata": {
    "ExecuteTime": {
     "end_time": "2025-06-07T07:29:00.148813Z",
     "start_time": "2025-06-07T07:29:00.143608Z"
    }
   },
   "cell_type": "code",
   "source": [
    "s = tensor.sum(dim=0)\n",
    "print(s)\n",
    "print(s.shape)"
   ],
   "id": "98a57a2274da8832",
   "outputs": [
    {
     "name": "stdout",
     "output_type": "stream",
     "text": [
      "tensor([[15, 17, 19, 15],\n",
      "        [19, 16, 22, 23]])\n",
      "torch.Size([2, 4])\n"
     ]
    }
   ],
   "execution_count": 9
  },
  {
   "metadata": {
    "ExecuteTime": {
     "end_time": "2025-06-07T07:31:06.575116Z",
     "start_time": "2025-06-07T07:31:06.571668Z"
    }
   },
   "cell_type": "code",
   "source": [
    "s = tensor.sum(dim=1)\n",
    "print(s)\n",
    "print(s.shape)"
   ],
   "id": "e92712d65b6b9cc9",
   "outputs": [
    {
     "name": "stdout",
     "output_type": "stream",
     "text": [
      "tensor([[ 6,  9, 17, 13],\n",
      "        [14, 10, 10, 13],\n",
      "        [14, 14, 14, 12]])\n",
      "torch.Size([3, 4])\n"
     ]
    }
   ],
   "execution_count": 10
  },
  {
   "metadata": {
    "ExecuteTime": {
     "end_time": "2025-06-07T07:31:48.700563Z",
     "start_time": "2025-06-07T07:31:48.695999Z"
    }
   },
   "cell_type": "code",
   "source": [
    "s = tensor.sum(dim=2)\n",
    "print(s)\n",
    "print(s.shape)"
   ],
   "id": "541aa52e300d3947",
   "outputs": [
    {
     "name": "stdout",
     "output_type": "stream",
     "text": [
      "tensor([[22, 23],\n",
      "        [19, 28],\n",
      "        [25, 29]])\n",
      "torch.Size([3, 2])\n"
     ]
    }
   ],
   "execution_count": 12
  },
  {
   "metadata": {
    "ExecuteTime": {
     "end_time": "2025-06-07T07:37:28.928540Z",
     "start_time": "2025-06-07T07:37:28.922237Z"
    }
   },
   "cell_type": "code",
   "source": [
    "tensor = torch.randint(1, 10, (3, 2, 4),dtype=torch.float)\n",
    "print(tensor)\n",
    "print(tensor.mean())\n",
    "print(tensor.std())"
   ],
   "id": "ce859bdd80463537",
   "outputs": [
    {
     "name": "stdout",
     "output_type": "stream",
     "text": [
      "tensor([[[3., 5., 4., 4.],\n",
      "         [2., 9., 5., 2.]],\n",
      "\n",
      "        [[2., 5., 3., 5.],\n",
      "         [1., 9., 3., 2.]],\n",
      "\n",
      "        [[1., 5., 6., 9.],\n",
      "         [2., 1., 4., 4.]]])\n",
      "tensor(4.)\n",
      "tensor(2.4137)\n"
     ]
    }
   ],
   "execution_count": 20
  },
  {
   "metadata": {
    "ExecuteTime": {
     "end_time": "2025-06-08T01:09:42.650090Z",
     "start_time": "2025-06-08T01:09:42.646253Z"
    }
   },
   "cell_type": "code",
   "source": "print(tensor.mean(dim=0))",
   "id": "ba99bfc8bd823a37",
   "outputs": [
    {
     "name": "stdout",
     "output_type": "stream",
     "text": [
      "tensor([[2.0000, 5.0000, 4.3333, 6.0000],\n",
      "        [1.6667, 6.3333, 4.0000, 2.6667]])\n"
     ]
    }
   ],
   "execution_count": 31
  },
  {
   "metadata": {
    "ExecuteTime": {
     "end_time": "2025-06-08T01:09:12.580245Z",
     "start_time": "2025-06-08T01:09:12.574917Z"
    }
   },
   "cell_type": "code",
   "source": "print(tensor.argmax(dim=1))",
   "id": "47687fc471613989",
   "outputs": [
    {
     "name": "stdout",
     "output_type": "stream",
     "text": [
      "tensor([[0, 1, 1, 0],\n",
      "        [0, 1, 0, 0],\n",
      "        [1, 0, 0, 0]])\n"
     ]
    }
   ],
   "execution_count": 28
  },
  {
   "metadata": {
    "ExecuteTime": {
     "end_time": "2025-06-08T01:08:04.659238Z",
     "start_time": "2025-06-08T01:08:04.653531Z"
    }
   },
   "cell_type": "code",
   "source": "print(tensor.unique(dim=1))",
   "id": "4ecea1b8dabda5fb",
   "outputs": [
    {
     "name": "stdout",
     "output_type": "stream",
     "text": [
      "tensor([[[2., 9., 5., 2.],\n",
      "         [3., 5., 4., 4.]],\n",
      "\n",
      "        [[1., 9., 3., 2.],\n",
      "         [2., 5., 3., 5.]],\n",
      "\n",
      "        [[2., 1., 4., 4.],\n",
      "         [1., 5., 6., 9.]]])\n"
     ]
    }
   ],
   "execution_count": 27
  },
  {
   "metadata": {
    "ExecuteTime": {
     "end_time": "2025-06-08T01:17:07.892472Z",
     "start_time": "2025-06-08T01:17:07.887308Z"
    }
   },
   "cell_type": "code",
   "source": "print(tensor.sort())",
   "id": "28e9275769721444",
   "outputs": [
    {
     "name": "stdout",
     "output_type": "stream",
     "text": [
      "torch.return_types.sort(\n",
      "values=tensor([[[3., 4., 4., 5.],\n",
      "         [2., 2., 5., 9.]],\n",
      "\n",
      "        [[2., 3., 5., 5.],\n",
      "         [1., 2., 3., 9.]],\n",
      "\n",
      "        [[1., 5., 6., 9.],\n",
      "         [1., 2., 4., 4.]]]),\n",
      "indices=tensor([[[0, 2, 3, 1],\n",
      "         [0, 3, 2, 1]],\n",
      "\n",
      "        [[0, 2, 1, 3],\n",
      "         [0, 3, 2, 1]],\n",
      "\n",
      "        [[0, 1, 2, 3],\n",
      "         [1, 0, 2, 3]]]))\n"
     ]
    }
   ],
   "execution_count": 32
  }
 ],
 "metadata": {
  "kernelspec": {
   "display_name": "Python 3",
   "language": "python",
   "name": "python3"
  },
  "language_info": {
   "codemirror_mode": {
    "name": "ipython",
    "version": 2
   },
   "file_extension": ".py",
   "mimetype": "text/x-python",
   "name": "python",
   "nbconvert_exporter": "python",
   "pygments_lexer": "ipython2",
   "version": "2.7.6"
  }
 },
 "nbformat": 4,
 "nbformat_minor": 5
}
