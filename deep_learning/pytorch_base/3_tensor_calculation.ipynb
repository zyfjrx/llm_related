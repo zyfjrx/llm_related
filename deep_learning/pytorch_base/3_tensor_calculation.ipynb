{
 "cells": [
  {
   "cell_type": "code",
   "id": "initial_id",
   "metadata": {
    "collapsed": true,
    "ExecuteTime": {
     "end_time": "2025-06-07T07:18:22.563923Z",
     "start_time": "2025-06-07T07:18:20.602112Z"
    }
   },
   "source": "import torch\n",
   "outputs": [],
   "execution_count": 2
  },
  {
   "metadata": {
    "ExecuteTime": {
     "end_time": "2025-06-06T06:34:51.201671Z",
     "start_time": "2025-06-06T06:34:51.197722Z"
    }
   },
   "cell_type": "code",
   "source": [
    "\n",
    "tensor1 = torch.randint(1, 9, (2, 3))\n",
    "print(tensor1)\n",
    "print(tensor1 + 10)\n",
    "print(tensor1)\n",
    "print(\"*\" * 100)\n",
    "\n",
    "# add()，不修改原数据\n",
    "print(tensor1.add(10))\n",
    "print(tensor1)\n",
    "print(\"*\" * 100)\n",
    "\n",
    "# add_() 修改原数据\n",
    "print(tensor1.add_(10))\n",
    "print(tensor1)\n",
    "print(\"*\" * 100)\n"
   ],
   "id": "1c199ff24ee0b2cf",
   "outputs": [
    {
     "name": "stdout",
     "output_type": "stream",
     "text": [
      "tensor([[5, 8, 7],\n",
      "        [6, 8, 8]])\n",
      "tensor([[15, 18, 17],\n",
      "        [16, 18, 18]])\n",
      "tensor([[5, 8, 7],\n",
      "        [6, 8, 8]])\n",
      "****************************************************************************************************\n",
      "tensor([[15, 18, 17],\n",
      "        [16, 18, 18]])\n",
      "tensor([[5, 8, 7],\n",
      "        [6, 8, 8]])\n",
      "****************************************************************************************************\n",
      "tensor([[15, 18, 17],\n",
      "        [16, 18, 18]])\n",
      "tensor([[15, 18, 17],\n",
      "        [16, 18, 18]])\n",
      "****************************************************************************************************\n"
     ]
    }
   ],
   "execution_count": 6
  },
  {
   "metadata": {
    "ExecuteTime": {
     "end_time": "2025-06-06T06:37:33.069226Z",
     "start_time": "2025-06-06T06:37:33.062782Z"
    }
   },
   "cell_type": "code",
   "source": [
    "print(-tensor1)\n",
    "print(tensor1)\n",
    "print(\"*\" * 100)\n",
    "#\n",
    "print(tensor1.neg())\n",
    "print(tensor1)\n",
    "print(\"*\" * 100)\n",
    "\n",
    "print(tensor1.neg_())\n",
    "print(tensor1)\n",
    "print(\"*\" * 100)\n"
   ],
   "id": "89be8b6fae15b229",
   "outputs": [
    {
     "name": "stdout",
     "output_type": "stream",
     "text": [
      "tensor([[15, 18, 17],\n",
      "        [16, 18, 18]])\n",
      "tensor([[-15, -18, -17],\n",
      "        [-16, -18, -18]])\n",
      "****************************************************************************************************\n",
      "tensor([[15, 18, 17],\n",
      "        [16, 18, 18]])\n",
      "tensor([[-15, -18, -17],\n",
      "        [-16, -18, -18]])\n",
      "****************************************************************************************************\n",
      "tensor([[15, 18, 17],\n",
      "        [16, 18, 18]])\n",
      "tensor([[15, 18, 17],\n",
      "        [16, 18, 18]])\n",
      "****************************************************************************************************\n"
     ]
    }
   ],
   "execution_count": 10
  },
  {
   "metadata": {
    "ExecuteTime": {
     "end_time": "2025-06-06T06:40:31.886020Z",
     "start_time": "2025-06-06T06:40:31.880069Z"
    }
   },
   "cell_type": "code",
   "source": [
    "print(tensor1.type(torch.float).sqrt_())\n",
    "print(tensor1)\n",
    "print(\"*\" * 100)"
   ],
   "id": "87461d4c7f26bbbb",
   "outputs": [
    {
     "name": "stdout",
     "output_type": "stream",
     "text": [
      "tensor([[3.8730, 4.2426, 4.1231],\n",
      "        [4.0000, 4.2426, 4.2426]])\n",
      "tensor([[15, 18, 17],\n",
      "        [16, 18, 18]])\n",
      "****************************************************************************************************\n"
     ]
    }
   ],
   "execution_count": 11
  },
  {
   "metadata": {
    "ExecuteTime": {
     "end_time": "2025-06-06T06:48:55.272527Z",
     "start_time": "2025-06-06T06:48:55.265956Z"
    }
   },
   "cell_type": "code",
   "source": [
    "# 哈达玛积（元素级乘法）使用*、mul()实现两个形状相同的张量之间对位相乘\n",
    "tensor1 = torch.tensor([[1, 2], [3, 4]])\n",
    "tensor2 = torch.tensor([[1, 2], [3, 4]])\n",
    "print(tensor1 * tensor2)\n",
    "print(tensor1 + tensor2)\n",
    "print(tensor1.mul(tensor2))\n"
   ],
   "id": "defc4e68ebf70ab0",
   "outputs": [
    {
     "name": "stdout",
     "output_type": "stream",
     "text": [
      "tensor([[ 1,  4],\n",
      "        [ 9, 16]])\n",
      "tensor([[2, 4],\n",
      "        [6, 8]])\n",
      "tensor([[ 1,  4],\n",
      "        [ 9, 16]])\n"
     ]
    }
   ],
   "execution_count": 14
  },
  {
   "metadata": {
    "ExecuteTime": {
     "end_time": "2025-06-06T06:50:53.915381Z",
     "start_time": "2025-06-06T06:50:53.906499Z"
    }
   },
   "cell_type": "code",
   "source": [
    "# 维矩阵的矩阵乘法\n",
    "# mm() 严格用于二维矩阵相乘\n",
    "# @ 、 matmul() 支持多维张量，按最后两个维度做矩阵乘法，其他维度广播\n",
    "tensor1 = torch.tensor([[1, 2, 3], [4, 5, 6]])\n",
    "tensor2 = torch.tensor([[1, 2], [3, 4], [5, 6]])\n",
    "print(tensor1)\n",
    "print(tensor2)\n",
    "print(tensor1.mm(tensor2))\n",
    "print(tensor1 @ tensor2)\n",
    "print(tensor1.matmul(tensor2))\n",
    "print()\n"
   ],
   "id": "66cce4349c32c9ff",
   "outputs": [
    {
     "name": "stdout",
     "output_type": "stream",
     "text": [
      "tensor([[1, 2, 3],\n",
      "        [4, 5, 6]])\n",
      "tensor([[1, 2],\n",
      "        [3, 4],\n",
      "        [5, 6]])\n",
      "tensor([[22, 28],\n",
      "        [49, 64]])\n",
      "tensor([[22, 28],\n",
      "        [49, 64]])\n",
      "tensor([[22, 28],\n",
      "        [49, 64]])\n",
      "\n"
     ]
    }
   ],
   "execution_count": 16
  },
  {
   "metadata": {
    "ExecuteTime": {
     "end_time": "2025-06-06T06:57:06.517305Z",
     "start_time": "2025-06-06T06:57:06.510982Z"
    }
   },
   "cell_type": "code",
   "source": [
    "tensor1 = torch.tensor([[[1, 2, 3], [4, 5, 6]],[[4, 5, 6],[1, 2, 3]]])\n",
    "print(tensor1.shape)\n",
    "tensor2 = torch.tensor([[[1, 2], [3, 4], [5, 6]]])\n",
    "print(tensor2.shape)\n",
    "t = tensor1 @ tensor2\n",
    "print(t.shape)\n",
    "print(t)\n"
   ],
   "id": "32320ab937efcd86",
   "outputs": [
    {
     "name": "stdout",
     "output_type": "stream",
     "text": [
      "torch.Size([2, 2, 3])\n",
      "torch.Size([1, 3, 2])\n",
      "torch.Size([2, 2, 2])\n",
      "tensor([[[22, 28],\n",
      "         [49, 64]],\n",
      "\n",
      "        [[49, 64],\n",
      "         [22, 28]]])\n"
     ]
    }
   ],
   "execution_count": 23
  },
  {
   "metadata": {
    "ExecuteTime": {
     "end_time": "2025-06-06T07:03:50.479137Z",
     "start_time": "2025-06-06T07:03:50.473574Z"
    }
   },
   "cell_type": "code",
   "source": [
    "# 内积运算 dot 必须是一维向量相乘\n",
    "tensor1 = torch.tensor([1, 2, 3])\n",
    "tensor2 = torch.tensor([4, 5, 6])\n",
    "print(tensor1.dot(tensor2))\n",
    "\n"
   ],
   "id": "eda3ccf483d9c634",
   "outputs": [
    {
     "name": "stdout",
     "output_type": "stream",
     "text": [
      "tensor(32)\n"
     ]
    }
   ],
   "execution_count": 24
  },
  {
   "metadata": {
    "ExecuteTime": {
     "end_time": "2025-06-06T08:23:49.454557Z",
     "start_time": "2025-06-06T08:23:49.447951Z"
    }
   },
   "cell_type": "code",
   "source": [
    "X = torch.randint(1, 9, (3, 2, 4))\n",
    "Y = torch.randint(1, 9, (3, 2, 4))\n",
    "print(id(X))\n",
    "X[:] = X * Y\n",
    "print(id(X), end=\"\\n\\n\")\n"
   ],
   "id": "d2d9488b5ae54803",
   "outputs": [
    {
     "name": "stdout",
     "output_type": "stream",
     "text": [
      "124442597059104\n",
      "124442597059104\n",
      "\n"
     ]
    }
   ],
   "execution_count": 26
  },
  {
   "metadata": {
    "ExecuteTime": {
     "end_time": "2025-06-06T08:43:04.045387Z",
     "start_time": "2025-06-06T08:43:04.039189Z"
    }
   },
   "cell_type": "code",
   "source": [
    "X = torch.randint(1, 9, (3, 2, 4))\n",
    "Y = torch.randint(1, 9, (3, 4, 1))\n",
    "print(id(X))\n",
    "X[:] = X @ Y\n",
    "print(id(X), end=\"\\n\\n\")\n",
    "print(X.shape)"
   ],
   "id": "61c1d3e7c3e9411",
   "outputs": [
    {
     "name": "stdout",
     "output_type": "stream",
     "text": [
      "124442586155424\n",
      "124442586155424\n",
      "\n",
      "torch.Size([3, 2, 4])\n"
     ]
    }
   ],
   "execution_count": 37
  },
  {
   "metadata": {
    "ExecuteTime": {
     "end_time": "2025-06-07T07:18:28.256037Z",
     "start_time": "2025-06-07T07:18:28.249678Z"
    }
   },
   "cell_type": "code",
   "source": [
    "tensor = torch.randint(1, 9, (3, 2, 4))\n",
    "print(tensor)"
   ],
   "id": "8195b0615fe3fb69",
   "outputs": [
    {
     "name": "stdout",
     "output_type": "stream",
     "text": [
      "tensor([[[4, 3, 8, 8],\n",
      "         [5, 7, 7, 8]],\n",
      "\n",
      "        [[7, 4, 3, 2],\n",
      "         [8, 7, 6, 7]],\n",
      "\n",
      "        [[1, 4, 4, 6],\n",
      "         [8, 2, 2, 8]]])\n"
     ]
    }
   ],
   "execution_count": 3
  },
  {
   "metadata": {
    "ExecuteTime": {
     "end_time": "2025-06-07T07:25:16.448453Z",
     "start_time": "2025-06-07T07:25:16.445725Z"
    }
   },
   "cell_type": "code",
   "source": [
    "s = tensor.sum(dim=0)\n",
    "print(s)\n",
    "print(s.shape)"
   ],
   "id": "d3a04b7254a5fe5d",
   "outputs": [
    {
     "name": "stdout",
     "output_type": "stream",
     "text": [
      "tensor([[12, 11, 15, 16],\n",
      "        [21, 16, 15, 23]])\n",
      "torch.Size([2, 4])\n"
     ]
    }
   ],
   "execution_count": 6
  }
 ],
 "metadata": {
  "kernelspec": {
   "display_name": "Python 3",
   "language": "python",
   "name": "python3"
  },
  "language_info": {
   "codemirror_mode": {
    "name": "ipython",
    "version": 2
   },
   "file_extension": ".py",
   "mimetype": "text/x-python",
   "name": "python",
   "nbconvert_exporter": "python",
   "pygments_lexer": "ipython2",
   "version": "2.7.6"
  }
 },
 "nbformat": 4,
 "nbformat_minor": 5
}
