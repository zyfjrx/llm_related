{
 "cells": [
  {
   "cell_type": "code",
   "id": "initial_id",
   "metadata": {
    "collapsed": true,
    "ExecuteTime": {
     "end_time": "2025-06-06T02:46:54.443785Z",
     "start_time": "2025-06-06T02:46:53.616644Z"
    }
   },
   "source": [
    "import torch\n",
    "import numpy as np"
   ],
   "outputs": [],
   "execution_count": 1
  },
  {
   "metadata": {
    "ExecuteTime": {
     "end_time": "2025-06-06T02:47:16.277899Z",
     "start_time": "2025-06-06T02:47:16.270765Z"
    }
   },
   "cell_type": "code",
   "source": [
    "# 1.基本张量创建，\n",
    "# 创建标量\n",
    "tensor1 = torch.tensor(10)\n",
    "print(tensor1)"
   ],
   "id": "9e57dfa5f67a757",
   "outputs": [
    {
     "name": "stdout",
     "output_type": "stream",
     "text": [
      "tensor(10)\n"
     ]
    }
   ],
   "execution_count": 2
  },
  {
   "metadata": {
    "ExecuteTime": {
     "end_time": "2025-06-06T02:51:09.264204Z",
     "start_time": "2025-06-06T02:51:09.260100Z"
    }
   },
   "cell_type": "code",
   "source": [
    "# 传入列表\n",
    "tensor2 = torch.tensor([1, 2, 3, 4, 5])\n",
    "tensor3 = torch.tensor([[1, 2, 3, 4, 5], [6, 7, 8, 9, 10]])\n",
    "print(tensor2)\n",
    "print(tensor3)\n",
    "print(tensor2.shape)\n",
    "print(tensor3.shape)"
   ],
   "id": "c6bba933a97afa7b",
   "outputs": [
    {
     "name": "stdout",
     "output_type": "stream",
     "text": [
      "tensor([1, 2, 3, 4, 5])\n",
      "tensor([[ 1,  2,  3,  4,  5],\n",
      "        [ 6,  7,  8,  9, 10]])\n",
      "torch.Size([5])\n",
      "torch.Size([2, 5])\n"
     ]
    }
   ],
   "execution_count": 6
  },
  {
   "metadata": {
    "ExecuteTime": {
     "end_time": "2025-06-06T02:58:14.637626Z",
     "start_time": "2025-06-06T02:58:14.631918Z"
    }
   },
   "cell_type": "code",
   "source": [
    "# 传入ndarray\n",
    "tensor4 = torch.tensor(np.array([[1.0, 2, 3, 4, 5], [6, 7, 8, 9, 10]]))\n",
    "print(tensor4)\n",
    "print(tensor4.dtype)"
   ],
   "id": "67400a0590bc68e",
   "outputs": [
    {
     "name": "stdout",
     "output_type": "stream",
     "text": [
      "tensor([[ 1.,  2.,  3.,  4.,  5.],\n",
      "        [ 6.,  7.,  8.,  9., 10.]], dtype=torch.float64)\n",
      "torch.float64\n"
     ]
    }
   ],
   "execution_count": 12
  },
  {
   "metadata": {
    "ExecuteTime": {
     "end_time": "2025-06-06T03:00:55.919712Z",
     "start_time": "2025-06-06T03:00:55.913235Z"
    }
   },
   "cell_type": "code",
   "source": [
    "tensor5 = torch.Tensor(np.array([[1, 2, 3, 4, 5], [6, 7, 8, 9, 10]]))\n",
    "print(tensor5)\n",
    "print(tensor5.dtype)"
   ],
   "id": "77e7ff3afe4eb471",
   "outputs": [
    {
     "name": "stdout",
     "output_type": "stream",
     "text": [
      "tensor([[ 1.,  2.,  3.,  4.,  5.],\n",
      "        [ 6.,  7.,  8.,  9., 10.]])\n",
      "torch.float32\n"
     ]
    }
   ],
   "execution_count": 16
  },
  {
   "metadata": {
    "ExecuteTime": {
     "end_time": "2025-06-06T03:05:27.509743Z",
     "start_time": "2025-06-06T03:05:27.504121Z"
    }
   },
   "cell_type": "code",
   "source": "tensor6 = torch.tensor(np.array([[1, 2, 3, 4, 5], [6, 7, 8, 9, 10]]), dtype=torch.int32)",
   "id": "85554170c0e2a226",
   "outputs": [
    {
     "name": "stdout",
     "output_type": "stream",
     "text": [
      "tensor([[ 1,  2,  3,  4,  5],\n",
      "        [ 6,  7,  8,  9, 10]], dtype=torch.int32)\n",
      "torch.int32\n"
     ]
    }
   ],
   "execution_count": 17
  },
  {
   "metadata": {
    "ExecuteTime": {
     "end_time": "2025-06-06T05:01:57.540725Z",
     "start_time": "2025-06-06T05:01:57.535656Z"
    }
   },
   "cell_type": "code",
   "source": [
    "tensor = torch.arange(10, 30, 2)\n",
    "print(tensor)\n",
    "print(tensor.dtype)"
   ],
   "id": "cb154d86bcb9cb0e",
   "outputs": [
    {
     "name": "stdout",
     "output_type": "stream",
     "text": [
      "tensor([10, 12, 14, 16, 18, 20, 22, 24, 26, 28])\n",
      "torch.int64\n"
     ]
    }
   ],
   "execution_count": 23
  },
  {
   "metadata": {
    "ExecuteTime": {
     "end_time": "2025-06-06T05:06:36.376790Z",
     "start_time": "2025-06-06T05:06:36.371339Z"
    }
   },
   "cell_type": "code",
   "source": [
    "tensor = torch.arange(10)\n",
    "print(tensor)\n",
    "print(tensor.dtype)"
   ],
   "id": "61bfc2f01be8e60f",
   "outputs": [
    {
     "name": "stdout",
     "output_type": "stream",
     "text": [
      "tensor([0, 1, 2, 3, 4, 5, 6, 7, 8, 9])\n",
      "torch.int64\n"
     ]
    }
   ],
   "execution_count": 27
  },
  {
   "metadata": {
    "ExecuteTime": {
     "end_time": "2025-06-06T05:06:38.325606Z",
     "start_time": "2025-06-06T05:06:38.322913Z"
    }
   },
   "cell_type": "code",
   "source": [
    "tensor = torch.linspace(10, 30, 5)\n",
    "print(tensor)\n",
    "print(tensor.dtype)"
   ],
   "id": "3ffc309d38198d43",
   "outputs": [
    {
     "name": "stdout",
     "output_type": "stream",
     "text": [
      "tensor([10., 15., 20., 25., 30.])\n",
      "torch.float32\n"
     ]
    }
   ],
   "execution_count": 28
  },
  {
   "metadata": {
    "ExecuteTime": {
     "end_time": "2025-06-06T05:12:56.888361Z",
     "start_time": "2025-06-06T05:12:56.883214Z"
    }
   },
   "cell_type": "code",
   "source": [
    "tensor = torch.logspace(1, 3, 3, 2)\n",
    "print(tensor)\n",
    "print(tensor.dtype)"
   ],
   "id": "99215bbd09f72d35",
   "outputs": [
    {
     "name": "stdout",
     "output_type": "stream",
     "text": [
      "tensor([2., 4., 8.])\n",
      "torch.float32\n"
     ]
    }
   ],
   "execution_count": 38
  },
  {
   "metadata": {
    "ExecuteTime": {
     "end_time": "2025-06-06T05:18:25.790162Z",
     "start_time": "2025-06-06T05:18:25.786269Z"
    }
   },
   "cell_type": "code",
   "source": [
    "tensor = torch.zeros(2, 3)\n",
    "tensor1 = torch.ones_like(tensor)\n",
    "print(tensor, tensor.dtype)\n",
    "print(tensor1, tensor1.dtype)"
   ],
   "id": "1c606662e3424ea5",
   "outputs": [
    {
     "name": "stdout",
     "output_type": "stream",
     "text": [
      "tensor([[0., 0., 0.],\n",
      "        [0., 0., 0.]]) torch.float32\n",
      "tensor([[1., 1., 1.],\n",
      "        [1., 1., 1.]]) torch.float32\n"
     ]
    }
   ],
   "execution_count": 48
  },
  {
   "metadata": {
    "ExecuteTime": {
     "end_time": "2025-06-06T05:20:11.063762Z",
     "start_time": "2025-06-06T05:20:11.057385Z"
    }
   },
   "cell_type": "code",
   "source": [
    "tensor = torch.full((2,3),5.0)\n",
    "print(tensor,tensor.dtype)"
   ],
   "id": "1017146787574ecb",
   "outputs": [
    {
     "name": "stdout",
     "output_type": "stream",
     "text": [
      "tensor([[5., 5., 5.],\n",
      "        [5., 5., 5.]]) torch.float32\n"
     ]
    }
   ],
   "execution_count": 51
  },
  {
   "metadata": {
    "ExecuteTime": {
     "end_time": "2025-06-06T05:22:21.497196Z",
     "start_time": "2025-06-06T05:22:21.491943Z"
    }
   },
   "cell_type": "code",
   "source": [
    "tensor = torch.empty(3,2,2)\n",
    "print(tensor,tensor.dtype)"
   ],
   "id": "7365e21f6c251522",
   "outputs": [
    {
     "name": "stdout",
     "output_type": "stream",
     "text": [
      "tensor([[[2.3301e-09, 0.0000e+00],\n",
      "         [0.0000e+00, 0.0000e+00]],\n",
      "\n",
      "        [[1.0051e-12, 0.0000e+00],\n",
      "         [1.0842e-19, 0.0000e+00]],\n",
      "\n",
      "        [[0.0000e+00, 1.8750e+00],\n",
      "         [0.0000e+00, 1.8750e+00]]]) torch.float32\n"
     ]
    }
   ],
   "execution_count": 57
  },
  {
   "metadata": {
    "ExecuteTime": {
     "end_time": "2025-06-06T05:24:08.414908Z",
     "start_time": "2025-06-06T05:24:08.407562Z"
    }
   },
   "cell_type": "code",
   "source": [
    "tensor = torch.eye(3)\n",
    "tensor1 = torch.eye(3,4)\n",
    "print(tensor,tensor.dtype)\n",
    "print(tensor1,tensor1.dtype)"
   ],
   "id": "e9d82f1e37c63431",
   "outputs": [
    {
     "name": "stdout",
     "output_type": "stream",
     "text": [
      "tensor([[1., 0., 0.],\n",
      "        [0., 1., 0.],\n",
      "        [0., 0., 1.]]) torch.float32\n",
      "tensor([[1., 0., 0., 0.],\n",
      "        [0., 1., 0., 0.],\n",
      "        [0., 0., 1., 0.]]) torch.float32\n"
     ]
    }
   ],
   "execution_count": 59
  },
  {
   "metadata": {
    "ExecuteTime": {
     "end_time": "2025-06-06T05:29:04.919704Z",
     "start_time": "2025-06-06T05:29:04.913982Z"
    }
   },
   "cell_type": "code",
   "source": [
    "# 随机张量创建\n",
    "# [0，1] 均匀分布\n",
    "tensor = torch.rand((2,3))\n",
    "print(tensor,tensor.dtype)"
   ],
   "id": "4016ecf347add032",
   "outputs": [
    {
     "name": "stdout",
     "output_type": "stream",
     "text": [
      "tensor([[0.1447, 0.2796, 0.1470],\n",
      "        [0.7652, 0.9877, 0.0258]]) torch.float32\n"
     ]
    }
   ],
   "execution_count": 64
  },
  {
   "metadata": {
    "ExecuteTime": {
     "end_time": "2025-06-06T05:30:00.548020Z",
     "start_time": "2025-06-06T05:30:00.544851Z"
    }
   },
   "cell_type": "code",
   "source": [
    "tensor = torch.randint(1,10,(2,3))\n",
    "print(tensor,tensor.dtype)"
   ],
   "id": "e85b12bf45fc6a97",
   "outputs": [
    {
     "name": "stdout",
     "output_type": "stream",
     "text": [
      "tensor([[6, 1, 6],\n",
      "        [9, 2, 6]]) torch.int64\n"
     ]
    }
   ],
   "execution_count": 71
  },
  {
   "metadata": {
    "ExecuteTime": {
     "end_time": "2025-06-06T05:29:07.450975Z",
     "start_time": "2025-06-06T05:29:07.445801Z"
    }
   },
   "cell_type": "code",
   "source": [
    "tensor = torch.randn((2,3))\n",
    "print(tensor,tensor.dtype)"
   ],
   "id": "3792c704e74f986",
   "outputs": [
    {
     "name": "stdout",
     "output_type": "stream",
     "text": [
      "tensor([[-0.1970,  0.7301,  0.2123],\n",
      "        [ 0.5579,  0.8457, -0.6637]]) torch.float32\n"
     ]
    }
   ],
   "execution_count": 66
  },
  {
   "metadata": {
    "ExecuteTime": {
     "end_time": "2025-06-06T05:37:07.707680Z",
     "start_time": "2025-06-06T05:37:07.701321Z"
    }
   },
   "cell_type": "code",
   "source": [
    "tensor = torch.normal(5,2,(2,3))\n",
    "print(tensor,tensor.dtype)"
   ],
   "id": "5f7dd29636071a98",
   "outputs": [
    {
     "name": "stdout",
     "output_type": "stream",
     "text": [
      "tensor([[3.6558, 7.0902, 4.6020],\n",
      "        [5.1070, 1.1592, 4.0834]]) torch.float32\n"
     ]
    }
   ],
   "execution_count": 75
  },
  {
   "metadata": {
    "ExecuteTime": {
     "end_time": "2025-06-06T05:37:43.724753Z",
     "start_time": "2025-06-06T05:37:43.719912Z"
    }
   },
   "cell_type": "code",
   "source": [
    "# torch.randperm(n) 生成从0到n-1的随机排列\n",
    "tensor1 = torch.randperm(10)\n",
    "print(tensor1)\n"
   ],
   "id": "84fdb2af38bee2f9",
   "outputs": [
    {
     "name": "stdout",
     "output_type": "stream",
     "text": [
      "tensor([9, 3, 8, 4, 2, 0, 7, 5, 6, 1])\n"
     ]
    }
   ],
   "execution_count": 76
  },
  {
   "metadata": {
    "ExecuteTime": {
     "end_time": "2025-06-06T05:40:59.496194Z",
     "start_time": "2025-06-06T05:40:59.490634Z"
    }
   },
   "cell_type": "code",
   "source": [
    "print(torch.random.initial_seed())\n",
    "torch.manual_seed(42)"
   ],
   "id": "5fb2eac3fbfe52cc",
   "outputs": [
    {
     "name": "stdout",
     "output_type": "stream",
     "text": [
      "42\n",
      "42\n"
     ]
    }
   ],
   "execution_count": 81
  },
  {
   "metadata": {},
   "cell_type": "code",
   "outputs": [],
   "execution_count": null,
   "source": "# 张量类型",
   "id": "58028f3c1797626c"
  }
 ],
 "metadata": {
  "kernelspec": {
   "display_name": "Python 3",
   "language": "python",
   "name": "python3"
  },
  "language_info": {
   "codemirror_mode": {
    "name": "ipython",
    "version": 2
   },
   "file_extension": ".py",
   "mimetype": "text/x-python",
   "name": "python",
   "nbconvert_exporter": "python",
   "pygments_lexer": "ipython2",
   "version": "2.7.6"
  }
 },
 "nbformat": 4,
 "nbformat_minor": 5
}
