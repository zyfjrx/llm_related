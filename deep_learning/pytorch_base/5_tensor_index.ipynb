{
 "cells": [
  {
   "cell_type": "code",
   "id": "initial_id",
   "metadata": {
    "collapsed": true,
    "ExecuteTime": {
     "end_time": "2025-06-08T07:18:23.249794Z",
     "start_time": "2025-06-08T07:18:22.360382Z"
    }
   },
   "source": "import torch",
   "outputs": [],
   "execution_count": 1
  },
  {
   "metadata": {
    "ExecuteTime": {
     "end_time": "2025-06-08T07:22:38.182851Z",
     "start_time": "2025-06-08T07:22:38.178229Z"
    }
   },
   "cell_type": "code",
   "source": [
    "tensor = torch.randint(0,10,(3,5,4))\n",
    "print(tensor)"
   ],
   "id": "b742ba4eb1f8fb14",
   "outputs": [
    {
     "name": "stdout",
     "output_type": "stream",
     "text": [
      "tensor([[[7, 0, 7, 9],\n",
      "         [6, 8, 7, 2],\n",
      "         [9, 4, 5, 0],\n",
      "         [1, 1, 5, 9],\n",
      "         [2, 1, 7, 2]],\n",
      "\n",
      "        [[6, 7, 1, 3],\n",
      "         [7, 6, 3, 0],\n",
      "         [6, 4, 4, 9],\n",
      "         [8, 5, 8, 5],\n",
      "         [4, 2, 3, 9]],\n",
      "\n",
      "        [[6, 8, 5, 9],\n",
      "         [9, 6, 7, 9],\n",
      "         [1, 5, 2, 8],\n",
      "         [0, 3, 1, 6],\n",
      "         [8, 8, 6, 6]]])\n"
     ]
    }
   ],
   "execution_count": 7
  },
  {
   "metadata": {
    "ExecuteTime": {
     "end_time": "2025-06-08T07:22:40.531096Z",
     "start_time": "2025-06-08T07:22:40.526804Z"
    }
   },
   "cell_type": "code",
   "source": [
    "print(tensor[0])\n",
    "print(tensor[0,1,1])"
   ],
   "id": "fc85c3e5fb5ae3fc",
   "outputs": [
    {
     "name": "stdout",
     "output_type": "stream",
     "text": [
      "tensor([[7, 0, 7, 9],\n",
      "        [6, 8, 7, 2],\n",
      "        [9, 4, 5, 0],\n",
      "        [1, 1, 5, 9],\n",
      "        [2, 1, 7, 2]])\n",
      "tensor(8)\n"
     ]
    }
   ],
   "execution_count": 8
  },
  {
   "metadata": {
    "ExecuteTime": {
     "end_time": "2025-06-08T07:22:43.133823Z",
     "start_time": "2025-06-08T07:22:43.129195Z"
    }
   },
   "cell_type": "code",
   "source": [
    "# 取所有矩阵第二行\n",
    "print(tensor[:,1])"
   ],
   "id": "ea3342c1e981353a",
   "outputs": [
    {
     "name": "stdout",
     "output_type": "stream",
     "text": [
      "tensor([[6, 8, 7, 2],\n",
      "        [7, 6, 3, 0],\n",
      "        [9, 6, 7, 9]])\n"
     ]
    }
   ],
   "execution_count": 9
  },
  {
   "metadata": {
    "ExecuteTime": {
     "end_time": "2025-06-08T07:21:31.048005Z",
     "start_time": "2025-06-08T07:21:31.044529Z"
    }
   },
   "cell_type": "code",
   "source": [
    "# 范围索引\n",
    "print(tensor[1:])"
   ],
   "id": "39f901ff510db9c7",
   "outputs": [
    {
     "name": "stdout",
     "output_type": "stream",
     "text": [
      "tensor([[[1, 1, 2, 9],\n",
      "         [4, 1, 3, 9]],\n",
      "\n",
      "        [[4, 6, 6, 1],\n",
      "         [9, 0, 8, 9]]])\n"
     ]
    }
   ],
   "execution_count": 6
  },
  {
   "metadata": {
    "ExecuteTime": {
     "end_time": "2025-06-08T07:30:52.890382Z",
     "start_time": "2025-06-08T07:30:52.885707Z"
    }
   },
   "cell_type": "code",
   "source": [
    "print(tensor[-1,1:4,0:3])\n",
    "print(tensor)"
   ],
   "id": "7da36e229ae24dce",
   "outputs": [
    {
     "name": "stdout",
     "output_type": "stream",
     "text": [
      "tensor([[9, 6, 7],\n",
      "        [1, 5, 2],\n",
      "        [0, 3, 1]])\n",
      "tensor([[[7, 0, 7, 9],\n",
      "         [6, 8, 7, 2],\n",
      "         [9, 4, 5, 0],\n",
      "         [1, 1, 5, 9],\n",
      "         [2, 1, 7, 2]],\n",
      "\n",
      "        [[6, 7, 1, 3],\n",
      "         [7, 6, 3, 0],\n",
      "         [6, 4, 4, 9],\n",
      "         [8, 5, 8, 5],\n",
      "         [4, 2, 3, 9]],\n",
      "\n",
      "        [[6, 8, 5, 9],\n",
      "         [9, 6, 7, 9],\n",
      "         [1, 5, 2, 8],\n",
      "         [0, 3, 1, 6],\n",
      "         [8, 8, 6, 6]]])\n"
     ]
    }
   ],
   "execution_count": 13
  },
  {
   "metadata": {
    "ExecuteTime": {
     "end_time": "2025-06-08T07:33:26.749146Z",
     "start_time": "2025-06-08T07:33:26.745Z"
    }
   },
   "cell_type": "code",
   "source": "print(tensor[[[0],[1]],[1,2]])",
   "id": "6e4d7dc21225e125",
   "outputs": [
    {
     "name": "stdout",
     "output_type": "stream",
     "text": [
      "tensor([[[6, 8, 7, 2],\n",
      "         [9, 4, 5, 0]],\n",
      "\n",
      "        [[7, 6, 3, 0],\n",
      "         [6, 4, 4, 9]]])\n"
     ]
    }
   ],
   "execution_count": 14
  },
  {
   "metadata": {
    "ExecuteTime": {
     "end_time": "2025-06-08T07:35:50.515926Z",
     "start_time": "2025-06-08T07:35:50.509233Z"
    }
   },
   "cell_type": "code",
   "source": [
    "mask = tensor > 5\n",
    "print(mask)\n",
    "print(tensor[mask])"
   ],
   "id": "b6a58d23ec44ca3d",
   "outputs": [
    {
     "name": "stdout",
     "output_type": "stream",
     "text": [
      "tensor([[[ True, False,  True,  True],\n",
      "         [ True,  True,  True, False],\n",
      "         [ True, False, False, False],\n",
      "         [False, False, False,  True],\n",
      "         [False, False,  True, False]],\n",
      "\n",
      "        [[ True,  True, False, False],\n",
      "         [ True,  True, False, False],\n",
      "         [ True, False, False,  True],\n",
      "         [ True, False,  True, False],\n",
      "         [False, False, False,  True]],\n",
      "\n",
      "        [[ True,  True, False,  True],\n",
      "         [ True,  True,  True,  True],\n",
      "         [False, False, False,  True],\n",
      "         [False, False, False,  True],\n",
      "         [ True,  True,  True,  True]]])\n",
      "tensor([7, 7, 9, 6, 8, 7, 9, 9, 7, 6, 7, 7, 6, 6, 9, 8, 8, 9, 6, 8, 9, 9, 6, 7,\n",
      "        9, 8, 6, 8, 8, 6, 6])\n"
     ]
    }
   ],
   "execution_count": 16
  },
  {
   "metadata": {
    "ExecuteTime": {
     "end_time": "2025-06-08T08:23:34.153797Z",
     "start_time": "2025-06-08T08:23:34.148424Z"
    }
   },
   "cell_type": "code",
   "source": [
    "# 选取首元素大于5的所有行\n",
    "mask = tensor[:,:,0] > 5\n",
    "print(mask)\n",
    "print(tensor[mask].shape)"
   ],
   "id": "4b370d8e6ee6f516",
   "outputs": [
    {
     "name": "stdout",
     "output_type": "stream",
     "text": [
      "tensor([[ True,  True,  True, False, False],\n",
      "        [ True,  True,  True,  True, False],\n",
      "        [ True,  True, False, False,  True]])\n",
      "torch.Size([10, 4])\n"
     ]
    }
   ],
   "execution_count": 23
  },
  {
   "metadata": {
    "ExecuteTime": {
     "end_time": "2025-06-08T08:34:53.500457Z",
     "start_time": "2025-06-08T08:34:53.495899Z"
    }
   },
   "cell_type": "code",
   "source": [
    "# 选取第二个元素大于5的所有列\n",
    "mask = tensor[:,1,:] > 5\n",
    "print(mask)\n",
    "tensor2 = tensor.permute(0,2,1)\n",
    "print(tensor2)\n",
    "print(tensor2.shape)\n",
    "result = tensor2[mask]\n",
    "print(result)\n",
    "print(result.T)"
   ],
   "id": "d353223d969110e3",
   "outputs": [
    {
     "name": "stdout",
     "output_type": "stream",
     "text": [
      "tensor([[ True,  True,  True, False],\n",
      "        [ True,  True, False, False],\n",
      "        [ True,  True,  True,  True]])\n",
      "tensor([[[7, 6, 9, 1, 2],\n",
      "         [0, 8, 4, 1, 1],\n",
      "         [7, 7, 5, 5, 7],\n",
      "         [9, 2, 0, 9, 2]],\n",
      "\n",
      "        [[6, 7, 6, 8, 4],\n",
      "         [7, 6, 4, 5, 2],\n",
      "         [1, 3, 4, 8, 3],\n",
      "         [3, 0, 9, 5, 9]],\n",
      "\n",
      "        [[6, 9, 1, 0, 8],\n",
      "         [8, 6, 5, 3, 8],\n",
      "         [5, 7, 2, 1, 6],\n",
      "         [9, 9, 8, 6, 6]]])\n",
      "torch.Size([3, 4, 5])\n",
      "tensor([[7, 6, 9, 1, 2],\n",
      "        [0, 8, 4, 1, 1],\n",
      "        [7, 7, 5, 5, 7],\n",
      "        [6, 7, 6, 8, 4],\n",
      "        [7, 6, 4, 5, 2],\n",
      "        [6, 9, 1, 0, 8],\n",
      "        [8, 6, 5, 3, 8],\n",
      "        [5, 7, 2, 1, 6],\n",
      "        [9, 9, 8, 6, 6]])\n",
      "tensor([[7, 0, 7, 6, 7, 6, 8, 5, 9],\n",
      "        [6, 8, 7, 7, 6, 9, 6, 7, 9],\n",
      "        [9, 4, 5, 6, 4, 1, 5, 2, 8],\n",
      "        [1, 1, 5, 8, 5, 0, 3, 1, 6],\n",
      "        [2, 1, 7, 4, 2, 8, 8, 6, 6]])\n"
     ]
    }
   ],
   "execution_count": 28
  },
  {
   "metadata": {
    "ExecuteTime": {
     "end_time": "2025-06-08T08:37:13.465024Z",
     "start_time": "2025-06-08T08:37:13.460664Z"
    }
   },
   "cell_type": "code",
   "source": [
    "# 选取矩阵\n",
    "mask = tensor[:,1,2] > 5\n",
    "print(mask)\n",
    "print(tensor[mask])"
   ],
   "id": "837967e9830d85a9",
   "outputs": [
    {
     "name": "stdout",
     "output_type": "stream",
     "text": [
      "tensor([ True, False,  True])\n",
      "tensor([[[7, 0, 7, 9],\n",
      "         [6, 8, 7, 2],\n",
      "         [9, 4, 5, 0],\n",
      "         [1, 1, 5, 9],\n",
      "         [2, 1, 7, 2]],\n",
      "\n",
      "        [[6, 8, 5, 9],\n",
      "         [9, 6, 7, 9],\n",
      "         [1, 5, 2, 8],\n",
      "         [0, 3, 1, 6],\n",
      "         [8, 8, 6, 6]]])\n"
     ]
    }
   ],
   "execution_count": 31
  }
 ],
 "metadata": {
  "kernelspec": {
   "display_name": "Python 3",
   "language": "python",
   "name": "python3"
  },
  "language_info": {
   "codemirror_mode": {
    "name": "ipython",
    "version": 2
   },
   "file_extension": ".py",
   "mimetype": "text/x-python",
   "name": "python",
   "nbconvert_exporter": "python",
   "pygments_lexer": "ipython2",
   "version": "2.7.6"
  }
 },
 "nbformat": 4,
 "nbformat_minor": 5
}
