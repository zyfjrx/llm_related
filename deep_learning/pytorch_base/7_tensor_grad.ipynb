{
 "cells": [
  {
   "cell_type": "code",
   "id": "initial_id",
   "metadata": {
    "collapsed": true,
    "ExecuteTime": {
     "end_time": "2025-06-09T05:20:55.083988Z",
     "start_time": "2025-06-09T05:20:54.272744Z"
    }
   },
   "source": "import torch",
   "outputs": [],
   "execution_count": 1
  },
  {
   "metadata": {
    "ExecuteTime": {
     "end_time": "2025-06-09T05:20:56.019064Z",
     "start_time": "2025-06-09T05:20:56.014971Z"
    }
   },
   "cell_type": "code",
   "source": [
    "# 定义输入数据x和标签y\n",
    "x = torch.tensor(10.0,requires_grad=True)\n",
    "print(x)\n",
    "y = torch.tensor([[3.0]])"
   ],
   "id": "fd5f82b75df8aa31",
   "outputs": [
    {
     "name": "stdout",
     "output_type": "stream",
     "text": [
      "tensor(10., requires_grad=True)\n"
     ]
    }
   ],
   "execution_count": 2
  },
  {
   "metadata": {
    "ExecuteTime": {
     "end_time": "2025-06-09T05:20:57.631338Z",
     "start_time": "2025-06-09T05:20:57.628057Z"
    }
   },
   "cell_type": "code",
   "source": [
    "w = torch.rand(1,1,requires_grad=True)\n",
    "print(w)\n",
    "b = torch.rand(1,1,requires_grad=True)\n",
    "print(b)"
   ],
   "id": "315411d78a79cd69",
   "execution_count": 3,
   "outputs": [
    {
     "name": "stdout",
     "output_type": "stream",
     "text": [
      "tensor([[0.6669]], requires_grad=True)\n",
      "tensor([[0.4305]], requires_grad=True)\n"
     ]
    }
   ]
  },
  {
   "metadata": {
    "ExecuteTime": {
     "end_time": "2025-06-09T05:21:00.719410Z",
     "start_time": "2025-06-09T05:21:00.715915Z"
    }
   },
   "cell_type": "code",
   "source": [
    "z = w * x + b\n",
    "print(z)"
   ],
   "id": "27d500b633688860",
   "outputs": [
    {
     "name": "stdout",
     "output_type": "stream",
     "text": [
      "tensor([[7.0998]], grad_fn=<AddBackward0>)\n"
     ]
    }
   ],
   "execution_count": 4
  },
  {
   "metadata": {
    "ExecuteTime": {
     "end_time": "2025-06-09T05:21:02.256388Z",
     "start_time": "2025-06-09T05:21:02.251339Z"
    }
   },
   "cell_type": "code",
   "source": [
    "loss = torch.nn.MSELoss()\n",
    "loss_value = loss(z,y)\n",
    "print(loss_value)"
   ],
   "id": "fcf0137f544c4192",
   "outputs": [
    {
     "name": "stdout",
     "output_type": "stream",
     "text": [
      "tensor(16.8082, grad_fn=<MseLossBackward0>)\n"
     ]
    }
   ],
   "execution_count": 5
  },
  {
   "metadata": {
    "ExecuteTime": {
     "end_time": "2025-06-09T05:21:04.316363Z",
     "start_time": "2025-06-09T05:21:04.285045Z"
    }
   },
   "cell_type": "code",
   "source": [
    "# 反向传播\n",
    "loss_value.backward()\n",
    "# 打印w,b的梯度\n",
    "print(\"w的梯度:\\n\", w.grad)\n",
    "print(\"b的梯度:\\n\", b.grad)\n",
    "print(\"x的梯度:\\n\", x.grad)\n"
   ],
   "id": "94ec5d0e6d5c3fa0",
   "outputs": [
    {
     "name": "stdout",
     "output_type": "stream",
     "text": [
      "w的梯度:\n",
      " tensor([[81.9957]])\n",
      "b的梯度:\n",
      " tensor([[8.1996]])\n",
      "x的梯度:\n",
      " tensor(5.4685)\n"
     ]
    }
   ],
   "execution_count": 6
  },
  {
   "metadata": {
    "ExecuteTime": {
     "end_time": "2025-06-09T05:21:06.646549Z",
     "start_time": "2025-06-09T05:21:06.643450Z"
    }
   },
   "cell_type": "code",
   "source": [
    "print(x.is_leaf)  # True\n",
    "print(w.is_leaf)  # True\n",
    "print(b.is_leaf)  # True\n",
    "print(z.is_leaf)  # False\n",
    "print(y.is_leaf)  # True\n",
    "print(loss_value.is_leaf)  # False\n",
    "print(z.retain_grad)"
   ],
   "id": "f2cceaef97d24eff",
   "outputs": [
    {
     "name": "stdout",
     "output_type": "stream",
     "text": [
      "True\n",
      "True\n",
      "True\n",
      "False\n",
      "True\n",
      "False\n",
      "<built-in method retain_grad of Tensor object at 0x762f01c58090>\n"
     ]
    }
   ],
   "execution_count": 7
  }
 ],
 "metadata": {
  "kernelspec": {
   "display_name": "Python 3",
   "language": "python",
   "name": "python3"
  },
  "language_info": {
   "codemirror_mode": {
    "name": "ipython",
    "version": 2
   },
   "file_extension": ".py",
   "mimetype": "text/x-python",
   "name": "python",
   "nbconvert_exporter": "python",
   "pygments_lexer": "ipython2",
   "version": "2.7.6"
  }
 },
 "nbformat": 4,
 "nbformat_minor": 5
}
