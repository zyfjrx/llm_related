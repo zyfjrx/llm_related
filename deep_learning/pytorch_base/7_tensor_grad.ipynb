{
 "cells": [
  {
   "cell_type": "code",
   "id": "initial_id",
   "metadata": {
    "collapsed": true,
    "ExecuteTime": {
     "end_time": "2025-06-09T02:32:03.877422Z",
     "start_time": "2025-06-09T02:32:03.875820Z"
    }
   },
   "source": "import torch",
   "outputs": [],
   "execution_count": 20
  },
  {
   "metadata": {
    "ExecuteTime": {
     "end_time": "2025-06-09T02:44:07.306975Z",
     "start_time": "2025-06-09T02:44:07.304432Z"
    }
   },
   "cell_type": "code",
   "source": [
    "# 定义输入数据x和标签y\n",
    "x = torch.tensor(10.0,requires_grad=True)\n",
    "print(x)\n",
    "y = torch.tensor([[3.0]])"
   ],
   "id": "fd5f82b75df8aa31",
   "outputs": [
    {
     "name": "stdout",
     "output_type": "stream",
     "text": [
      "tensor(10., requires_grad=True)\n"
     ]
    }
   ],
   "execution_count": 26
  },
  {
   "metadata": {
    "ExecuteTime": {
     "end_time": "2025-06-09T02:44:09.442835Z",
     "start_time": "2025-06-09T02:44:09.438770Z"
    }
   },
   "cell_type": "code",
   "source": [
    "w = torch.rand(1,1,requires_grad=True)\n",
    "print(w)\n",
    "b = torch.rand(1,1,requires_grad=True)\n",
    "print(b)"
   ],
   "id": "315411d78a79cd69",
   "outputs": [
    {
     "name": "stdout",
     "output_type": "stream",
     "text": [
      "tensor([[0.6560]], requires_grad=True)\n",
      "tensor([[0.7400]], requires_grad=True)\n"
     ]
    }
   ],
   "execution_count": 27
  },
  {
   "metadata": {
    "ExecuteTime": {
     "end_time": "2025-06-09T02:44:11.618539Z",
     "start_time": "2025-06-09T02:44:11.616043Z"
    }
   },
   "cell_type": "code",
   "source": [
    "z = w * x + b\n",
    "print(z)"
   ],
   "id": "27d500b633688860",
   "outputs": [
    {
     "name": "stdout",
     "output_type": "stream",
     "text": [
      "tensor([[7.2999]], grad_fn=<AddBackward0>)\n"
     ]
    }
   ],
   "execution_count": 28
  },
  {
   "metadata": {
    "ExecuteTime": {
     "end_time": "2025-06-09T02:44:13.367326Z",
     "start_time": "2025-06-09T02:44:13.363213Z"
    }
   },
   "cell_type": "code",
   "source": [
    "loss = torch.nn.MSELoss()\n",
    "loss_value = loss(z,y)\n",
    "print(loss_value)"
   ],
   "id": "fcf0137f544c4192",
   "outputs": [
    {
     "name": "stdout",
     "output_type": "stream",
     "text": [
      "tensor(18.4892, grad_fn=<MseLossBackward0>)\n"
     ]
    }
   ],
   "execution_count": 29
  },
  {
   "metadata": {
    "ExecuteTime": {
     "end_time": "2025-06-09T02:44:16.393228Z",
     "start_time": "2025-06-09T02:44:16.387516Z"
    }
   },
   "cell_type": "code",
   "source": [
    "# 反向传播\n",
    "loss_value.backward()\n",
    "# 打印w,b的梯度\n",
    "print(\"w的梯度:\\n\", w.grad)\n",
    "print(\"b的梯度:\\n\", b.grad)\n",
    "print(\"x的梯度:\\n\", x.grad)\n"
   ],
   "id": "94ec5d0e6d5c3fa0",
   "outputs": [
    {
     "name": "stdout",
     "output_type": "stream",
     "text": [
      "w的梯度:\n",
      " tensor([[85.9982]])\n",
      "b的梯度:\n",
      " tensor([[8.5998]])\n",
      "x的梯度:\n",
      " tensor(5.6414)\n"
     ]
    }
   ],
   "execution_count": 30
  },
  {
   "metadata": {
    "ExecuteTime": {
     "end_time": "2025-06-09T03:05:13.518776Z",
     "start_time": "2025-06-09T03:05:13.516469Z"
    }
   },
   "cell_type": "code",
   "source": [
    "print(x.is_leaf)  # True\n",
    "print(w.is_leaf)  # True\n",
    "print(b.is_leaf)  # True\n",
    "print(z.is_leaf)  # False\n",
    "print(y.is_leaf)  # True\n",
    "print(loss_value.is_leaf)  # False\n",
    "print(z.retain_grad)"
   ],
   "id": "f2cceaef97d24eff",
   "outputs": [
    {
     "name": "stdout",
     "output_type": "stream",
     "text": [
      "True\n",
      "True\n",
      "True\n",
      "False\n",
      "True\n",
      "False\n",
      "<built-in method retain_grad of Tensor object at 0x305479a80>\n"
     ]
    }
   ],
   "execution_count": 39
  }
 ],
 "metadata": {
  "kernelspec": {
   "display_name": "Python 3",
   "language": "python",
   "name": "python3"
  },
  "language_info": {
   "codemirror_mode": {
    "name": "ipython",
    "version": 2
   },
   "file_extension": ".py",
   "mimetype": "text/x-python",
   "name": "python",
   "nbconvert_exporter": "python",
   "pygments_lexer": "ipython2",
   "version": "2.7.6"
  }
 },
 "nbformat": 4,
 "nbformat_minor": 5
}
