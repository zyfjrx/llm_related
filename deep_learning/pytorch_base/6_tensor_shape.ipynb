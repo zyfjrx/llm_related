{
 "cells": [
  {
   "cell_type": "code",
   "id": "initial_id",
   "metadata": {
    "collapsed": true,
    "ExecuteTime": {
     "end_time": "2025-06-08T08:39:49.146809Z",
     "start_time": "2025-06-08T08:39:48.375491Z"
    }
   },
   "source": "import torch",
   "outputs": [],
   "execution_count": 1
  },
  {
   "metadata": {
    "ExecuteTime": {
     "end_time": "2025-06-08T08:40:46.481307Z",
     "start_time": "2025-06-08T08:40:46.474525Z"
    }
   },
   "cell_type": "code",
   "source": [
    "# 交换维度\n",
    "tensor = torch.randint(0,10,(3,2,5))\n",
    "print(tensor)"
   ],
   "id": "3f5a6b5fc625df30",
   "outputs": [
    {
     "name": "stdout",
     "output_type": "stream",
     "text": [
      "tensor([[[5, 5, 0, 5, 6],\n",
      "         [0, 6, 8, 8, 2]],\n",
      "\n",
      "        [[3, 1, 1, 1, 2],\n",
      "         [1, 2, 2, 7, 8]],\n",
      "\n",
      "        [[3, 6, 5, 3, 9],\n",
      "         [4, 2, 2, 5, 3]]])\n"
     ]
    }
   ],
   "execution_count": 2
  },
  {
   "metadata": {
    "ExecuteTime": {
     "end_time": "2025-06-08T08:43:16.077962Z",
     "start_time": "2025-06-08T08:43:16.072668Z"
    }
   },
   "cell_type": "code",
   "source": [
    "# 交换两个维度\n",
    "print(tensor.transpose(-1,-2))"
   ],
   "id": "21547b62cd275576",
   "outputs": [
    {
     "name": "stdout",
     "output_type": "stream",
     "text": [
      "tensor([[[5, 0],\n",
      "         [5, 6],\n",
      "         [0, 8],\n",
      "         [5, 8],\n",
      "         [6, 2]],\n",
      "\n",
      "        [[3, 1],\n",
      "         [1, 2],\n",
      "         [1, 2],\n",
      "         [1, 7],\n",
      "         [2, 8]],\n",
      "\n",
      "        [[3, 4],\n",
      "         [6, 2],\n",
      "         [5, 2],\n",
      "         [3, 5],\n",
      "         [9, 3]]])\n"
     ]
    }
   ],
   "execution_count": 4
  },
  {
   "metadata": {
    "ExecuteTime": {
     "end_time": "2025-06-08T08:44:13.555716Z",
     "start_time": "2025-06-08T08:44:13.551196Z"
    }
   },
   "cell_type": "code",
   "source": "print(tensor.transpose(0,2))",
   "id": "1435f01cccdec0ce",
   "outputs": [
    {
     "name": "stdout",
     "output_type": "stream",
     "text": [
      "tensor([[[5, 3, 3],\n",
      "         [0, 1, 4]],\n",
      "\n",
      "        [[5, 1, 6],\n",
      "         [6, 2, 2]],\n",
      "\n",
      "        [[0, 1, 5],\n",
      "         [8, 2, 2]],\n",
      "\n",
      "        [[5, 1, 3],\n",
      "         [8, 7, 5]],\n",
      "\n",
      "        [[6, 2, 9],\n",
      "         [2, 8, 3]]])\n"
     ]
    }
   ],
   "execution_count": 5
  },
  {
   "metadata": {
    "ExecuteTime": {
     "end_time": "2025-06-08T08:48:13.396847Z",
     "start_time": "2025-06-08T08:48:13.393646Z"
    }
   },
   "cell_type": "code",
   "source": [
    "# 重新排列所有维度\n",
    "print(tensor.permute(0,2,1))"
   ],
   "id": "18446345adf77db2",
   "outputs": [
    {
     "name": "stdout",
     "output_type": "stream",
     "text": [
      "tensor([[[5, 0],\n",
      "         [5, 6],\n",
      "         [0, 8],\n",
      "         [5, 8],\n",
      "         [6, 2]],\n",
      "\n",
      "        [[3, 1],\n",
      "         [1, 2],\n",
      "         [1, 2],\n",
      "         [1, 7],\n",
      "         [2, 8]],\n",
      "\n",
      "        [[3, 4],\n",
      "         [6, 2],\n",
      "         [5, 2],\n",
      "         [3, 5],\n",
      "         [9, 3]]])\n"
     ]
    }
   ],
   "execution_count": 6
  },
  {
   "metadata": {
    "ExecuteTime": {
     "end_time": "2025-06-08T09:03:11.190367Z",
     "start_time": "2025-06-08T09:03:11.186734Z"
    }
   },
   "cell_type": "code",
   "source": [
    "# 调整形状\n",
    "print(tensor.reshape(3,-1))"
   ],
   "id": "150721c971a77085",
   "outputs": [
    {
     "name": "stdout",
     "output_type": "stream",
     "text": [
      "tensor([[5, 5, 0, 5, 6, 0, 6, 8, 8, 2],\n",
      "        [3, 1, 1, 1, 2, 1, 2, 2, 7, 8],\n",
      "        [3, 6, 5, 3, 9, 4, 2, 2, 5, 3]])\n"
     ]
    }
   ],
   "execution_count": 10
  },
  {
   "metadata": {
    "ExecuteTime": {
     "end_time": "2025-06-08T09:03:51.505500Z",
     "start_time": "2025-06-08T09:03:51.501889Z"
    }
   },
   "cell_type": "code",
   "source": [
    "# view 必须在连续内存操作\n",
    "print(tensor.contiguous().view(3,-1))"
   ],
   "id": "14aec49d22c99d4c",
   "outputs": [
    {
     "name": "stdout",
     "output_type": "stream",
     "text": [
      "tensor([[5, 5, 0, 5, 6, 0, 6, 8, 8, 2],\n",
      "        [3, 1, 1, 1, 2, 1, 2, 2, 7, 8],\n",
      "        [3, 6, 5, 3, 9, 4, 2, 2, 5, 3]])\n"
     ]
    }
   ],
   "execution_count": 11
  },
  {
   "metadata": {
    "ExecuteTime": {
     "end_time": "2025-06-08T09:11:26.911481Z",
     "start_time": "2025-06-08T09:11:26.907219Z"
    }
   },
   "cell_type": "code",
   "source": [
    "tensor = tensor.T\n",
    "print(tensor.T)\n",
    "print(tensor.is_contiguous())"
   ],
   "id": "4e28fd32856cd5ba",
   "outputs": [
    {
     "name": "stdout",
     "output_type": "stream",
     "text": [
      "tensor([[[5, 5, 0, 5, 6],\n",
      "         [0, 6, 8, 8, 2]],\n",
      "\n",
      "        [[3, 1, 1, 1, 2],\n",
      "         [1, 2, 2, 7, 8]],\n",
      "\n",
      "        [[3, 6, 5, 3, 9],\n",
      "         [4, 2, 2, 5, 3]]])\n",
      "False\n"
     ]
    }
   ],
   "execution_count": 14
  },
  {
   "metadata": {
    "ExecuteTime": {
     "end_time": "2025-06-08T09:12:05.058890Z",
     "start_time": "2025-06-08T09:12:05.053755Z"
    }
   },
   "cell_type": "code",
   "source": "print(tensor.contiguous().view(-1,2))",
   "id": "e9183d6130f36dec",
   "outputs": [
    {
     "name": "stdout",
     "output_type": "stream",
     "text": [
      "tensor([[5, 3],\n",
      "        [3, 0],\n",
      "        [1, 4],\n",
      "        [5, 1],\n",
      "        [6, 6],\n",
      "        [2, 2],\n",
      "        [0, 1],\n",
      "        [5, 8],\n",
      "        [2, 2],\n",
      "        [5, 1],\n",
      "        [3, 8],\n",
      "        [7, 5],\n",
      "        [6, 2],\n",
      "        [9, 2],\n",
      "        [8, 3]])\n"
     ]
    }
   ],
   "execution_count": 16
  },
  {
   "metadata": {
    "ExecuteTime": {
     "end_time": "2025-06-09T01:37:09.731063Z",
     "start_time": "2025-06-09T01:37:09.725773Z"
    }
   },
   "cell_type": "code",
   "source": [
    "# 增加或删除维度\n",
    "tensor1 = torch.tensor([1,2,3,4,5])\n",
    "print(tensor1,tensor1.shape)\n",
    "print(tensor1.unsqueeze(0),tensor1.unsqueeze(0).shape)\n",
    "print(tensor1.unsqueeze(1),tensor1.unsqueeze(1).shape)"
   ],
   "id": "77fb501b599b291e",
   "outputs": [
    {
     "name": "stdout",
     "output_type": "stream",
     "text": [
      "tensor([1, 2, 3, 4, 5]) torch.Size([5])\n",
      "tensor([[1, 2, 3, 4, 5]]) torch.Size([1, 5])\n",
      "tensor([[1],\n",
      "        [2],\n",
      "        [3],\n",
      "        [4],\n",
      "        [5]]) torch.Size([5, 1])\n"
     ]
    }
   ],
   "execution_count": 20
  },
  {
   "metadata": {
    "ExecuteTime": {
     "end_time": "2025-06-09T01:40:00.142556Z",
     "start_time": "2025-06-09T01:40:00.136680Z"
    }
   },
   "cell_type": "code",
   "source": [
    "# 删除维度，只能删除大小为1的维度\n",
    "tensor2 = torch.randint(0,10,(3,1,5))\n",
    "print(tensor2,tensor2.shape)\n",
    "print(tensor2.squeeze(1),tensor2.squeeze(1).shape)"
   ],
   "id": "bfb129da6e253feb",
   "outputs": [
    {
     "name": "stdout",
     "output_type": "stream",
     "text": [
      "tensor([[[3, 1, 4, 5, 9]],\n",
      "\n",
      "        [[9, 6, 8, 5, 3]],\n",
      "\n",
      "        [[2, 0, 5, 7, 2]]]) torch.Size([3, 1, 5])\n",
      "tensor([[3, 1, 4, 5, 9],\n",
      "        [9, 6, 8, 5, 3],\n",
      "        [2, 0, 5, 7, 2]]) torch.Size([3, 5])\n"
     ]
    }
   ],
   "execution_count": 22
  },
  {
   "metadata": {
    "ExecuteTime": {
     "end_time": "2025-06-09T01:56:05.228054Z",
     "start_time": "2025-06-09T01:56:05.224857Z"
    }
   },
   "cell_type": "code",
   "source": [
    "# 张量拼接,除拼接维度其他维度必须相同\n",
    "tensor1 = torch.randint(0,10,(3,2,5))\n",
    "tensor2 = torch.randint(0,10,(3,1,5))\n",
    "print(tensor1,tensor1.shape)\n",
    "print(tensor2,tensor2.shape)"
   ],
   "id": "13ed042ec60e627",
   "outputs": [
    {
     "name": "stdout",
     "output_type": "stream",
     "text": [
      "tensor([[[3, 0, 2, 7, 8],\n",
      "         [4, 6, 7, 6, 5]],\n",
      "\n",
      "        [[7, 4, 3, 7, 6],\n",
      "         [9, 2, 1, 1, 4]],\n",
      "\n",
      "        [[1, 8, 8, 0, 9],\n",
      "         [4, 9, 8, 6, 8]]]) torch.Size([3, 2, 5])\n",
      "tensor([[[6, 2, 7, 7, 7]],\n",
      "\n",
      "        [[3, 4, 8, 1, 1]],\n",
      "\n",
      "        [[0, 4, 9, 2, 5]]]) torch.Size([3, 1, 5])\n"
     ]
    }
   ],
   "execution_count": 23
  },
  {
   "metadata": {
    "ExecuteTime": {
     "end_time": "2025-06-09T01:56:33.619333Z",
     "start_time": "2025-06-09T01:56:33.614717Z"
    }
   },
   "cell_type": "code",
   "source": "print(torch.cat((tensor1,tensor2),dim=1))",
   "id": "69020aaf8c254be2",
   "outputs": [
    {
     "name": "stdout",
     "output_type": "stream",
     "text": [
      "tensor([[[3, 0, 2, 7, 8],\n",
      "         [4, 6, 7, 6, 5],\n",
      "         [6, 2, 7, 7, 7]],\n",
      "\n",
      "        [[7, 4, 3, 7, 6],\n",
      "         [9, 2, 1, 1, 4],\n",
      "         [3, 4, 8, 1, 1]],\n",
      "\n",
      "        [[1, 8, 8, 0, 9],\n",
      "         [4, 9, 8, 6, 8],\n",
      "         [0, 4, 9, 2, 5]]])\n"
     ]
    }
   ],
   "execution_count": 24
  },
  {
   "metadata": {
    "ExecuteTime": {
     "end_time": "2025-06-09T02:02:02.316925Z",
     "start_time": "2025-06-09T02:02:02.313726Z"
    }
   },
   "cell_type": "code",
   "source": [
    "# 张量堆叠，按新维度堆叠。所有张量形状必须一致\n",
    "tensor1 = torch.randint(0,10,(3,1,5))\n",
    "tensor2 = torch.randint(0,10,(3,1,5))\n",
    "print(tensor1)\n",
    "print(tensor2)"
   ],
   "id": "987f3c28caaea9b3",
   "outputs": [
    {
     "name": "stdout",
     "output_type": "stream",
     "text": [
      "tensor([[[7, 9, 7, 9, 3]],\n",
      "\n",
      "        [[7, 8, 9, 1, 7]],\n",
      "\n",
      "        [[3, 6, 6, 1, 7]]])\n",
      "tensor([[[5, 6, 7, 5, 3]],\n",
      "\n",
      "        [[8, 0, 8, 2, 4]],\n",
      "\n",
      "        [[1, 9, 6, 8, 9]]])\n"
     ]
    }
   ],
   "execution_count": 27
  },
  {
   "metadata": {
    "ExecuteTime": {
     "end_time": "2025-06-09T02:07:36.006873Z",
     "start_time": "2025-06-09T02:07:36.004445Z"
    }
   },
   "cell_type": "code",
   "source": [
    "t3 = torch.stack([tensor1,tensor2],dim=1)\n",
    "print(t3.squeeze(2))\n",
    "print(t3.squeeze(2).shape)"
   ],
   "id": "2115c4b3f3674f74",
   "outputs": [
    {
     "name": "stdout",
     "output_type": "stream",
     "text": [
      "tensor([[[7, 9, 7, 9, 3],\n",
      "         [5, 6, 7, 5, 3]],\n",
      "\n",
      "        [[7, 8, 9, 1, 7],\n",
      "         [8, 0, 8, 2, 4]],\n",
      "\n",
      "        [[3, 6, 6, 1, 7],\n",
      "         [1, 9, 6, 8, 9]]])\n",
      "torch.Size([3, 2, 5])\n"
     ]
    }
   ],
   "execution_count": 35
  }
 ],
 "metadata": {
  "kernelspec": {
   "display_name": "Python 3",
   "language": "python",
   "name": "python3"
  },
  "language_info": {
   "codemirror_mode": {
    "name": "ipython",
    "version": 2
   },
   "file_extension": ".py",
   "mimetype": "text/x-python",
   "name": "python",
   "nbconvert_exporter": "python",
   "pygments_lexer": "ipython2",
   "version": "2.7.6"
  }
 },
 "nbformat": 4,
 "nbformat_minor": 5
}
