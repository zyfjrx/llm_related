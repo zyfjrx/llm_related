{
 "cells": [
  {
   "cell_type": "code",
   "id": "initial_id",
   "metadata": {
    "collapsed": true,
    "ExecuteTime": {
     "end_time": "2025-06-09T05:24:02.109129Z",
     "start_time": "2025-06-09T05:24:01.314179Z"
    }
   },
   "source": "import torch",
   "outputs": [],
   "execution_count": 1
  },
  {
   "metadata": {
    "ExecuteTime": {
     "end_time": "2025-06-09T05:24:59.226346Z",
     "start_time": "2025-06-09T05:24:59.217316Z"
    }
   },
   "cell_type": "code",
   "source": [
    "x = torch.tensor([1.0, 2, 3], requires_grad=True)\n",
    "y = x.detach()\n",
    "print(x)\n",
    "print(y)"
   ],
   "id": "ebee69ae1666891",
   "outputs": [
    {
     "name": "stdout",
     "output_type": "stream",
     "text": [
      "tensor([1., 2., 3.], requires_grad=True)\n",
      "tensor([1., 2., 3.])\n"
     ]
    }
   ],
   "execution_count": 2
  },
  {
   "metadata": {
    "ExecuteTime": {
     "end_time": "2025-06-09T05:25:49.751346Z",
     "start_time": "2025-06-09T05:25:49.747657Z"
    }
   },
   "cell_type": "code",
   "source": [
    "print(x.storage().data_ptr())\n",
    "print(y.storage().data_ptr())"
   ],
   "id": "f90676f27ee7cd57",
   "outputs": [
    {
     "name": "stdout",
     "output_type": "stream",
     "text": [
      "674325824\n",
      "674325824\n"
     ]
    },
    {
     "name": "stderr",
     "output_type": "stream",
     "text": [
      "/tmp/ipykernel_1902580/1350527349.py:1: UserWarning: TypedStorage is deprecated. It will be removed in the future and UntypedStorage will be the only storage class. This should only matter to you if you are using storages directly.  To access UntypedStorage directly, use tensor.untyped_storage() instead of tensor.storage()\n",
      "  print(x.storage().data_ptr())\n"
     ]
    }
   ],
   "execution_count": 3
  },
  {
   "metadata": {
    "ExecuteTime": {
     "end_time": "2025-06-09T05:27:31.860933Z",
     "start_time": "2025-06-09T05:27:31.855895Z"
    }
   },
   "cell_type": "code",
   "source": [
    "z1 = x ** 2\n",
    "print(z1)\n",
    "z2 = y ** 2\n",
    "print(z2)"
   ],
   "id": "2a37ff2e001bca28",
   "outputs": [
    {
     "name": "stdout",
     "output_type": "stream",
     "text": [
      "tensor([1., 4., 9.], grad_fn=<PowBackward0>)\n",
      "tensor([1., 4., 9.])\n"
     ]
    }
   ],
   "execution_count": 4
  },
  {
   "metadata": {
    "ExecuteTime": {
     "end_time": "2025-06-09T05:29:27.423027Z",
     "start_time": "2025-06-09T05:29:27.383816Z"
    }
   },
   "cell_type": "code",
   "source": [
    "z1.sum().backward()\n",
    "print(x.grad)"
   ],
   "id": "4fe7ab020475fa71",
   "outputs": [
    {
     "name": "stdout",
     "output_type": "stream",
     "text": [
      "tensor([2., 4., 6.])\n"
     ]
    }
   ],
   "execution_count": 5
  },
  {
   "metadata": {
    "ExecuteTime": {
     "end_time": "2025-06-09T06:34:12.578492Z",
     "start_time": "2025-06-09T06:34:12.575346Z"
    }
   },
   "cell_type": "code",
   "source": [
    "x = torch.ones(2,2,requires_grad=True)\n",
    "print(x)\n",
    "y = x * x\n",
    "print(y)"
   ],
   "id": "c62d2ee9496175c8",
   "outputs": [
    {
     "name": "stdout",
     "output_type": "stream",
     "text": [
      "tensor([[1., 1.],\n",
      "        [1., 1.]], requires_grad=True)\n",
      "tensor([[1., 1.],\n",
      "        [1., 1.]], grad_fn=<MulBackward0>)\n"
     ]
    }
   ],
   "execution_count": 7
  },
  {
   "metadata": {
    "ExecuteTime": {
     "end_time": "2025-06-09T06:34:37.033719Z",
     "start_time": "2025-06-09T06:34:37.028521Z"
    }
   },
   "cell_type": "code",
   "source": [
    "u = y.detach()\n",
    "print(u)"
   ],
   "id": "fcc4c58f01b4f3c1",
   "outputs": [
    {
     "name": "stdout",
     "output_type": "stream",
     "text": [
      "tensor([[1., 1.],\n",
      "        [1., 1.]])\n"
     ]
    }
   ],
   "execution_count": 8
  },
  {
   "metadata": {
    "ExecuteTime": {
     "end_time": "2025-06-09T06:34:58.146541Z",
     "start_time": "2025-06-09T06:34:58.143465Z"
    }
   },
   "cell_type": "code",
   "source": [
    "z = u * x\n",
    "print(z)"
   ],
   "id": "e351be419e9e37d",
   "outputs": [
    {
     "name": "stdout",
     "output_type": "stream",
     "text": [
      "tensor([[1., 1.],\n",
      "        [1., 1.]], grad_fn=<MulBackward0>)\n"
     ]
    }
   ],
   "execution_count": 9
  },
  {
   "metadata": {
    "ExecuteTime": {
     "end_time": "2025-06-09T06:35:42.317786Z",
     "start_time": "2025-06-09T06:35:42.311503Z"
    }
   },
   "cell_type": "code",
   "source": [
    "z.sum().backward()\n",
    "print(x.grad)\n",
    "print(u.grad)"
   ],
   "id": "e559c133e6512507",
   "execution_count": 10,
   "outputs": [
    {
     "name": "stdout",
     "output_type": "stream",
     "text": [
      "tensor([[1., 1.],\n",
      "        [1., 1.]])\n",
      "None\n"
     ]
    }
   ]
  }
 ],
 "metadata": {
  "kernelspec": {
   "display_name": "Python 3",
   "language": "python",
   "name": "python3"
  },
  "language_info": {
   "codemirror_mode": {
    "name": "ipython",
    "version": 2
   },
   "file_extension": ".py",
   "mimetype": "text/x-python",
   "name": "python",
   "nbconvert_exporter": "python",
   "pygments_lexer": "ipython2",
   "version": "2.7.6"
  }
 },
 "nbformat": 4,
 "nbformat_minor": 5
}
