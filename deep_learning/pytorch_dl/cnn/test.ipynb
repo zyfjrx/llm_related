{
 "cells": [
  {
   "cell_type": "code",
   "id": "initial_id",
   "metadata": {
    "collapsed": true,
    "ExecuteTime": {
     "end_time": "2025-06-13T02:12:34.451516Z",
     "start_time": "2025-06-13T02:12:34.447688Z"
    }
   },
   "source": [
    "import torch\n",
    "import torch.nn as nn"
   ],
   "outputs": [],
   "execution_count": 3
  },
  {
   "metadata": {
    "ExecuteTime": {
     "end_time": "2025-06-13T02:13:57.943984Z",
     "start_time": "2025-06-13T02:13:57.937263Z"
    }
   },
   "cell_type": "code",
   "source": [
    "input = torch.randn(1, 4, 224, 224)\n",
    "conv = nn.Conv2d(in_channels=4, out_channels=6, kernel_size=3, groups=2)\n",
    "output = conv(input)\n",
    "print(output.shape)\n",
    "print(conv.weight.shape)"
   ],
   "id": "233d6bd67264b45e",
   "outputs": [
    {
     "name": "stdout",
     "output_type": "stream",
     "text": [
      "torch.Size([1, 6, 222, 222])\n",
      "torch.Size([6, 2, 3, 3])\n"
     ]
    }
   ],
   "execution_count": 11
  }
 ],
 "metadata": {
  "kernelspec": {
   "display_name": "Python 3",
   "language": "python",
   "name": "python3"
  },
  "language_info": {
   "codemirror_mode": {
    "name": "ipython",
    "version": 2
   },
   "file_extension": ".py",
   "mimetype": "text/x-python",
   "name": "python",
   "nbconvert_exporter": "python",
   "pygments_lexer": "ipython2",
   "version": "2.7.6"
  }
 },
 "nbformat": 4,
 "nbformat_minor": 5
}
