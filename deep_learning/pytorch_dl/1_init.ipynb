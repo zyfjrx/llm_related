{
 "cells": [
  {
   "cell_type": "code",
   "id": "initial_id",
   "metadata": {
    "collapsed": true,
    "ExecuteTime": {
     "end_time": "2025-06-10T01:32:38.860335Z",
     "start_time": "2025-06-10T01:32:38.857435Z"
    }
   },
   "source": [
    "import torch\n",
    "import torch.nn as nn"
   ],
   "outputs": [],
   "execution_count": 7
  },
  {
   "metadata": {
    "ExecuteTime": {
     "end_time": "2025-06-10T01:32:40.751607Z",
     "start_time": "2025-06-10T01:32:40.746564Z"
    }
   },
   "cell_type": "code",
   "source": [
    "# 创建一个全连接层\n",
    "linear = nn.Linear(5, 3)\n",
    "print(linear.weight)\n",
    "print(linear.bias)"
   ],
   "id": "26fc16be817ea821",
   "outputs": [
    {
     "name": "stdout",
     "output_type": "stream",
     "text": [
      "Parameter containing:\n",
      "tensor([[ 0.0946, -0.0374, -0.1589, -0.3093, -0.0812],\n",
      "        [ 0.1635, -0.4408,  0.0441,  0.2878,  0.2440],\n",
      "        [ 0.0089, -0.4220, -0.0163, -0.0329, -0.2380]], requires_grad=True)\n",
      "Parameter containing:\n",
      "tensor([-0.2167,  0.3579, -0.3253], requires_grad=True)\n"
     ]
    }
   ],
   "execution_count": 8
  },
  {
   "metadata": {
    "ExecuteTime": {
     "end_time": "2025-06-10T01:32:43.145130Z",
     "start_time": "2025-06-10T01:32:43.141216Z"
    }
   },
   "cell_type": "code",
   "source": [
    "# 常数初始化\n",
    "nn.init.zeros_(linear.weight)\n",
    "print(linear.weight)"
   ],
   "id": "8a244d3dfbb78c46",
   "outputs": [
    {
     "name": "stdout",
     "output_type": "stream",
     "text": [
      "Parameter containing:\n",
      "tensor([[0., 0., 0., 0., 0.],\n",
      "        [0., 0., 0., 0., 0.],\n",
      "        [0., 0., 0., 0., 0.]], requires_grad=True)\n"
     ]
    }
   ],
   "execution_count": 9
  },
  {
   "metadata": {
    "ExecuteTime": {
     "end_time": "2025-06-10T01:32:44.929955Z",
     "start_time": "2025-06-10T01:32:44.925178Z"
    }
   },
   "cell_type": "code",
   "source": [
    "nn.init.ones_(linear.weight)\n",
    "print(linear.weight)\n",
    "nn.init.constant_(linear.bias, 10)\n",
    "print(linear.bias)"
   ],
   "id": "101fdb6b806c33f9",
   "outputs": [
    {
     "name": "stdout",
     "output_type": "stream",
     "text": [
      "Parameter containing:\n",
      "tensor([[1., 1., 1., 1., 1.],\n",
      "        [1., 1., 1., 1., 1.],\n",
      "        [1., 1., 1., 1., 1.]], requires_grad=True)\n",
      "Parameter containing:\n",
      "tensor([10., 10., 10.], requires_grad=True)\n"
     ]
    }
   ],
   "execution_count": 10
  },
  {
   "metadata": {
    "ExecuteTime": {
     "end_time": "2025-06-10T01:37:42.003715Z",
     "start_time": "2025-06-10T01:37:41.998058Z"
    }
   },
   "cell_type": "code",
   "source": [
    "# 秩初始化\n",
    "nn.init.eye_(linear.weight)\n",
    "print(linear.weight)"
   ],
   "id": "8ca2376f65b4e9e2",
   "outputs": [
    {
     "name": "stdout",
     "output_type": "stream",
     "text": [
      "Parameter containing:\n",
      "tensor([[1., 0., 0., 0., 0.],\n",
      "        [0., 1., 0., 0., 0.],\n",
      "        [0., 0., 1., 0., 0.]], requires_grad=True)\n"
     ]
    }
   ],
   "execution_count": 11
  },
  {
   "metadata": {
    "ExecuteTime": {
     "end_time": "2025-06-10T01:38:52.477911Z",
     "start_time": "2025-06-10T01:38:52.473678Z"
    }
   },
   "cell_type": "code",
   "source": [
    "# 均匀分布初始化\n",
    "nn.init.uniform_(linear.weight,1,10)\n",
    "print(linear.weight)"
   ],
   "id": "5601f6b3f12dee4d",
   "outputs": [
    {
     "name": "stdout",
     "output_type": "stream",
     "text": [
      "Parameter containing:\n",
      "tensor([[4.6065, 1.1922, 2.9914, 6.5495, 7.7298],\n",
      "        [9.7590, 1.0824, 2.6063, 7.1073, 3.3291],\n",
      "        [3.3163, 2.5998, 7.4129, 6.4681, 4.5870]], requires_grad=True)\n"
     ]
    }
   ],
   "execution_count": 12
  },
  {
   "metadata": {
    "ExecuteTime": {
     "end_time": "2025-06-10T01:40:53.523553Z",
     "start_time": "2025-06-10T01:40:53.518816Z"
    }
   },
   "cell_type": "code",
   "source": [
    "# 正态分布初始化\n",
    "nn.init.normal_(linear.weight,0,1)\n",
    "print(linear.weight)"
   ],
   "id": "712107837c6a9fca",
   "outputs": [
    {
     "name": "stdout",
     "output_type": "stream",
     "text": [
      "Parameter containing:\n",
      "tensor([[ 0.4402, -1.6226, -1.8237,  0.3244,  1.9876],\n",
      "        [ 0.1010,  1.0487,  0.0201, -0.7183, -0.2411],\n",
      "        [ 1.5307, -1.6687,  0.8002,  0.3808, -0.9955]], requires_grad=True)\n"
     ]
    }
   ],
   "execution_count": 15
  },
  {
   "metadata": {
    "ExecuteTime": {
     "end_time": "2025-06-10T01:44:32.055290Z",
     "start_time": "2025-06-10T01:44:32.050557Z"
    }
   },
   "cell_type": "code",
   "source": [
    "# Xavier初始化,sigmoid,tanh\n",
    "nn.init.xavier_uniform_(linear.weight)\n",
    "print(linear.weight)\n",
    "nn.init.xavier_normal_(linear.weight)\n",
    "print(linear.weight)"
   ],
   "id": "162799472998f9c5",
   "outputs": [
    {
     "name": "stdout",
     "output_type": "stream",
     "text": [
      "Parameter containing:\n",
      "tensor([[ 0.0042,  0.8244, -0.7749, -0.4626,  0.2141],\n",
      "        [ 0.3398,  0.0605,  0.2337,  0.2229, -0.2162],\n",
      "        [ 0.0174, -0.1853, -0.3792, -0.8420,  0.0477]], requires_grad=True)\n",
      "Parameter containing:\n",
      "tensor([[-0.2568, -1.7612,  0.9393,  0.0223, -0.4874],\n",
      "        [ 0.1219, -0.0469,  0.1323,  0.3556, -0.2878],\n",
      "        [-0.2045, -0.1441,  0.2915,  0.0393, -0.2106]], requires_grad=True)\n"
     ]
    }
   ],
   "execution_count": 18
  },
  {
   "metadata": {
    "ExecuteTime": {
     "end_time": "2025-06-10T01:49:54.513871Z",
     "start_time": "2025-06-10T01:49:54.509486Z"
    }
   },
   "cell_type": "code",
   "source": [
    "# He初始化\n",
    "nn.init.kaiming_uniform_(linear.weight)\n",
    "print(linear.weight)\n",
    "nn.init.kaiming_normal_(linear.weight)\n",
    "print(linear.weight)"
   ],
   "id": "2c9cd88ffe8e5d40",
   "outputs": [
    {
     "name": "stdout",
     "output_type": "stream",
     "text": [
      "Parameter containing:\n",
      "tensor([[ 0.8745, -0.5387, -0.0124, -0.3493, -0.3877],\n",
      "        [-0.6336,  0.6090,  0.5066, -0.9484, -0.7688],\n",
      "        [-0.4397, -0.6047, -0.5716, -0.0766,  0.2943]], requires_grad=True)\n",
      "Parameter containing:\n",
      "tensor([[-0.4472,  0.4417,  0.1503, -0.0649, -0.7737],\n",
      "        [ 0.3261, -0.0376,  1.0120,  0.2850,  0.2270],\n",
      "        [-0.7350, -0.5819,  0.2944, -0.0222,  0.3700]], requires_grad=True)\n"
     ]
    }
   ],
   "execution_count": 21
  }
 ],
 "metadata": {
  "kernelspec": {
   "display_name": "Python 3",
   "language": "python",
   "name": "python3"
  },
  "language_info": {
   "codemirror_mode": {
    "name": "ipython",
    "version": 2
   },
   "file_extension": ".py",
   "mimetype": "text/x-python",
   "name": "python",
   "nbconvert_exporter": "python",
   "pygments_lexer": "ipython2",
   "version": "2.7.6"
  }
 },
 "nbformat": 4,
 "nbformat_minor": 5
}
