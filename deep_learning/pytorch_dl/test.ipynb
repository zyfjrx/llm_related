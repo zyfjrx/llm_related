{
 "cells": [
  {
   "cell_type": "code",
   "id": "initial_id",
   "metadata": {
    "collapsed": true,
    "ExecuteTime": {
     "end_time": "2025-06-17T01:16:05.256656Z",
     "start_time": "2025-06-17T01:16:04.135870Z"
    }
   },
   "source": [
    "import pandas as pd\n",
    "from sklearn.preprocessing import OneHotEncoder"
   ],
   "outputs": [],
   "execution_count": 1
  },
  {
   "metadata": {
    "ExecuteTime": {
     "end_time": "2025-06-11T07:59:18.121742Z",
     "start_time": "2025-06-11T07:59:18.117513Z"
    }
   },
   "cell_type": "code",
   "source": [
    "\n",
    "\n",
    "# 示例数据（包含两个类别特征）\n",
    "data = pd.DataFrame({\n",
    "    \"Color\": [\"Red\", \"Green\", \"Blue\", \"Green\"],\n",
    "    \"Size\": [\"S\", \"M\", \"L\", \"S\"]\n",
    "})\n",
    "print(\"原始数据:\\n\", data)"
   ],
   "id": "feb6e6496960cb8b",
   "outputs": [
    {
     "name": "stdout",
     "output_type": "stream",
     "text": [
      "原始数据:\n",
      "    Color Size\n",
      "0    Red    S\n",
      "1  Green    M\n",
      "2   Blue    L\n",
      "3  Green    S\n"
     ]
    }
   ],
   "execution_count": 3
  },
  {
   "metadata": {
    "ExecuteTime": {
     "end_time": "2025-06-11T07:59:50.878745Z",
     "start_time": "2025-06-11T07:59:50.870875Z"
    }
   },
   "cell_type": "code",
   "source": [
    "encoder = OneHotEncoder()  # 默认 sparse=True\n",
    "encoded_sparse = encoder.fit_transform(data)\n",
    "print(\"\\n独热编码后（稀疏矩阵）:\\n\", encoded_sparse)"
   ],
   "id": "e6877d441adf02ea",
   "outputs": [
    {
     "name": "stdout",
     "output_type": "stream",
     "text": [
      "\n",
      "独热编码后（稀疏矩阵）:\n",
      " <Compressed Sparse Row sparse matrix of dtype 'float64'\n",
      "\twith 8 stored elements and shape (4, 6)>\n",
      "  Coords\tValues\n",
      "  (0, 2)\t1.0\n",
      "  (0, 5)\t1.0\n",
      "  (1, 1)\t1.0\n",
      "  (1, 4)\t1.0\n",
      "  (2, 0)\t1.0\n",
      "  (2, 3)\t1.0\n",
      "  (3, 1)\t1.0\n",
      "  (3, 5)\t1.0\n"
     ]
    }
   ],
   "execution_count": 5
  },
  {
   "metadata": {
    "ExecuteTime": {
     "end_time": "2025-06-11T08:00:37.312573Z",
     "start_time": "2025-06-11T08:00:37.307263Z"
    }
   },
   "cell_type": "code",
   "source": "print(\"\\n独热编码后（稠密矩阵）:\\n\", encoded_sparse.toarray())",
   "id": "ded3fe216b985df9",
   "outputs": [
    {
     "name": "stdout",
     "output_type": "stream",
     "text": [
      "\n",
      "独热编码后（稠密矩阵）:\n",
      " [[0. 0. 1. 0. 0. 1.]\n",
      " [0. 1. 0. 0. 1. 0.]\n",
      " [1. 0. 0. 1. 0. 0.]\n",
      " [0. 1. 0. 0. 0. 1.]]\n"
     ]
    }
   ],
   "execution_count": 6
  }
 ],
 "metadata": {
  "kernelspec": {
   "display_name": "Python 3",
   "language": "python",
   "name": "python3"
  },
  "language_info": {
   "codemirror_mode": {
    "name": "ipython",
    "version": 2
   },
   "file_extension": ".py",
   "mimetype": "text/x-python",
   "name": "python",
   "nbconvert_exporter": "python",
   "pygments_lexer": "ipython2",
   "version": "2.7.6"
  }
 },
 "nbformat": 4,
 "nbformat_minor": 5
}
