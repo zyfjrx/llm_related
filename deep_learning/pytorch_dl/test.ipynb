{
 "cells": [
  {
   "cell_type": "code",
   "id": "initial_id",
   "metadata": {
    "collapsed": true,
    "ExecuteTime": {
     "end_time": "2025-06-10T01:34:42.955786Z",
     "start_time": "2025-06-10T01:34:42.292985Z"
    }
   },
   "source": [
    "import torch\n",
    "import torch.nn as nn"
   ],
   "outputs": [],
   "execution_count": 1
  },
  {
   "metadata": {
    "ExecuteTime": {
     "end_time": "2025-06-10T01:36:11.789412Z",
     "start_time": "2025-06-10T01:36:11.783446Z"
    }
   },
   "cell_type": "code",
   "source": [
    "x = torch.randn(8,5)\n",
    "x , x.shape"
   ],
   "id": "feb6e6496960cb8b",
   "outputs": [
    {
     "data": {
      "text/plain": [
       "(tensor([[ 0.8213,  1.2174, -1.0613, -1.8471, -0.6252],\n",
       "         [ 0.1420, -0.2101,  1.0971, -0.9929, -1.3113],\n",
       "         [ 0.5053, -0.7082,  2.0381,  0.3089,  2.0408],\n",
       "         [ 0.1785, -0.6236,  1.0937, -0.1870, -0.7687],\n",
       "         [ 1.1002,  0.7489, -0.9418, -0.3735,  2.4158],\n",
       "         [ 1.0445, -1.2888,  2.2288,  1.2184, -0.3766],\n",
       "         [-0.3786, -1.3708,  1.4096, -0.7235,  0.7896],\n",
       "         [ 0.7227, -0.1606,  1.0598,  1.4248, -0.3318]]),\n",
       " torch.Size([8, 5]))"
      ]
     },
     "execution_count": 5,
     "metadata": {},
     "output_type": "execute_result"
    }
   ],
   "execution_count": 5
  },
  {
   "metadata": {
    "ExecuteTime": {
     "end_time": "2025-06-10T01:36:14.061983Z",
     "start_time": "2025-06-10T01:36:14.057804Z"
    }
   },
   "cell_type": "code",
   "source": [
    "model = nn.Linear(5,3)\n",
    "y = model(x)\n",
    "y.shape"
   ],
   "id": "e6877d441adf02ea",
   "outputs": [
    {
     "data": {
      "text/plain": [
       "torch.Size([8, 3])"
      ]
     },
     "execution_count": 6,
     "metadata": {},
     "output_type": "execute_result"
    }
   ],
   "execution_count": 6
  }
 ],
 "metadata": {
  "kernelspec": {
   "display_name": "Python 3",
   "language": "python",
   "name": "python3"
  },
  "language_info": {
   "codemirror_mode": {
    "name": "ipython",
    "version": 2
   },
   "file_extension": ".py",
   "mimetype": "text/x-python",
   "name": "python",
   "nbconvert_exporter": "python",
   "pygments_lexer": "ipython2",
   "version": "2.7.6"
  }
 },
 "nbformat": 4,
 "nbformat_minor": 5
}
