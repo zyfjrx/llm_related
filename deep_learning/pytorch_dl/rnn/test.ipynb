{
 "cells": [
  {
   "cell_type": "code",
   "id": "initial_id",
   "metadata": {
    "collapsed": true,
    "ExecuteTime": {
     "end_time": "2025-06-13T08:05:22.176140Z",
     "start_time": "2025-06-13T08:05:21.474884Z"
    }
   },
   "source": [
    "import torch\n",
    "import torch.nn.functional as F"
   ],
   "outputs": [],
   "execution_count": 1
  },
  {
   "metadata": {
    "ExecuteTime": {
     "end_time": "2025-06-13T08:19:30.846778Z",
     "start_time": "2025-06-13T08:19:30.843428Z"
    }
   },
   "cell_type": "code",
   "source": [
    "input = torch.tensor([1, 2, 4, 5])\n",
    "print(input)"
   ],
   "id": "475aa01f3ba12fe2",
   "outputs": [
    {
     "name": "stdout",
     "output_type": "stream",
     "text": [
      "tensor([1, 2, 4, 5])\n"
     ]
    }
   ],
   "execution_count": 6
  },
  {
   "metadata": {
    "ExecuteTime": {
     "end_time": "2025-06-13T08:20:36.262672Z",
     "start_time": "2025-06-13T08:20:36.258418Z"
    }
   },
   "cell_type": "code",
   "source": [
    "embedding_matrix = torch.rand(10, 5)\n",
    "print(embedding_matrix)"
   ],
   "id": "6d3d7ea2f6fbceab",
   "outputs": [
    {
     "name": "stdout",
     "output_type": "stream",
     "text": [
      "tensor([[0.0912, 0.1341, 0.9783, 0.3969, 0.7494],\n",
      "        [0.8093, 0.9033, 0.6525, 0.1428, 0.4108],\n",
      "        [0.5197, 0.7564, 0.1403, 0.3182, 0.4999],\n",
      "        [0.7233, 0.5544, 0.3165, 0.3851, 0.8643],\n",
      "        [0.9165, 0.4910, 0.1502, 0.3187, 0.7640],\n",
      "        [0.4307, 0.2520, 0.3692, 0.6025, 0.6987],\n",
      "        [0.3467, 0.7403, 0.4470, 0.4605, 0.4010],\n",
      "        [0.4169, 0.1179, 0.5758, 0.4207, 0.1724],\n",
      "        [0.7006, 0.3475, 0.1625, 0.6716, 0.3205],\n",
      "        [0.1631, 0.0638, 0.5662, 0.4105, 0.1039]])\n"
     ]
    }
   ],
   "execution_count": 9
  },
  {
   "metadata": {
    "ExecuteTime": {
     "end_time": "2025-06-13T08:20:38.426870Z",
     "start_time": "2025-06-13T08:20:38.423032Z"
    }
   },
   "cell_type": "code",
   "source": [
    "out = F.embedding(input, embedding_matrix)\n",
    "print(out)"
   ],
   "id": "13c03fc7fbc2f241",
   "outputs": [
    {
     "name": "stdout",
     "output_type": "stream",
     "text": [
      "tensor([[0.8093, 0.9033, 0.6525, 0.1428, 0.4108],\n",
      "        [0.5197, 0.7564, 0.1403, 0.3182, 0.4999],\n",
      "        [0.9165, 0.4910, 0.1502, 0.3187, 0.7640],\n",
      "        [0.4307, 0.2520, 0.3692, 0.6025, 0.6987]])\n"
     ]
    }
   ],
   "execution_count": 10
  },
  {
   "metadata": {
    "ExecuteTime": {
     "end_time": "2025-06-16T02:03:56.720392Z",
     "start_time": "2025-06-16T02:03:56.717022Z"
    }
   },
   "cell_type": "code",
   "source": [
    "\n",
    "for i in range(0,100-10):\n",
    "    print(i)"
   ],
   "id": "9859197a01c67aef",
   "outputs": [
    {
     "name": "stdout",
     "output_type": "stream",
     "text": [
      "0\n",
      "1\n",
      "2\n",
      "3\n",
      "4\n",
      "5\n",
      "6\n",
      "7\n",
      "8\n",
      "9\n",
      "10\n",
      "11\n",
      "12\n",
      "13\n",
      "14\n",
      "15\n",
      "16\n",
      "17\n",
      "18\n",
      "19\n",
      "20\n",
      "21\n",
      "22\n",
      "23\n",
      "24\n",
      "25\n",
      "26\n",
      "27\n",
      "28\n",
      "29\n",
      "30\n",
      "31\n",
      "32\n",
      "33\n",
      "34\n",
      "35\n",
      "36\n",
      "37\n",
      "38\n",
      "39\n",
      "40\n",
      "41\n",
      "42\n",
      "43\n",
      "44\n",
      "45\n",
      "46\n",
      "47\n",
      "48\n",
      "49\n",
      "50\n",
      "51\n",
      "52\n",
      "53\n",
      "54\n",
      "55\n",
      "56\n",
      "57\n",
      "58\n",
      "59\n",
      "60\n",
      "61\n",
      "62\n",
      "63\n",
      "64\n",
      "65\n",
      "66\n",
      "67\n",
      "68\n",
      "69\n",
      "70\n",
      "71\n",
      "72\n",
      "73\n",
      "74\n",
      "75\n",
      "76\n",
      "77\n",
      "78\n",
      "79\n",
      "80\n",
      "81\n",
      "82\n",
      "83\n",
      "84\n",
      "85\n",
      "86\n",
      "87\n",
      "88\n",
      "89\n"
     ]
    }
   ],
   "execution_count": 16
  }
 ],
 "metadata": {
  "kernelspec": {
   "display_name": "Python 3",
   "language": "python",
   "name": "python3"
  },
  "language_info": {
   "codemirror_mode": {
    "name": "ipython",
    "version": 2
   },
   "file_extension": ".py",
   "mimetype": "text/x-python",
   "name": "python",
   "nbconvert_exporter": "python",
   "pygments_lexer": "ipython2",
   "version": "2.7.6"
  }
 },
 "nbformat": 4,
 "nbformat_minor": 5
}
