{
 "cells": [
  {
   "cell_type": "code",
   "id": "initial_id",
   "metadata": {
    "collapsed": true,
    "ExecuteTime": {
     "end_time": "2025-06-10T08:37:38.836824Z",
     "start_time": "2025-06-10T08:37:38.029099Z"
    }
   },
   "source": [
    "import torch\n",
    "import torch.nn as nn"
   ],
   "outputs": [],
   "execution_count": 1
  },
  {
   "metadata": {
    "ExecuteTime": {
     "end_time": "2025-06-10T08:38:23.949368Z",
     "start_time": "2025-06-10T08:38:23.939976Z"
    }
   },
   "cell_type": "code",
   "source": [
    "x = torch.randn(3,5)\n",
    "t = torch.randn(3,5)\n",
    "print(x)\n",
    "print(t)"
   ],
   "id": "a255cb36fed00746",
   "outputs": [
    {
     "name": "stdout",
     "output_type": "stream",
     "text": [
      "tensor([[-0.0143, -1.3282, -0.0871,  0.3567, -1.8631],\n",
      "        [ 0.9545, -0.4228,  0.3272, -0.6289, -0.2587],\n",
      "        [-1.6179, -0.8632, -0.9608,  0.6139,  0.4732]])\n",
      "tensor([[ 1.0731,  0.3442,  0.6410, -0.6235,  1.5864],\n",
      "        [-1.1429,  0.6451, -0.3869, -0.4622,  0.9681],\n",
      "        [-0.1465, -1.1365,  0.5499, -0.7218,  0.5330]])\n"
     ]
    }
   ],
   "execution_count": 2
  },
  {
   "metadata": {
    "ExecuteTime": {
     "end_time": "2025-06-10T08:38:49.720301Z",
     "start_time": "2025-06-10T08:38:49.715002Z"
    }
   },
   "cell_type": "code",
   "source": [
    "loss = nn.L1Loss()\n",
    "print(loss(x,t))"
   ],
   "id": "fda1621a66464bb6",
   "outputs": [
    {
     "name": "stdout",
     "output_type": "stream",
     "text": [
      "tensor(1.1894)\n"
     ]
    }
   ],
   "execution_count": 3
  },
  {
   "metadata": {
    "ExecuteTime": {
     "end_time": "2025-06-10T08:41:17.829488Z",
     "start_time": "2025-06-10T08:41:17.824283Z"
    }
   },
   "cell_type": "code",
   "source": [
    "loss = nn.MSELoss()\n",
    "print(loss(x,t))"
   ],
   "id": "ec19c736e716bc5a",
   "outputs": [
    {
     "name": "stdout",
     "output_type": "stream",
     "text": [
      "tensor(2.0841)\n"
     ]
    }
   ],
   "execution_count": 4
  },
  {
   "metadata": {
    "ExecuteTime": {
     "end_time": "2025-06-10T08:49:12.853533Z",
     "start_time": "2025-06-10T08:49:12.848067Z"
    }
   },
   "cell_type": "code",
   "source": [
    "loss = nn.SmoothL1Loss()\n",
    "print(loss(x,t))"
   ],
   "id": "e458120531fab098",
   "outputs": [
    {
     "name": "stdout",
     "output_type": "stream",
     "text": [
      "tensor(0.7649)\n"
     ]
    }
   ],
   "execution_count": 5
  }
 ],
 "metadata": {
  "kernelspec": {
   "display_name": "Python 3",
   "language": "python",
   "name": "python3"
  },
  "language_info": {
   "codemirror_mode": {
    "name": "ipython",
    "version": 2
   },
   "file_extension": ".py",
   "mimetype": "text/x-python",
   "name": "python",
   "nbconvert_exporter": "python",
   "pygments_lexer": "ipython2",
   "version": "2.7.6"
  }
 },
 "nbformat": 4,
 "nbformat_minor": 5
}
