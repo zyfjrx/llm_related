{
 "cells": [
  {
   "cell_type": "code",
   "id": "initial_id",
   "metadata": {
    "collapsed": true,
    "ExecuteTime": {
     "end_time": "2025-06-10T07:38:51.193082Z",
     "start_time": "2025-06-10T07:38:50.379290Z"
    }
   },
   "source": [
    "import torch\n",
    "import torch.nn as nn"
   ],
   "execution_count": 1,
   "outputs": []
  },
  {
   "metadata": {
    "ExecuteTime": {
     "end_time": "2025-06-10T07:41:30.895385Z",
     "start_time": "2025-06-10T07:41:30.887208Z"
    }
   },
   "cell_type": "code",
   "source": [
    "# 真实值为类别标签\n",
    "x = torch.randn(6,8)\n",
    "print(x)"
   ],
   "id": "92e74fe149cf6761",
   "outputs": [
    {
     "name": "stdout",
     "output_type": "stream",
     "text": [
      "tensor([[-0.0519,  0.7648,  0.2926, -0.1297, -1.3882, -0.4408,  0.8794, -0.4996],\n",
      "        [-1.6943,  2.1995, -0.5997,  2.7545, -0.4448, -0.5698,  0.3188,  0.0243],\n",
      "        [ 0.7518,  0.3118,  2.3548,  0.6190, -1.5618, -0.0761,  0.4617, -0.7625],\n",
      "        [-1.3390,  0.2154, -0.1609,  0.3060, -1.2829,  0.3233, -2.4025,  0.6526],\n",
      "        [ 0.1053,  0.4047,  0.7887,  0.5437, -0.2777,  1.4144, -1.0145,  0.6834],\n",
      "        [-2.0725,  0.3548,  0.6574,  0.5259, -0.8719,  0.6562,  0.0587, -0.5493]])\n"
     ]
    }
   ],
   "execution_count": 2
  },
  {
   "metadata": {
    "ExecuteTime": {
     "end_time": "2025-06-10T07:42:13.348532Z",
     "start_time": "2025-06-10T07:42:13.343784Z"
    }
   },
   "cell_type": "code",
   "source": [
    "t = torch.tensor([1,0,3,2,5,7])\n",
    "print(t)"
   ],
   "id": "6703fba168d9222a",
   "outputs": [
    {
     "name": "stdout",
     "output_type": "stream",
     "text": [
      "tensor([1, 0, 3, 2, 5, 7])\n"
     ]
    }
   ],
   "execution_count": 3
  },
  {
   "metadata": {
    "ExecuteTime": {
     "end_time": "2025-06-10T07:42:27.509636Z",
     "start_time": "2025-06-10T07:42:27.501212Z"
    }
   },
   "cell_type": "code",
   "source": [
    "loss = nn.CrossEntropyLoss()\n",
    "print(loss(x,t))"
   ],
   "id": "3694c93fb72800bb",
   "outputs": [
    {
     "name": "stdout",
     "output_type": "stream",
     "text": [
      "tensor(2.4968)\n"
     ]
    }
   ],
   "execution_count": 4
  },
  {
   "metadata": {
    "ExecuteTime": {
     "end_time": "2025-06-10T07:59:02.486870Z",
     "start_time": "2025-06-10T07:59:02.481661Z"
    }
   },
   "cell_type": "code",
   "source": [
    "t = torch.randn(6,8).softmax(dim=1)\n",
    "print(t)"
   ],
   "id": "3240e9e7ebcae6e3",
   "outputs": [
    {
     "name": "stdout",
     "output_type": "stream",
     "text": [
      "tensor([[0.1234, 0.0689, 0.0346, 0.0499, 0.3289, 0.2063, 0.1427, 0.0453],\n",
      "        [0.0051, 0.1160, 0.1514, 0.0811, 0.0735, 0.0253, 0.5365, 0.0111],\n",
      "        [0.0324, 0.0122, 0.0759, 0.0662, 0.6304, 0.0567, 0.0841, 0.0419],\n",
      "        [0.0260, 0.0797, 0.0527, 0.0400, 0.1644, 0.4932, 0.0525, 0.0915],\n",
      "        [0.0038, 0.1160, 0.0682, 0.3812, 0.0212, 0.0869, 0.1407, 0.1821],\n",
      "        [0.0475, 0.4923, 0.0802, 0.0572, 0.0079, 0.0987, 0.0695, 0.1468]])\n"
     ]
    }
   ],
   "execution_count": 5
  },
  {
   "metadata": {
    "ExecuteTime": {
     "end_time": "2025-06-10T07:59:20.104401Z",
     "start_time": "2025-06-10T07:59:20.098473Z"
    }
   },
   "cell_type": "code",
   "source": "print(loss(x,t))",
   "id": "31c595a6fc07a702",
   "outputs": [
    {
     "name": "stdout",
     "output_type": "stream",
     "text": [
      "tensor(2.5973)\n"
     ]
    }
   ],
   "execution_count": 6
  },
  {
   "metadata": {
    "ExecuteTime": {
     "end_time": "2025-06-10T08:13:42.750660Z",
     "start_time": "2025-06-10T08:13:42.743909Z"
    }
   },
   "cell_type": "code",
   "source": [
    "input = torch.randn(6,8)\n",
    "print(input)\n",
    "target = torch.randint(8,(6,))\n",
    "print(target)"
   ],
   "id": "f3c311e56bf4afcc",
   "outputs": [
    {
     "name": "stdout",
     "output_type": "stream",
     "text": [
      "tensor([[-1.1430, -0.0423, -0.2064,  0.3304, -0.9084,  0.2285, -1.8029, -1.3991],\n",
      "        [ 0.6710,  1.7226,  1.0864, -0.3117,  1.1142,  0.6946, -0.6056, -0.2967],\n",
      "        [-1.1369,  0.2617, -0.6408,  0.7530, -0.0324,  1.3238, -0.6463, -0.7071],\n",
      "        [-1.3182,  0.8149, -0.3991,  0.2470,  0.3224,  0.3263, -0.6876, -0.2677],\n",
      "        [-0.6128, -0.2937,  0.1444, -1.2280, -1.0117,  0.6214,  1.2100,  0.3226],\n",
      "        [-0.6424,  0.2140,  0.1141,  0.2005,  0.7151,  0.3913, -0.1709, -0.8651]])\n",
      "tensor([0, 4, 0, 4, 1, 6])\n"
     ]
    }
   ],
   "execution_count": 12
  },
  {
   "metadata": {
    "ExecuteTime": {
     "end_time": "2025-06-10T08:14:05.788393Z",
     "start_time": "2025-06-10T08:14:05.781398Z"
    }
   },
   "cell_type": "code",
   "source": [
    "loss = nn.CrossEntropyLoss()\n",
    "print(loss(input,target))"
   ],
   "id": "b7ea7beddc88f75d",
   "outputs": [
    {
     "name": "stdout",
     "output_type": "stream",
     "text": [
      "tensor(2.4654)\n"
     ]
    }
   ],
   "execution_count": 13
  },
  {
   "metadata": {
    "ExecuteTime": {
     "end_time": "2025-06-10T08:18:16.160040Z",
     "start_time": "2025-06-10T08:18:16.153942Z"
    }
   },
   "cell_type": "code",
   "source": [
    "loss1 = nn.LogSoftmax(dim=1)\n",
    "y = loss1(input)\n",
    "loss2 = nn.NLLLoss()\n",
    "print(loss2(y,target))"
   ],
   "id": "d2c57d27317a6258",
   "outputs": [
    {
     "name": "stdout",
     "output_type": "stream",
     "text": [
      "tensor(2.4654)\n"
     ]
    }
   ],
   "execution_count": 14
  }
 ],
 "metadata": {
  "kernelspec": {
   "display_name": "Python 3",
   "language": "python",
   "name": "python3"
  },
  "language_info": {
   "codemirror_mode": {
    "name": "ipython",
    "version": 2
   },
   "file_extension": ".py",
   "mimetype": "text/x-python",
   "name": "python",
   "nbconvert_exporter": "python",
   "pygments_lexer": "ipython2",
   "version": "2.7.6"
  }
 },
 "nbformat": 4,
 "nbformat_minor": 5
}
