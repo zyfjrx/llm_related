{
 "cells": [
  {
   "cell_type": "code",
   "id": "initial_id",
   "metadata": {
    "collapsed": true,
    "ExecuteTime": {
     "end_time": "2025-06-10T07:21:50.962786Z",
     "start_time": "2025-06-10T07:21:50.166574Z"
    }
   },
   "source": [
    "import torch\n",
    "import torch.nn as nn"
   ],
   "outputs": [],
   "execution_count": 1
  },
  {
   "metadata": {
    "ExecuteTime": {
     "end_time": "2025-06-10T07:29:14.507684Z",
     "start_time": "2025-06-10T07:29:14.502238Z"
    }
   },
   "cell_type": "code",
   "source": [
    "x = torch.randn(3,2)\n",
    "print(x)"
   ],
   "id": "f9ccfc68709b97c1",
   "outputs": [
    {
     "name": "stdout",
     "output_type": "stream",
     "text": [
      "tensor([[ 1.2343, -1.1428],\n",
      "        [-1.0701,  0.2306],\n",
      "        [ 0.4816,  1.2205]])\n"
     ]
    }
   ],
   "execution_count": 17
  },
  {
   "metadata": {
    "ExecuteTime": {
     "end_time": "2025-06-10T07:29:17.064118Z",
     "start_time": "2025-06-10T07:29:17.057598Z"
    }
   },
   "cell_type": "code",
   "source": [
    "t = torch.tensor([[0,1],[1,0],[0,1]],dtype=torch.float32)\n",
    "print(t)"
   ],
   "id": "b0ee7491fe99e0c9",
   "outputs": [
    {
     "name": "stdout",
     "output_type": "stream",
     "text": [
      "tensor([[0., 1.],\n",
      "        [1., 0.],\n",
      "        [0., 1.]])\n"
     ]
    }
   ],
   "execution_count": 18
  },
  {
   "metadata": {
    "ExecuteTime": {
     "end_time": "2025-06-10T07:29:18.928616Z",
     "start_time": "2025-06-10T07:29:18.923091Z"
    }
   },
   "cell_type": "code",
   "source": [
    "y = torch.sigmoid(x)\n",
    "print(y)"
   ],
   "id": "f9d18596f8a4ea1e",
   "outputs": [
    {
     "name": "stdout",
     "output_type": "stream",
     "text": [
      "tensor([[0.7746, 0.2418],\n",
      "        [0.2554, 0.5574],\n",
      "        [0.6181, 0.7722]])\n"
     ]
    }
   ],
   "execution_count": 19
  },
  {
   "metadata": {
    "ExecuteTime": {
     "end_time": "2025-06-10T07:29:26.085816Z",
     "start_time": "2025-06-10T07:29:26.079768Z"
    }
   },
   "cell_type": "code",
   "source": [
    "loss = nn.BCELoss()\n",
    "print(loss(y,t))"
   ],
   "id": "cbc882050f74a89e",
   "outputs": [
    {
     "name": "stdout",
     "output_type": "stream",
     "text": [
      "tensor(1.0518)\n"
     ]
    }
   ],
   "execution_count": 20
  }
 ],
 "metadata": {
  "kernelspec": {
   "display_name": "Python 3",
   "language": "python",
   "name": "python3"
  },
  "language_info": {
   "codemirror_mode": {
    "name": "ipython",
    "version": 2
   },
   "file_extension": ".py",
   "mimetype": "text/x-python",
   "name": "python",
   "nbconvert_exporter": "python",
   "pygments_lexer": "ipython2",
   "version": "2.7.6"
  }
 },
 "nbformat": 4,
 "nbformat_minor": 5
}
