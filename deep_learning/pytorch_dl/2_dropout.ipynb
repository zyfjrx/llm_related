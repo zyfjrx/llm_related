{
 "cells": [
  {
   "cell_type": "code",
   "id": "initial_id",
   "metadata": {
    "collapsed": true,
    "ExecuteTime": {
     "end_time": "2025-06-10T06:23:58.358849Z",
     "start_time": "2025-06-10T06:23:57.567239Z"
    }
   },
   "source": [
    "import torch\n",
    "import torch.nn as nn"
   ],
   "outputs": [],
   "execution_count": 2
  },
  {
   "metadata": {
    "ExecuteTime": {
     "end_time": "2025-06-10T02:02:07.949249Z",
     "start_time": "2025-06-10T02:02:07.944558Z"
    }
   },
   "cell_type": "code",
   "source": [
    "x = torch.randint(1,10,size=(10,),dtype=torch.float)\n",
    "print(x)"
   ],
   "id": "2a0d97426012cfe9",
   "outputs": [
    {
     "name": "stdout",
     "output_type": "stream",
     "text": [
      "tensor([5., 3., 7., 1., 6., 1., 3., 2., 6., 3.])\n"
     ]
    }
   ],
   "execution_count": 13
  },
  {
   "metadata": {
    "ExecuteTime": {
     "end_time": "2025-06-10T02:02:13.319924Z",
     "start_time": "2025-06-10T02:02:13.315403Z"
    }
   },
   "cell_type": "code",
   "source": [
    "dropout = nn.Dropout(0.5)\n",
    "print(dropout(x))"
   ],
   "id": "d0ae2820cd42ba97",
   "outputs": [
    {
     "name": "stdout",
     "output_type": "stream",
     "text": [
      "tensor([ 0.,  0.,  0.,  0., 12.,  2.,  6.,  4.,  0.,  6.])\n"
     ]
    }
   ],
   "execution_count": 15
  },
  {
   "metadata": {
    "ExecuteTime": {
     "end_time": "2025-06-10T06:25:31.956054Z",
     "start_time": "2025-06-10T06:25:31.946314Z"
    }
   },
   "cell_type": "code",
   "source": [
    "x = torch.rand(10,3)\n",
    "x = x.to(\"cuda\")\n",
    "print(x.device)"
   ],
   "id": "236fe7de0a19319d",
   "outputs": [
    {
     "name": "stdout",
     "output_type": "stream",
     "text": [
      "cuda:0\n"
     ]
    }
   ],
   "execution_count": 6
  }
 ],
 "metadata": {
  "kernelspec": {
   "display_name": "Python 3",
   "language": "python",
   "name": "python3"
  },
  "language_info": {
   "codemirror_mode": {
    "name": "ipython",
    "version": 2
   },
   "file_extension": ".py",
   "mimetype": "text/x-python",
   "name": "python",
   "nbconvert_exporter": "python",
   "pygments_lexer": "ipython2",
   "version": "2.7.6"
  }
 },
 "nbformat": 4,
 "nbformat_minor": 5
}
